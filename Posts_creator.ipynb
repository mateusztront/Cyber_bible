{
 "cells": [
  {
   "cell_type": "code",
   "execution_count": 1,
   "metadata": {},
   "outputs": [],
   "source": [
    "import requests\n",
    "from bs4 import BeautifulSoup\n",
    "from PIL import Image, ImageDraw, ImageFont\n",
    "import copy\n",
    "import textwrap\n",
    "from pathlib import WindowsPath\n",
    "from datetime import date\n",
    "import os\n"
   ]
  },
  {
   "cell_type": "code",
   "execution_count": 2,
   "metadata": {},
   "outputs": [],
   "source": [
    "today = date.today()\n",
    "# today = '2024-01-07'"
   ]
  },
  {
   "cell_type": "code",
   "execution_count": 3,
   "metadata": {},
   "outputs": [],
   "source": [
    "# content_dic['DRUGIE CZYTANIE'][4] = 'Łaska wam i pokój od Boga ojca naszego i Pana Jezusa Chrystusa! Bogu mojemu dziękuję wciąż za was, za łaskę daną wam w Chrystusie Jezusie. W Nim to bowiem zostaliście wzbogaceni we wszystko: we wszelkie słowo i wszelkie poznanie, bo świadectwo Chrystusowe utrwaliło się w was. Nie doznajecie tedy braku żadnej łaski, oczekując objawienia się Pana naszego, Jezusa Chrystusa. On też będzie umacniał was aż do końca, abyście byli bez zarzutu w dzień Pana naszego, Jezusa Chrystusa.'\n",
    "# content_dic['EWANGELIA'][3] = 'Jezus powiedział do swoich uczniów:'\n",
    "# content_dic['EWANGELIA'].insert(4,'«Uważajcie, czuwajcie, bo nie wiecie, kiedy czas ten nadejdzie. Bo rzecz ma się podobnie jak z człowiekiem, który udał się w podróż. Zostawił swój dom, powierzył swym sługom staranie o wszystko, każdemu wyznaczył zajęcie, a odźwiernemu przykazał, żeby czuwał.')\n",
    "# content_dic['EWANGELIA']"
   ]
  },
  {
   "cell_type": "code",
   "execution_count": 4,
   "metadata": {},
   "outputs": [],
   "source": [
    "URL = f\"https://liturgia.wiara.pl/kalendarz/67b53.Czytania-mszalne/{str(today)}\"\n",
    "\n",
    "\n",
    "page = requests.get(URL)\n",
    "\n",
    "soup = BeautifulSoup(page.content, \"html.parser\")\n",
    "\n",
    "content_list = soup.find_all(\"div\", \"txt__rich-area\")[1].get_text().split('\\n')\n",
    "\n",
    "if content_list[-1] == '':\n",
    "    del content_list[-1]"
   ]
  },
  {
   "cell_type": "code",
   "execution_count": 5,
   "metadata": {},
   "outputs": [
    {
     "data": {
      "text/plain": [
       "'https://liturgia.wiara.pl/kalendarz/67b53.Czytania-mszalne/2024-01-14'"
      ]
     },
     "execution_count": 5,
     "metadata": {},
     "output_type": "execute_result"
    }
   ],
   "source": [
    "URL"
   ]
  },
  {
   "cell_type": "code",
   "execution_count": 6,
   "metadata": {},
   "outputs": [],
   "source": [
    "# content_list[content_list.index('EWANGELIA')]\n",
    "# content_dic['PIERWSZE CZYTANIE'] = content_dic['PIERWSZE CZYTANIE'][:-5]\n",
    "\n",
    "# content_dic['PSALM RESPONSORYJNY'].insert(11, 'Refren: Po całej ziemi ich głos się rozchodzi.')\n",
    "# content_dic['PSALM RESPONSORYJNY']"
   ]
  },
  {
   "cell_type": "code",
   "execution_count": 7,
   "metadata": {},
   "outputs": [
    {
     "data": {
      "text/plain": [
       "{'PIERWSZE CZYTANIE': ['1 Sm 3, 3b-10. 19',\n",
       "  'Powołanie Samuela',\n",
       "  'Czytanie z Pierwszej Księgi Samuela',\n",
       "  'Samuel spał w przybytku Pańskim, gdzie znajdowała się Arka Przymierza.',\n",
       "  'Wtedy Pan zawołał Samuela, a ten odpowiedział: «Oto jestem». Potem pobiegł do Helego, mówiąc mu: «Oto jestem, przecież mnie wołałeś».\\xa0Heli odrzekł: «Nie wołałem cię, wróć i połóż się spać».',\n",
       "  'Położył się zatem spać. Lecz Pan powtórzył wołanie: «Samuelu!»\\xa0Wstał Samuel i poszedł do Helego, mówiąc: «Oto jestem, przecież mnie wołałeś».\\xa0Odrzekł mu: «Nie wołałem cię, synu mój. Wróć i połóż się spać». Samuel bowiem jeszcze nie znał Pana, a słowo Pańskie nie było mu jeszcze objawione.',\n",
       "  'I znów Pan powtórzył po raz trzeci swe wołanie: «Samuelu!» Wstał więc i poszedł do Helego, mówiąc: «Oto jestem, przecież mnie wołałeś».\\xa0Heli zrozumiał, że to Pan woła chłopca. Rzekł więc Heli do Samuela: «Idź spać! Gdyby jednak ktoś cię wołał, odpowiedz: Mów, Panie, bo sługa Twój słucha». Odszedł Samuel, położył się spać na swoim miejscu. Przybył Pan i stanąwszy, zawołał jak poprzednim razem: «Samuelu, Samuelu!» Samuel odpowiedział: «Mów, bo sługa Twój słucha».',\n",
       "  'Samuel dorastał, a Pan był z nim. Nie pozwolił upaść żadnemu jego słowu na ziemię.',\n",
       "  'Oto słowo Boże.'],\n",
       " 'PSALM RESPONSORYJNY': ['Ps 40 (39), 2ab i 4ab. 7-8a. 8b-10 (R.: por. 8a i 9a)',\n",
       "  'Refren: Przychodzę, Boże, pełnić Twoją wolę.',\n",
       "  'Z nadzieją czekałem na Pana, *',\n",
       "  'a On pochylił się nade mną.',\n",
       "  'Włożył mi w usta pieśń nową, *',\n",
       "  'śpiew dla naszego Boga.',\n",
       "  'Refren.',\n",
       "  'Nie chciałeś ofiary krwawej ani z płodów ziemi, *',\n",
       "  'lecz otwarłeś mi uszy;',\n",
       "  'nie żądałeś całopalenia i ofiary za grzechy. *',\n",
       "  'Wtedy powiedziałem: «Oto przychodzę.',\n",
       "  'Refren.',\n",
       "  'W zwoju księgi jest o mnie napisane: †',\n",
       "  'Radością jest dla mnie pełnić Twoją wolę, mój Boże, *',\n",
       "  'a Twoje Prawo mieszka w moim sercu».',\n",
       "  'Głosiłem Twą sprawiedliwość w wielkim zgromadzeniu †',\n",
       "  'i nie powściągałem warg moich, *',\n",
       "  'o czym Ty wiesz, Panie.',\n",
       "  'Refren.'],\n",
       " 'DRUGIE CZYTANIE': ['1 Kor 6, 13c-15a. 17-20',\n",
       "  'Wasze ciała są członkami Chrystusa',\n",
       "  'Czytanie z Pierwszego Listu Świętego Pawła Apostoła do Koryntian',\n",
       "  'Bracia:',\n",
       "  'Ciało nie jest dla rozpusty, lecz dla Pana, a Pan dla ciała. Bóg zaś i Pana wskrzesił, i nas również swą mocą wskrzesi. Czyż nie wiecie, że ciała wasze są członkami Chrystusa? Ten zaś, kto się łączy z Panem, jest z Nim jednym duchem.',\n",
       "  'Strzeżcie się rozpusty! Bo czyż jakikolwiek grzech popełniony przez człowieka jest poza ciałem? Lecz ja wam mówię, kto grzeszy rozpustą, przeciwko własnemu ciału grzeszy. Czyż nie wiecie, że ciało wasze jest przybytkiem Ducha Świętego, który w was jest, a którego macie od Boga, i że już nie należycie do samych siebie? Za wielką bowiem cenę zostaliście nabyci. Chwalcie więc Boga w waszym ciele!',\n",
       "  'Oto słowo Boże.',\n",
       "  'ŚPIEW PRZED EWANGELIĄ',\n",
       "  'Por. J 1, 41b. 17b',\n",
       "  'Aklamacja: Alleluja, alleluja, alleluja.',\n",
       "  'Znaleźliśmy Mesjasza, to znaczy Chrystusa.',\n",
       "  'Łaska i prawda przyszły przez Niego.',\n",
       "  'Aklamacja: Alleluja, alleluja, alleluja.'],\n",
       " 'EWANGELIA': ['J 1, 35-42',\n",
       "  'Powołanie pierwszych uczniów',\n",
       "  'Słowa Ewangelii według Świętego Jana',\n",
       "  'Jan stał wraz z dwoma swoimi uczniami i gdy zobaczył przechodzącego Jezusa, rzekł: «Oto Baranek Boży». Dwaj uczniowie usłyszeli, jak mówił, i poszli za Jezusem.',\n",
       "  'Jezus zaś, odwróciwszy się i ujrzawszy, że oni idą za Nim, rzekł do nich: «Czego szukacie?» Oni powiedzieli do Niego: «Rabbi! – to znaczy: Nauczycielu – gdzie mieszkasz?» Odpowiedział im: «Chodźcie, a zobaczycie». Poszli więc i zobaczyli, gdzie mieszka, i tego dnia pozostali u Niego.',\n",
       "  'Było to około godziny dziesiątej. Jednym z dwóch, którzy to usłyszeli od Jana i poszli za Nim, był Andrzej, brat Szymona Piotra. Ten spotkał najpierw swego brata i rzekł do niego: «Znaleźliśmy Mesjasza» – to znaczy: Chrystusa. I przyprowadził go do Jezusa.',\n",
       "  'A Jezus, wejrzawszy na niego, powiedział: «Ty jesteś Szymon, syn Jana; ty będziesz nazywał się Kefas» – to znaczy: Piotr.',\n",
       "  'Oto słowo Pańskie.']}"
      ]
     },
     "execution_count": 7,
     "metadata": {},
     "output_type": "execute_result"
    }
   ],
   "source": [
    "if 'EWANGELIA DŁUŻSZA' in content_list:\n",
    "    cut_points = ['PIERWSZE CZYTANIE', 'PSALM RESPONSORYJNY', 'DRUGIE CZYTANIE', 'EWANGELIA DŁUŻSZA', 'EWANGELIA KRÓTSZA']\n",
    "elif 'DRUGIE CZYTANIE' in content_list:\n",
    "    cut_points = ['PIERWSZE CZYTANIE', 'PSALM RESPONSORYJNY', 'DRUGIE CZYTANIE', 'EWANGELIA']\n",
    "else:\n",
    "    cut_points = ['PIERWSZE CZYTANIE', 'PSALM RESPONSORYJNY', 'EWANGELIA']\n",
    "\n",
    "content_dic = {}\n",
    "staging_list = [] \n",
    "\n",
    "\n",
    "for text in content_list:\n",
    "    if 'Liturgia Słowa' in text or '' == text:\n",
    "        continue\n",
    "    \n",
    "\n",
    "    # content_list[content_list.index(text)] = text.strip()\n",
    "    # text = text.strip()\n",
    "    \n",
    "    if text in cut_points:\n",
    "\n",
    "        for text in content_list[content_list.index(text)+1:]:\n",
    "            if '' == text:\n",
    "                continue\n",
    "            if text not in cut_points:\n",
    "                staging_list.append(text)\n",
    "                \n",
    "            else:\n",
    "                content_dic[cut_points[0]] = staging_list\n",
    "                staging_list = [] \n",
    "                del cut_points[0]\n",
    "                break\n",
    "        \n",
    "        content_dic[cut_points[0]] = staging_list\n",
    "\n",
    "content_dic \n",
    "\n",
    "        "
   ]
  },
  {
   "cell_type": "code",
   "execution_count": 8,
   "metadata": {},
   "outputs": [
    {
     "data": {
      "text/plain": [
       "dict_keys(['PIERWSZE CZYTANIE', 'PSALM RESPONSORYJNY', 'DRUGIE CZYTANIE', 'EWANGELIA'])"
      ]
     },
     "execution_count": 8,
     "metadata": {},
     "output_type": "execute_result"
    }
   ],
   "source": [
    "content_dic.keys()\n"
   ]
  },
  {
   "cell_type": "code",
   "execution_count": 9,
   "metadata": {},
   "outputs": [],
   "source": [
    "if 'EWANGELIA KRÓTSZA' in content_list:\n",
    "    content_dic['EWANGELIA KRÓTSZA'].insert(1, content_dic['EWANGELIA DŁUŻSZA'][1])\n",
    "    content_dic['EWANGELIA KRÓTSZA']"
   ]
  },
  {
   "cell_type": "code",
   "execution_count": 10,
   "metadata": {},
   "outputs": [
    {
     "data": {
      "text/plain": [
       "['Ps 40 (39), 2ab i 4ab. 7-8a. 8b-10 (R.: por. 8a i 9a)',\n",
       " 'Refren: Przychodzę, Boże, pełnić Twoją wolę.',\n",
       " 'Z nadzieją czekałem na Pana, *',\n",
       " 'a On pochylił się nade mną.',\n",
       " 'Włożył mi w usta pieśń nową, *',\n",
       " 'śpiew dla naszego Boga.',\n",
       " 'Refren.',\n",
       " 'Nie chciałeś ofiary krwawej ani z płodów ziemi, *',\n",
       " 'lecz otwarłeś mi uszy;',\n",
       " 'nie żądałeś całopalenia i ofiary za grzechy. *',\n",
       " 'Wtedy powiedziałem: «Oto przychodzę.',\n",
       " 'Refren.',\n",
       " 'W zwoju księgi jest o mnie napisane: †',\n",
       " 'Radością jest dla mnie pełnić Twoją wolę, mój Boże, *',\n",
       " 'a Twoje Prawo mieszka w moim sercu».',\n",
       " 'Głosiłem Twą sprawiedliwość w wielkim zgromadzeniu †',\n",
       " 'i nie powściągałem warg moich, *',\n",
       " 'o czym Ty wiesz, Panie.',\n",
       " 'Refren.']"
      ]
     },
     "execution_count": 10,
     "metadata": {},
     "output_type": "execute_result"
    }
   ],
   "source": [
    "# content_dic['PSALM RESPONSORYJNY'].insert(6, 'Refren')\n",
    "# content_dic['PSALM RESPONSORYJNY'].insert(11, 'Refren')\n",
    "# content_dic['PSALM RESPONSORYJNY'].insert(16, 'Refren')\n",
    "content_dic['PSALM RESPONSORYJNY']"
   ]
  },
  {
   "cell_type": "code",
   "execution_count": 11,
   "metadata": {},
   "outputs": [],
   "source": [
    "path = r\"C:\\Users\\Acne\\Pictures\\Cyfrowa Biblia\\automatyzacja\\paper.gif\"\n",
    "\n",
    "image_size = 1080\n",
    "with Image.open(path) as im:\n",
    "    out = Image.new(\"RGB\", (image_size, image_size), \"white\")\n",
    "    x=0\n",
    "    y=0\n",
    "    size_x_left, size_y = im.size\n",
    "\n",
    "    while x < image_size:\n",
    "        while y < image_size:\n",
    "            out.paste(im, (x, y))\n",
    "            y += size_y\n",
    "        y = 0\n",
    "        x += size_x_left\n",
    "\n",
    "# out.show()\n"
   ]
  },
  {
   "cell_type": "code",
   "execution_count": 12,
   "metadata": {},
   "outputs": [],
   "source": [
    "tahoma = r\"C:\\Windows\\Fonts\\tahoma.ttf\"\n",
    "tahoma_bold = r\"C:\\Windows\\Fonts\\tahomabd.ttf\""
   ]
  },
  {
   "cell_type": "code",
   "execution_count": 13,
   "metadata": {},
   "outputs": [],
   "source": [
    "current_path = WindowsPath(r'C:\\Users\\Acne\\Pictures\\Cyfrowa Biblia\\\\' + str(today))\n",
    "\n",
    "os.makedirs(current_path, exist_ok=True)"
   ]
  },
  {
   "cell_type": "code",
   "execution_count": 14,
   "metadata": {},
   "outputs": [],
   "source": [
    "def draw_text(out, name, current_path, size_x_left, size_y, font_size):\n",
    "\n",
    "    font_size_small = int(0.75 * font_size)\n",
    "\n",
    "    fnt = ImageFont.truetype(tahoma, font_size) \n",
    "    fnt_b = ImageFont.truetype(tahoma_bold, font_size)\n",
    "    fnt_s = ImageFont.truetype(tahoma, font_size_small)\n",
    "\n",
    "    size_x_left = int(25/12 * font_size)\n",
    "    size_x_right = image_size - 2 * size_x_left  \n",
    "    size_y = int(1.2 * font_size)\n",
    "    width = int(80 - 0.325 * size_x_left)\n",
    "\n",
    "    out_func = copy.deepcopy(out)\n",
    "    draw = ImageDraw.Draw(out_func) \n",
    "\n",
    "    draw.text((size_x_left, size_x_left), name, font=fnt_b, fill=\"red\", anchor='lm')\n",
    "    draw.text((size_x_right + size_x_left, size_x_left), content_dic[name][0], font=fnt_b, fill=\"red\", anchor='rm') #TODO\n",
    "    \n",
    "    var_y = size_x_left + size_y\n",
    "    draw.text((size_x_left, var_y), content_dic[name][1], font=fnt_s, fill=\"black\", anchor='lm')\n",
    "    \n",
    "    lines = textwrap.wrap(content_dic[name][2], width=width)\n",
    "    for line in lines:\n",
    "        var_y += size_y\n",
    "        draw.text((size_x_left, var_y), line, font=fnt_b, fill=\"black\", anchor='lm')\n",
    "    \n",
    "    var_y += size_x_left\n",
    "    \n",
    "    for count, element in enumerate(content_dic[name][3:-1]):\n",
    "        lines = textwrap.wrap(content_dic[name][3+count], width=width)\n",
    "        space_length_regular = 15\n",
    "\n",
    "        for line_count, line in enumerate(lines):\n",
    "            x_word = size_x_left\n",
    "            x_word_intended = 2 * size_x_left\n",
    "            words = line.split(\" \")\n",
    "            words_length = sum(draw.textlength(w, font=fnt) for w in words)\n",
    "            if len(words) == 1:\n",
    "                words.append(' ')\n",
    "\n",
    "            if line_count == len(lines)-1:\n",
    "                for word in words:\n",
    "                    draw.text((x_word, var_y), word, font=fnt, fill=\"black\", anchor='lm')\n",
    "                    x_word += draw.textlength(word, font=fnt) + space_length_regular\n",
    "                var_y += size_y  \n",
    "                break\n",
    "            \n",
    "            space_length_intended = (size_x_right - x_word - words_length) / (len(words) - 1)\n",
    "            space_length_regular = (size_x_right - words_length) / (len(words) - 1)\n",
    "           \n",
    "            if line_count == 0 and line != 'Bracia:' and 'Jezus powiedział' not in line:\n",
    "                for word in words:\n",
    "                    draw.text((x_word_intended, var_y), word, font=fnt, fill=\"black\", anchor='lm')\n",
    "                    x_word_intended += draw.textlength(word, font=fnt) + space_length_intended\n",
    "\n",
    "            else:\n",
    "                for word in words:\n",
    "                    draw.text((x_word, var_y), word, font=fnt, fill=\"black\", anchor='lm')\n",
    "                    x_word += draw.textlength(word, font=fnt) + space_length_regular\n",
    "            var_y += size_y            \n",
    "            \n",
    "    draw.text((2*size_x_left, var_y+size_y), content_dic[name][-1], font=fnt_b, fill=\"black\", anchor='lm')\n",
    "\n",
    "    # out_func.show()\n",
    "\n",
    "    returned = {'drawn_y': var_y+size_y, 'picture': out_func}\n",
    "\n",
    "    return returned\n",
    "    # out_func.save(current_path / f'{name}.png')\n",
    "\n",
    "    out_func = copy.deepcopy(out)"
   ]
  },
  {
   "cell_type": "code",
   "execution_count": 15,
   "metadata": {},
   "outputs": [],
   "source": [
    "if \"DRUGIE CZYTANIE\" in content_dic:\n",
    "    if 'ŚPIEW PRZED EWANGELIĄ' in content_dic[\"DRUGIE CZYTANIE\"]:\n",
    "        content_dic[\"DRUGIE CZYTANIE\"] = content_dic[\"DRUGIE CZYTANIE\"][:-6]"
   ]
  },
  {
   "cell_type": "code",
   "execution_count": 16,
   "metadata": {},
   "outputs": [],
   "source": [
    "def draw_text_pagination_first(out, reading_list, current_path, size_x_left, size_y, font_size):\n",
    "\n",
    "    font_size_small = int(0.75 * font_size)\n",
    "\n",
    "    fnt = ImageFont.truetype(tahoma, font_size) \n",
    "    fnt_b = ImageFont.truetype(tahoma_bold, font_size)\n",
    "    fnt_s = ImageFont.truetype(tahoma, font_size_small)\n",
    "\n",
    "    size_x_left = int(25/12 * font_size)\n",
    "    size_x_right = image_size - 2 * size_x_left\n",
    "    size_y = int(1.2 * font_size)\n",
    "    width = int(80 - 0.35 * size_x_left)\n",
    "\n",
    "    out_func = copy.deepcopy(out)\n",
    "    draw = ImageDraw.Draw(out_func) \n",
    "\n",
    "#TODO\n",
    "    draw.text((size_x_left, size_x_left), reading_list[0], font=fnt_b, fill=\"red\", anchor='lm')\n",
    "    draw.text((size_x_right + size_x_left, size_x_left), reading_list[1], font=fnt_b, fill=\"red\", anchor='rm') #TODO\n",
    "    \n",
    "    var_y = size_x_left + size_y\n",
    "    draw.text((size_x_left, var_y), reading_list[2], font=fnt_s, fill=\"black\", anchor='lm')\n",
    "    \n",
    "    lines = textwrap.wrap(reading_list[3], width=width)\n",
    "    for line in lines:\n",
    "        var_y += size_y\n",
    "        draw.text((size_x_left, var_y), line, font=fnt_b, fill=\"black\", anchor='lm')\n",
    "    \n",
    "    var_y += size_x_left\n",
    "    \n",
    "    for count, element in enumerate(reading_list[4:]):\n",
    "        lines = textwrap.wrap(reading_list[4+count], width=width)\n",
    "        space_length_regular = 15\n",
    "\n",
    "        for line_count, line in enumerate(lines):\n",
    "            x_word = size_x_left\n",
    "            x_word_intended = 2 * size_x_left\n",
    "            words = line.split(\" \")\n",
    "            words_length = sum(draw.textlength(w, font=fnt) for w in words)\n",
    "            if len(words)==1:\n",
    "                words.append(' ')\n",
    "\n",
    "                for word in words:\n",
    "                    draw.text((x_word, var_y), word, font=fnt, fill=\"black\", anchor='lm')\n",
    "                    x_word += draw.textlength(word, font=fnt) + space_length_regular\n",
    "                var_y += size_y  \n",
    "                break\n",
    "\n",
    "            if line_count == len(lines)-1:\n",
    "                for word in words:\n",
    "                    draw.text((x_word, var_y), word, font=fnt, fill=\"black\", anchor='lm')\n",
    "                    x_word += draw.textlength(word, font=fnt) + space_length_regular\n",
    "                var_y += size_y  \n",
    "                break\n",
    "            \n",
    "            space_length_intended = (size_x_right - x_word - words_length) / (len(words) - 1)\n",
    "            space_length_regular = (size_x_right - words_length) / (len(words) - 1)\n",
    "           \n",
    "            if line_count == 0 and line != 'Bracia:' and 'Jezus powiedział' not in line:\n",
    "                for word in words:\n",
    "                    draw.text((x_word_intended, var_y), word, font=fnt, fill=\"black\", anchor='lm')\n",
    "                    x_word_intended += draw.textlength(word, font=fnt) + space_length_intended\n",
    "\n",
    "            else:\n",
    "                for word in words:\n",
    "                    draw.text((x_word, var_y), word, font=fnt, fill=\"black\", anchor='lm')\n",
    "                    x_word += draw.textlength(word, font=fnt) + space_length_regular\n",
    "            var_y += size_y            \n",
    "            \n",
    "    # out_func.show()\n",
    "\n",
    "    returned = {'drawn_y': var_y+size_y, 'picture': out_func}\n",
    "\n",
    "    return returned\n",
    "    # out_func.save(current_path / f'{name}.png')\n",
    "\n",
    "    out_func = copy.deepcopy(out)"
   ]
  },
  {
   "cell_type": "code",
   "execution_count": 17,
   "metadata": {},
   "outputs": [],
   "source": [
    "def draw_text_pagination_second(out, reading_list, current_path, size_x_left, size_y, font_size):\n",
    "\n",
    "    font_size_small = int(0.75 * font_size)\n",
    " \n",
    "    fnt = ImageFont.truetype(tahoma, font_size) \n",
    "    fnt_b = ImageFont.truetype(tahoma_bold, font_size)\n",
    "    fnt_s = ImageFont.truetype(tahoma, font_size_small)\n",
    "\n",
    "    size_x_left = int(25/12 * font_size)\n",
    "    size_x_right = image_size - 2 * size_x_left\n",
    "    size_y = int(1.2 * font_size)\n",
    "    width = int(80 - 0.35 * size_x_left)\n",
    "\n",
    "    out_func = copy.deepcopy(out)\n",
    "    draw = ImageDraw.Draw(out_func) \n",
    "\n",
    "    var_y = size_x_left\n",
    "    \n",
    "    lines = textwrap.wrap(reading_list[0], width=width)\n",
    "    \n",
    "    for count, element in enumerate(reading_list[0:-1]):\n",
    "        lines = textwrap.wrap(reading_list[0+count], width=width)\n",
    "        space_length_regular = 15\n",
    "\n",
    "        for line_count, line in enumerate(lines):\n",
    "            x_word = size_x_left\n",
    "            x_word_intended = 2 * size_x_left\n",
    "            words = line.split(\" \")\n",
    "            words_length = sum(draw.textlength(w, font=fnt) for w in words)\n",
    "            if len(words)==1:\n",
    "                words.append(' ')\n",
    "\n",
    "                for word in words:\n",
    "                    draw.text((x_word, var_y), word, font=fnt, fill=\"black\", anchor='lm')\n",
    "                    x_word += draw.textlength(word, font=fnt) + space_length_regular\n",
    "                var_y += size_y  \n",
    "                break\n",
    "\n",
    "            if line_count == len(lines)-1:\n",
    "                for word in words:\n",
    "                    draw.text((x_word, var_y), word, font=fnt, fill=\"black\", anchor='lm')\n",
    "                    x_word += draw.textlength(word, font=fnt) + space_length_regular\n",
    "                var_y += size_y  \n",
    "                break\n",
    "            \n",
    "            space_length_intended = (size_x_right - x_word - words_length) / (len(words) - 1)\n",
    "            space_length_regular = (size_x_right - words_length) / (len(words) - 1)\n",
    "           \n",
    "            if line_count == 0 and line != 'Bracia:' and 'Jezus powiedział' not in line:\n",
    "                for word in words:\n",
    "                    draw.text((x_word_intended, var_y), word, font=fnt, fill=\"black\", anchor='lm')\n",
    "                    x_word_intended += draw.textlength(word, font=fnt) + space_length_intended\n",
    "\n",
    "            else:\n",
    "                for word in words:\n",
    "                    draw.text((x_word, var_y), word, font=fnt, fill=\"black\", anchor='lm')\n",
    "                    x_word += draw.textlength(word, font=fnt) + space_length_regular\n",
    "            var_y += size_y            \n",
    "            \n",
    "    draw.text((2*size_x_left, var_y+size_y), reading_list[-1], font=fnt_b, fill=\"black\", anchor='lm')\n",
    "\n",
    "    # out_func.show()\n",
    "\n",
    "    returned = {'drawn_y': var_y+size_y, 'picture': out_func}\n",
    "\n",
    "    return returned\n",
    "    # out_func.save(current_path / f'{name}.png')\n",
    "\n",
    "    out_func = copy.deepcopy(out)"
   ]
  },
  {
   "cell_type": "code",
   "execution_count": 18,
   "metadata": {},
   "outputs": [
    {
     "data": {
      "text/plain": [
       "dict_keys(['PIERWSZE CZYTANIE', 'PSALM RESPONSORYJNY', 'DRUGIE CZYTANIE', 'EWANGELIA'])"
      ]
     },
     "execution_count": 18,
     "metadata": {},
     "output_type": "execute_result"
    }
   ],
   "source": [
    "content_dic.keys()"
   ]
  },
  {
   "cell_type": "code",
   "execution_count": 19,
   "metadata": {},
   "outputs": [
    {
     "name": "stdout",
     "output_type": "stream",
     "text": [
      "font_size:  30\n",
      "font_size:  30\n",
      "font_size:  30\n"
     ]
    }
   ],
   "source": [
    "\n",
    "min_font_before_pagination = 29\n",
    "verse_break = 6\n",
    "pagination_font_size = 35\n",
    "\n",
    "\n",
    "for text in content_dic.keys():\n",
    "# ['PIERWSZE CZYTANIE']:\n",
    "    if text != 'PSALM RESPONSORYJNY':\n",
    "        font_size = 40\n",
    "        returned = draw_text(out, text, current_path, size_x_left, size_y, font_size)\n",
    "\n",
    "        returned['picture'].show()\n",
    "        returned['picture'].save(current_path / f'{text}.png')\n",
    "\n",
    "        while returned['drawn_y'] > image_size - 20:\n",
    "            if font_size < min_font_before_pagination:\n",
    "                pagination_dic = {}\n",
    "                pagination_dic[f'{text} cz.1'] = content_dic[f'{text}'][:verse_break]\n",
    "                pagination_dic[f'{text} cz.1'].insert(0, f'{text}' )\n",
    "                pagination_dic[f'{text} cz.2'] = content_dic[f'{text}'][verse_break:]\n",
    "\n",
    "                \n",
    "                returned = draw_text_pagination_first(out, pagination_dic[f'{text} cz.1'], current_path, size_x_left, size_y, pagination_font_size)\n",
    "                returned['picture'].show()\n",
    "                returned['picture'].save(current_path / f'{text}1.png')\n",
    "\n",
    "                returned = draw_text_pagination_second(out,  pagination_dic[f'{text} cz.2'], current_path, size_x_left, size_y, pagination_font_size)\n",
    "                returned['picture'].show()\n",
    "                returned['picture'].save(current_path / f'{text}2.png')\n",
    "\n",
    "                break\n",
    "            \n",
    "            else:\n",
    "                font_size -= 1\n",
    "                returned = draw_text(out, text, current_path, size_x_left, size_y, font_size)\n",
    "        \n",
    "        print('font_size: ', font_size)\n",
    "        \n",
    "        "
   ]
  },
  {
   "cell_type": "code",
   "execution_count": 20,
   "metadata": {},
   "outputs": [],
   "source": [
    "# returned = draw_text(out, 'PIERWSZE CZYTANIE', current_path, size_x_left, size_y, 26)\n",
    "# returned['picture'].show()\n",
    "# returned['picture'].save(current_path / f'{text}.png')"
   ]
  },
  {
   "cell_type": "code",
   "execution_count": 21,
   "metadata": {},
   "outputs": [],
   "source": [
    "font_size_psalm = 32\n",
    "font_size_small_psalm = int(0.75 * font_size_psalm)\n",
    "\n",
    "tahoma = r\"C:\\Windows\\Fonts\\tahoma.ttf\"\n",
    "tahoma_bold = r\"C:\\Windows\\Fonts\\tahomabd.ttf\"\n",
    "\n",
    "fnt_psalm = ImageFont.truetype(tahoma, font_size_psalm) \n",
    "fnt_b_psalm = ImageFont.truetype(tahoma_bold, font_size_psalm)\n",
    "fnt_s_psalm = ImageFont.truetype(tahoma, font_size_small_psalm)"
   ]
  },
  {
   "cell_type": "code",
   "execution_count": 22,
   "metadata": {},
   "outputs": [
    {
     "data": {
      "text/plain": [
       "['Ps 40 (39), 2ab i 4ab. 7-8a. 8b-10 (R.: por. 8a i 9a)',\n",
       " 'Refren: Przychodzę, Boże, pełnić Twoją wolę.',\n",
       " 'Z nadzieją czekałem na Pana, *',\n",
       " 'a On pochylił się nade mną.',\n",
       " 'Włożył mi w usta pieśń nową, *',\n",
       " 'śpiew dla naszego Boga.',\n",
       " 'Refren.',\n",
       " 'Nie chciałeś ofiary krwawej ani z płodów ziemi, *',\n",
       " 'lecz otwarłeś mi uszy;',\n",
       " 'nie żądałeś całopalenia i ofiary za grzechy. *',\n",
       " 'Wtedy powiedziałem: «Oto przychodzę.',\n",
       " 'Refren.',\n",
       " 'W zwoju księgi jest o mnie napisane: †',\n",
       " 'Radością jest dla mnie pełnić Twoją wolę, mój Boże, *',\n",
       " 'a Twoje Prawo mieszka w moim sercu».',\n",
       " 'Głosiłem Twą sprawiedliwość w wielkim zgromadzeniu †',\n",
       " 'i nie powściągałem warg moich, *',\n",
       " 'o czym Ty wiesz, Panie.',\n",
       " 'Refren.']"
      ]
     },
     "execution_count": 22,
     "metadata": {},
     "output_type": "execute_result"
    }
   ],
   "source": [
    "# content_dic[\"PSALM RESPONSORYJNY\"].insert(16, 'Refren')\n",
    "content_dic[\"PSALM RESPONSORYJNY\"]"
   ]
  },
  {
   "cell_type": "code",
   "execution_count": 23,
   "metadata": {},
   "outputs": [
    {
     "name": "stdout",
     "output_type": "stream",
     "text": [
      "53\n"
     ]
    },
    {
     "data": {
      "text/plain": [
       "['Ps 40 (39)',\n",
       " 'Refren: Przychodzę, Boże, pełnić Twoją wolę.',\n",
       " 'Z nadzieją czekałem na Pana, *',\n",
       " 'a On pochylił się nade mną.',\n",
       " 'Włożył mi w usta pieśń nową, *',\n",
       " 'śpiew dla naszego Boga.',\n",
       " 'Refren.',\n",
       " 'Nie chciałeś ofiary krwawej ani z płodów ziemi, *',\n",
       " 'lecz otwarłeś mi uszy;',\n",
       " 'nie żądałeś całopalenia i ofiary za grzechy. *',\n",
       " 'Wtedy powiedziałem: «Oto przychodzę.',\n",
       " 'Refren.',\n",
       " 'W zwoju księgi jest o mnie napisane: †',\n",
       " 'Radością jest dla mnie pełnić Twoją wolę, mój Boże, *',\n",
       " 'a Twoje Prawo mieszka w moim sercu».',\n",
       " 'Głosiłem Twą sprawiedliwość w wielkim zgromadzeniu †',\n",
       " 'i nie powściągałem warg moich, *',\n",
       " 'o czym Ty wiesz, Panie.',\n",
       " 'Refren.']"
      ]
     },
     "execution_count": 23,
     "metadata": {},
     "output_type": "execute_result"
    }
   ],
   "source": [
    "print(len(content_dic[\"PSALM RESPONSORYJNY\"][0]))\n",
    "if len(content_dic[\"PSALM RESPONSORYJNY\"][0]) > 35:\n",
    "    content_dic[\"PSALM RESPONSORYJNY\"][0] = content_dic[\"PSALM RESPONSORYJNY\"][0].split(',')[0]\n",
    "    \n",
    "# del content_dic[\"PSALM RESPONSORYJNY\"][-2]\n",
    "# content_dic[\"PSALM RESPONSORYJNY\"].insert(-1, 'pójdźcie, narody, oddajcie pokłon Panu,')\n",
    "# content_dic[\"PSALM RESPONSORYJNY\"].insert(-1, 'bo wielka światłość zstąpiła dzisiaj na ziemię.')\n",
    "content_dic[\"PSALM RESPONSORYJNY\"]"
   ]
  },
  {
   "cell_type": "code",
   "execution_count": 24,
   "metadata": {},
   "outputs": [],
   "source": [
    "out_psalm = copy.deepcopy(out)\n",
    "draw = ImageDraw.Draw(out_psalm) \n",
    "\n",
    "y_distance = font_size_psalm * 0.95\n",
    "y_further_distance = font_size_psalm * 1.2\n",
    "x_distance = font_size_psalm * 2\n",
    "\n",
    "draw.text((x_distance, y_further_distance*2), \"PSALM RESPONSORYJNY\", font=fnt_b_psalm, fill=\"red\", anchor='lm')\n",
    "draw.text((1000, y_further_distance*2), content_dic[\"PSALM RESPONSORYJNY\"][0], font=fnt_b_psalm, fill=\"red\", anchor='rm')\n",
    "draw.text((x_distance, y_further_distance*3), \"Refren: \", font=fnt_b_psalm, fill=\"red\", anchor='lm')\n",
    "draw.text((x_distance*3, y_further_distance*3), content_dic[\"PSALM RESPONSORYJNY\"][1][7:], font=fnt_b_psalm, fill=\"black\", anchor='lm')\n",
    "\n",
    "# draw.text((100, 300), content_dic[\"PSALM RESPONSORYJNY\"][3], font=fnt_psalm, fill=\"black\", anchor='lm')\n",
    "y_text = y_further_distance*4\n",
    "for count, element in enumerate(content_dic[\"PSALM RESPONSORYJNY\"][2:]):\n",
    "    # lines = textwrap.wrap(second_element[2+count], width=80)\n",
    "    # for line in lines:\n",
    "    if \"Refren\" in element :\n",
    "        y_text += y_further_distance\n",
    "        draw.text((x_distance, y_text), \"Refren: \", font=fnt_b_psalm, fill=\"red\", anchor='lm')\n",
    "        draw.text((x_distance*3, y_text), content_dic[\"PSALM RESPONSORYJNY\"][1][7:], font=fnt_b_psalm, fill=\"black\", anchor='lm')\n",
    "        y_text += y_further_distance\n",
    "    elif \"ŚPIEW PRZED EWANGELIĄ\" in element:\n",
    "        # print(\"NUMER: \", inner_count)\n",
    "        acclamation = content_dic[\"PSALM RESPONSORYJNY\"][count+2:]\n",
    "        # if 'ŚPIEW' in acclamation[0]:\n",
    "        #     acclamation.insert(1, '')\n",
    "        print(acclamation)\n",
    "        draw.text((x_distance, y_text), \"AKLAMACJA PRZED EWANGELIĄ\", font=fnt_b_psalm, fill=\"red\", anchor='lm')\n",
    "        draw.text((1000, y_text), acclamation[1], font=fnt_b_psalm, fill=\"red\", anchor='rm')\n",
    "        draw.text((x_distance, y_text+y_further_distance), \"Aklamacja: \", font=fnt_b_psalm, fill=\"red\", anchor='lm')\n",
    "        draw.text((x_distance*4, y_text+y_further_distance), acclamation[2][10:], font=fnt_b_psalm, fill=\"black\", anchor='lm')\n",
    "        draw.text((x_distance*2, y_text+y_further_distance*2), acclamation[3], font=fnt_psalm, fill=\"black\", anchor='lm')\n",
    "        draw.text((x_distance*2, y_text+y_further_distance*2+y_distance), acclamation[4], font=fnt_psalm, fill=\"black\", anchor='lm')\n",
    "        # draw.text((x_distance*2, y_text+y_further_distance*3+y_distance), acclamation[5], font=fnt_psalm, fill=\"black\", anchor='lm')\n",
    "\n",
    "        draw.text((x_distance, y_text+y_further_distance*3+y_distance), \"Aklamacja: \", font=fnt_b_psalm, fill=\"red\", anchor='lm') \n",
    "        draw.text((x_distance*4, y_text+y_further_distance*3+y_distance), acclamation[5][10:], font=fnt_b_psalm, fill=\"black\", anchor='lm')\n",
    "\n",
    "        break  \n",
    "\n",
    "# TODO\n",
    "    elif 'albo' in element:\n",
    "        continue\n",
    "\n",
    "    else:\n",
    "        draw.text((x_distance*2, y_text), element, font=fnt_psalm, fill=\"black\", anchor='lm')\n",
    "    y_text += y_distance\n",
    "\n",
    "out_psalm.show()\n",
    "out_psalm.save(current_path / 'psalm.png')\n",
    "# out_psalm.save('./2024-01-08/psalm.png')\n",
    "\n",
    "out_psalm = copy.deepcopy(out)"
   ]
  },
  {
   "cell_type": "code",
   "execution_count": 25,
   "metadata": {},
   "outputs": [],
   "source": [
    "# os.makedirs('./2024-01-08/', exist_ok=True)"
   ]
  },
  {
   "cell_type": "code",
   "execution_count": 26,
   "metadata": {},
   "outputs": [
    {
     "data": {
      "text/plain": [
       "WindowsPath('C:/Users/Acne/Pictures/Cyfrowa Biblia/2024-01-14')"
      ]
     },
     "execution_count": 26,
     "metadata": {},
     "output_type": "execute_result"
    }
   ],
   "source": [
    "current_path"
   ]
  },
  {
   "cell_type": "code",
   "execution_count": 27,
   "metadata": {},
   "outputs": [],
   "source": [
    "# content_dic[\"EWANGELIA\"]"
   ]
  },
  {
   "cell_type": "code",
   "execution_count": 28,
   "metadata": {},
   "outputs": [
    {
     "data": {
      "text/plain": [
       "dict_keys(['PIERWSZE CZYTANIE', 'PSALM RESPONSORYJNY', 'DRUGIE CZYTANIE', 'EWANGELIA'])"
      ]
     },
     "execution_count": 28,
     "metadata": {},
     "output_type": "execute_result"
    }
   ],
   "source": [
    "content_dic.keys()"
   ]
  },
  {
   "cell_type": "code",
   "execution_count": 29,
   "metadata": {},
   "outputs": [],
   "source": [
    "# content_dic['PIERWSZE CZYTANIE cz.1'] = content_dic['PIERWSZE CZYTANIE'][:6]\n",
    "# content_dic['PIERWSZE CZYTANIE cz.2'] = content_dic['PIERWSZE CZYTANIE'][6:]\n",
    "# returned = draw_text_pagination(out, 'PIERWSZE CZYTANIE cz.1', current_path, size_x_left, size_y, 32)\n",
    "# returned['picture'].show()\n",
    "# returned['picture'].save(current_path / f'{text}1.png')\n",
    "# returned = draw_text_pagination_second(out, 'PIERWSZE CZYTANIE cz.2', current_path, size_x_left, size_y, 32)\n",
    "# returned['picture'].show()\n",
    "# returned['picture'].save(current_path / f'{text}2.png')"
   ]
  },
  {
   "cell_type": "code",
   "execution_count": 30,
   "metadata": {},
   "outputs": [],
   "source": [
    "# text = 'PIERWSZE CZYTANIE'\n",
    "# content_dic[f'{text} cz.1'] = content_dic[f'{text}'][:6]\n",
    "# content_dic[f'{text} cz.2'] = content_dic[f'{text}'][6:]\n",
    "# returned = draw_text_pagination_first(out, f'{text} cz.1', current_path, size_x_left, size_y, 30)\n",
    "# returned['picture'].show()\n",
    "# returned['picture'].save(current_path / f'{text}1.png')\n",
    "\n",
    "# returned = draw_text_pagination_second(out, f'{text} cz.2', current_path, size_x_left, size_y, 32)\n",
    "# returned['picture'].show()\n",
    "# returned['picture'].save(current_path / f'{text}2.png')"
   ]
  },
  {
   "cell_type": "code",
   "execution_count": 31,
   "metadata": {},
   "outputs": [],
   "source": [
    "# content_dic['EWANGELIA'] = content_dic['EWANGELIA ']"
   ]
  },
  {
   "cell_type": "code",
   "execution_count": 32,
   "metadata": {},
   "outputs": [],
   "source": [
    "# text = 'EWANGELIA'\n",
    "# content_dic['EWANGELIA cz.1'] = content_dic['EWANGELIA'][:7]\n",
    "# content_dic['EWANGELIA cz.2'] = content_dic['EWANGELIA'][7:]\n",
    "# returned = draw_text_pagination_first(out, 'EWANGELIA cz.1', current_path, size_x_left, size_y, 32)\n",
    "# returned['picture'].show()\n",
    "# returned['picture'].save(current_path / f'{text}1.png')\n",
    "\n",
    "# returned = draw_text_pagination_second(out, 'EWANGELIA cz.2', current_path, size_x_left, size_y, 32)\n",
    "# returned['picture'].show()\n",
    "# returned['picture'].save(current_path / f'{text}2.png')"
   ]
  },
  {
   "cell_type": "code",
   "execution_count": 33,
   "metadata": {},
   "outputs": [
    {
     "data": {
      "text/plain": [
       "['1 Sm 3, 3b-10. 19',\n",
       " 'Powołanie Samuela',\n",
       " 'Czytanie z Pierwszej Księgi Samuela',\n",
       " 'Samuel spał w przybytku Pańskim, gdzie znajdowała się Arka Przymierza.',\n",
       " 'Wtedy Pan zawołał Samuela, a ten odpowiedział: «Oto jestem». Potem pobiegł do Helego, mówiąc mu: «Oto jestem, przecież mnie wołałeś».\\xa0Heli odrzekł: «Nie wołałem cię, wróć i połóż się spać».',\n",
       " 'Położył się zatem spać. Lecz Pan powtórzył wołanie: «Samuelu!»\\xa0Wstał Samuel i poszedł do Helego, mówiąc: «Oto jestem, przecież mnie wołałeś».\\xa0Odrzekł mu: «Nie wołałem cię, synu mój. Wróć i połóż się spać». Samuel bowiem jeszcze nie znał Pana, a słowo Pańskie nie było mu jeszcze objawione.',\n",
       " 'I znów Pan powtórzył po raz trzeci swe wołanie: «Samuelu!» Wstał więc i poszedł do Helego, mówiąc: «Oto jestem, przecież mnie wołałeś».\\xa0Heli zrozumiał, że to Pan woła chłopca. Rzekł więc Heli do Samuela: «Idź spać! Gdyby jednak ktoś cię wołał, odpowiedz: Mów, Panie, bo sługa Twój słucha». Odszedł Samuel, położył się spać na swoim miejscu. Przybył Pan i stanąwszy, zawołał jak poprzednim razem: «Samuelu, Samuelu!» Samuel odpowiedział: «Mów, bo sługa Twój słucha».',\n",
       " 'Samuel dorastał, a Pan był z nim. Nie pozwolił upaść żadnemu jego słowu na ziemię.',\n",
       " 'Oto słowo Boże.']"
      ]
     },
     "execution_count": 33,
     "metadata": {},
     "output_type": "execute_result"
    }
   ],
   "source": [
    "content_dic['PIERWSZE CZYTANIE']"
   ]
  },
  {
   "cell_type": "code",
   "execution_count": 34,
   "metadata": {},
   "outputs": [
    {
     "data": {
      "text/plain": [
       "['J 1, 35-42',\n",
       " 'Powołanie pierwszych uczniów',\n",
       " 'Słowa Ewangelii według Świętego Jana',\n",
       " 'Jan stał wraz z dwoma swoimi uczniami i gdy zobaczył przechodzącego Jezusa, rzekł: «Oto Baranek Boży». Dwaj uczniowie usłyszeli, jak mówił, i poszli za Jezusem.',\n",
       " 'Jezus zaś, odwróciwszy się i ujrzawszy, że oni idą za Nim, rzekł do nich: «Czego szukacie?» Oni powiedzieli do Niego: «Rabbi! – to znaczy: Nauczycielu – gdzie mieszkasz?» Odpowiedział im: «Chodźcie, a zobaczycie». Poszli więc i zobaczyli, gdzie mieszka, i tego dnia pozostali u Niego.',\n",
       " 'Było to około godziny dziesiątej. Jednym z dwóch, którzy to usłyszeli od Jana i poszli za Nim, był Andrzej, brat Szymona Piotra. Ten spotkał najpierw swego brata i rzekł do niego: «Znaleźliśmy Mesjasza» – to znaczy: Chrystusa. I przyprowadził go do Jezusa.',\n",
       " 'A Jezus, wejrzawszy na niego, powiedział: «Ty jesteś Szymon, syn Jana; ty będziesz nazywał się Kefas» – to znaczy: Piotr.',\n",
       " 'Oto słowo Pańskie.']"
      ]
     },
     "execution_count": 34,
     "metadata": {},
     "output_type": "execute_result"
    }
   ],
   "source": [
    "content_dic['EWANGELIA']"
   ]
  },
  {
   "cell_type": "code",
   "execution_count": 35,
   "metadata": {},
   "outputs": [
    {
     "data": {
      "text/plain": [
       "'«Wielbi dusza moja Pana i raduje się duch mój w Bogu, zbawicielu moim. Bo wejrzał na uniżenie swojej Służebnicy. Oto bowiem odtąd błogosławić mnie będą wszystkie pokolenia, gdyż wielkie rzeczy uczynił mi Wszechmocny, a Jego imię jest święte. Jego miłosierdzie z pokolenia na pokolenie nad tymi, którzy się Go boją. Okazał moc swego ramienia, rozproszył pyszniących się zamysłami serc swoich. Strącił władców z tronu, a wywyższył pokornych. Głodnych nasycił dobrami, a bogatych z niczym odprawił. Ujął się za swoim sługą, Izraelem, pomny na swe miłosierdzie. Jak obiecał naszym ojcom, Abrahamowi i jego potomstwu na wieki»'"
      ]
     },
     "execution_count": 35,
     "metadata": {},
     "output_type": "execute_result"
    }
   ],
   "source": [
    "x =['«Wielbi dusza moja Pana',\n",
    " 'i raduje się duch mój w Bogu, zbawicielu moim.',\n",
    " 'Bo wejrzał na uniżenie swojej Służebnicy.',\n",
    " 'Oto bowiem odtąd błogosławić mnie będą',\n",
    " 'wszystkie pokolenia,',\n",
    " 'gdyż wielkie rzeczy uczynił mi Wszechmocny,',\n",
    " 'a Jego imię jest święte.',\n",
    " 'Jego miłosierdzie z pokolenia na pokolenie',\n",
    " 'nad tymi, którzy się Go boją.',\n",
    " 'Okazał moc swego ramienia,',\n",
    " 'rozproszył pyszniących się zamysłami serc swoich.',\n",
    " 'Strącił władców z tronu,',\n",
    " 'a wywyższył pokornych.',\n",
    " 'Głodnych nasycił dobrami,',\n",
    " 'a bogatych z niczym odprawił.',\n",
    " 'Ujął się za swoim sługą, Izraelem,',\n",
    " 'pomny na swe miłosierdzie.',\n",
    " 'Jak obiecał naszym ojcom,',\n",
    " 'Abrahamowi i jego potomstwu na wieki»']\n",
    "' '.join(x)"
   ]
  }
 ],
 "metadata": {
  "kernelspec": {
   "display_name": "Python 3",
   "language": "python",
   "name": "python3"
  },
  "language_info": {
   "codemirror_mode": {
    "name": "ipython",
    "version": 3
   },
   "file_extension": ".py",
   "mimetype": "text/x-python",
   "name": "python",
   "nbconvert_exporter": "python",
   "pygments_lexer": "ipython3",
   "version": "3.10.8"
  },
  "orig_nbformat": 4,
  "vscode": {
   "interpreter": {
    "hash": "c5d4acb655fd02b6960c18b8a81a301b5fb3493440abb8c937c5545b8a1d8632"
   }
  }
 },
 "nbformat": 4,
 "nbformat_minor": 2
}
