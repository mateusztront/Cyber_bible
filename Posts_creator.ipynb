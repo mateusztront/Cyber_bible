{
 "cells": [
  {
   "cell_type": "code",
   "execution_count": 1,
   "metadata": {},
   "outputs": [],
   "source": [
    "import requests\n",
    "from bs4 import BeautifulSoup\n",
    "from PIL import Image, ImageDraw, ImageFont\n",
    "import copy\n",
    "import textwrap\n",
    "from pathlib import WindowsPath\n",
    "from datetime import date\n",
    "import os\n",
    "import re"
   ]
  },
  {
   "cell_type": "code",
   "execution_count": 2,
   "metadata": {},
   "outputs": [],
   "source": [
    "today = date.today()"
   ]
  },
  {
   "cell_type": "code",
   "execution_count": 3,
   "metadata": {},
   "outputs": [],
   "source": [
    "URL = f\"https://liturgia.wiara.pl/kalendarz/67b53.Czytania-mszalne/{str(today)}\"\n",
    "# URL = f\"https://liturgia.wiara.pl/kalendarz/67b53.Czytania-mszalne/2023-11-23\"\n",
    "\n",
    "page = requests.get(URL)\n",
    "\n",
    "soup = BeautifulSoup(page.content, \"html.parser\")\n",
    "\n",
    "content_list = soup.find_all(\"div\", \"txt__rich-area\")[1].get_text().split('\\n')\n",
    "\n",
    "if content_list[-1] == '':\n",
    "    del content_list[-1]"
   ]
  },
  {
   "cell_type": "code",
   "execution_count": 4,
   "metadata": {},
   "outputs": [
    {
     "data": {
      "text/plain": [
       "'https://liturgia.wiara.pl/kalendarz/67b53.Czytania-mszalne/2023-11-26'"
      ]
     },
     "execution_count": 4,
     "metadata": {},
     "output_type": "execute_result"
    }
   ],
   "source": [
    "URL"
   ]
  },
  {
   "cell_type": "code",
   "execution_count": 5,
   "metadata": {},
   "outputs": [
    {
     "data": {
      "text/plain": [
       "['',\n",
       " 'Liturgia Słowa wg lekcjonarza z 2015 rokuLiturgia Słowa do odsłuchania (wersja wideo)Liturgia Słowa według starego lekcjonarza',\n",
       " 'Liturgia Słowa wg lekcjonarza z 2015 roku',\n",
       " 'PIERWSZE CZYTANIE',\n",
       " 'Ez 34, 11-12. 15-17',\n",
       " 'Chrystus zna swoje owce',\n",
       " 'Czytanie z Księgi proroka Ezechiela',\n",
       " 'Tak mówi Pan Bóg: «Oto ja sam będę szukał moich owiec i będę sprawował nad nimi pieczę. Jak pasterz dokonuje przeglądu swojej trzody, gdy znajdzie się wśród rozproszonych owiec, tak Ja dokonam przeglądu moich owiec i uwolnię je ze wszystkich miejsc, dokąd się rozproszyły w dni ciemne i mroczne.',\n",
       " 'Ja sam będę pasł moje owce i Ja sam będę je układał na legowisku» – mówi Pan Bóg. «Zagubioną odszukam, zabłąkaną sprowadzę z powrotem, skaleczoną opatrzę, chorą umocnię, a tłustą i mocną będę ochraniał. Będę pasł sprawiedliwie».',\n",
       " 'Do was zaś, owce moje, tak mówi Pan Bóg: «Oto Ja osądzę poszczególne owce, barany i kozły».',\n",
       " 'Oto słowo Boże.',\n",
       " 'PSALM RESPONSORYJNY',\n",
       " 'Ps 23 (22), 1b-2a. 2b-3. 5. 6 (R.: por. 1b)',\n",
       " 'Refren: Pan mym pasterzem, nie brak mi niczego.',\n",
       " 'Pan jest moim pasterzem, *',\n",
       " 'niczego mi nie braknie,',\n",
       " 'pozwala mi leżeć *',\n",
       " 'na zielonych pastwiskach.',\n",
       " 'Refren.',\n",
       " 'Prowadzi mnie nad wody, gdzie mogę odpocząć, *',\n",
       " 'orzeźwia moją duszę.',\n",
       " 'Wiedzie mnie po właściwych ścieżkach *',\n",
       " 'przez wzgląd na swoją chwałę.',\n",
       " 'Refren.',\n",
       " 'Stół dla mnie zastawiasz *',\n",
       " 'na oczach mych wrogów.',\n",
       " 'Namaszczasz mi głowę olejkiem, *',\n",
       " 'kielich mój pełny po brzegi.',\n",
       " 'Refren.',\n",
       " 'Dobroć i łaska pójdą w ślad za mną *',\n",
       " 'przez wszystkie dni życia',\n",
       " 'i zamieszkam w domu Pana *',\n",
       " 'po najdłuższe czasy.',\n",
       " 'Refren.',\n",
       " 'DRUGIE CZYTANIE',\n",
       " '1 Kor 15, 20-26. 28',\n",
       " 'Królestwo Boże',\n",
       " 'Czytanie z Pierwszego Listu Świętego Pawła Apostoła do Koryntian',\n",
       " 'Bracia:',\n",
       " 'Chrystus zmartwychwstał jako pierwociny spośród tych, co pomarli. Ponieważ bowiem przez człowieka przyszła śmierć, przez Człowieka też dokona się zmartwychwstanie. I jak w Adamie wszyscy umierają, tak też w Chrystusie wszyscy będą ożywieni, lecz każdy według własnej kolejności: Chrystus jako pierwociny, potem ci, co należą do Chrystusa, w czasie Jego przyjścia. Wreszcie nastąpi koniec, gdy przekaże królowanie Bogu i Ojcu i gdy pokona wszelką Zwierzchność, Władzę i Moc.',\n",
       " 'Trzeba bowiem, ażeby królował, «aż położy wszystkich nieprzyjaciół pod swoje stopy». Jako ostatni wróg zostanie pokonana śmierć. A gdy już wszystko zostanie Mu poddane, wtedy i sam Syn zostanie poddany Temu, który Synowi poddał wszystko, aby Bóg był wszystkim we wszystkich.',\n",
       " 'Oto słowo Boże.',\n",
       " 'ŚPIEW PRZED EWANGELIĄ',\n",
       " 'Por. Mk 11, 9c. 10a',\n",
       " 'Aklamacja: Alleluja, alleluja, alleluja.',\n",
       " 'Błogosławiony, który przybywa w imię Pańskie.',\n",
       " 'Błogosławione Jego królestwo, które nadchodzi.',\n",
       " 'Aklamacja: Alleluja, alleluja, alleluja.',\n",
       " 'EWANGELIA',\n",
       " 'Mt 25, 31-46',\n",
       " 'Chrystus będzie sądził z uczynków miłości',\n",
       " 'Słowa Ewangelii według Świętego Mateusza',\n",
       " 'Jezus powiedział do swoich uczniów:',\n",
       " '«Gdy Syn Człowieczy przyjdzie w swej chwale, a z Nim wszyscy aniołowie, wtedy zasiądzie na swoim tronie pełnym chwały. I zgromadzą się przed Nim wszystkie narody, a On oddzieli jednych ludzi od drugich, jak pasterz oddziela owce od kozłów. Owce postawi po prawej, a kozły po swojej lewej stronie.\\xa0',\n",
       " 'Wtedy odezwie się Król do tych po prawej stronie:',\n",
       " '„Pójdźcie, błogosławieni u Ojca mojego, weźcie w posiadanie królestwo, przygotowane dla was od założenia świata!',\n",
       " 'Bo byłem głodny, a daliście Mi jeść;',\n",
       " 'byłem spragniony, a daliście Mi pić;',\n",
       " 'byłem przybyszem, a przyjęliście Mnie;',\n",
       " 'byłem nagi, a przyodzialiście Mnie;',\n",
       " 'byłem chory, a odwiedziliście Mnie;',\n",
       " 'byłem w więzieniu, a przyszliście do Mnie”.',\n",
       " 'Wówczas zapytają sprawiedliwi: „Panie, kiedy widzieliśmy Cię głodnym i nakarmiliśmy Ciebie? Albo spragnionym i daliśmy Ci pić? Kiedy widzieliśmy Cię przybyszem i przyjęliśmy Cię, lub nagim i przyodzialiśmy Cię? Kiedy widzieliśmy Cię chorym lub w więzieniu i przyszliśmy do Ciebie?”\\xa0A Król im odpowie: „Zaprawdę, powiadam wam: Wszystko, co uczyniliście jednemu z tych braci moich najmniejszych, Mnie uczyniliście”.',\n",
       " 'Wtedy odezwie się i do tych po lewej stronie: „Idźcie precz ode Mnie, przeklęci, w ogień wieczny, przygotowany diabłu i jego aniołom!',\n",
       " 'Bo byłem głodny, a nie daliście Mi jeść;',\n",
       " 'byłem spragniony, a nie daliście Mi pić;',\n",
       " 'byłem przybyszem, a nie przyjęliście Mnie;',\n",
       " 'byłem nagi, a nie przyodzialiście Mnie;',\n",
       " 'byłem chory i w więzieniu, a nie odwiedziliście Mnie”.',\n",
       " 'Wówczas zapytają i ci: „Panie, kiedy widzieliśmy Cię głodnym albo spragnionym, albo przybyszem, albo nagim, kiedy chorym albo w więzieniu, a nie usłużyliśmy Tobie?”\\xa0Wtedy odpowie im: „Zaprawdę, powiadam wam: Wszystko, czego nie uczyniliście jednemu z tych najmniejszych, tego i Mnie nie uczyniliście”.\\xa0',\n",
       " 'I pójdą ci na wieczną karę, sprawiedliwi zaś do życia wiecznego».',\n",
       " 'Oto słowo Pańskie.']"
      ]
     },
     "execution_count": 5,
     "metadata": {},
     "output_type": "execute_result"
    }
   ],
   "source": [
    "content_list"
   ]
  },
  {
   "cell_type": "code",
   "execution_count": 6,
   "metadata": {},
   "outputs": [],
   "source": [
    "# content_list[content_list.index('EWANGELIA')]"
   ]
  },
  {
   "cell_type": "code",
   "execution_count": 7,
   "metadata": {},
   "outputs": [
    {
     "data": {
      "text/plain": [
       "{'PIERWSZE CZYTANIE': ['Ez 34, 11-12. 15-17',\n",
       "  'Chrystus zna swoje owce',\n",
       "  'Czytanie z Księgi proroka Ezechiela',\n",
       "  'Tak mówi Pan Bóg: «Oto ja sam będę szukał moich owiec i będę sprawował nad nimi pieczę. Jak pasterz dokonuje przeglądu swojej trzody, gdy znajdzie się wśród rozproszonych owiec, tak Ja dokonam przeglądu moich owiec i uwolnię je ze wszystkich miejsc, dokąd się rozproszyły w dni ciemne i mroczne.',\n",
       "  'Ja sam będę pasł moje owce i Ja sam będę je układał na legowisku» – mówi Pan Bóg. «Zagubioną odszukam, zabłąkaną sprowadzę z powrotem, skaleczoną opatrzę, chorą umocnię, a tłustą i mocną będę ochraniał. Będę pasł sprawiedliwie».',\n",
       "  'Do was zaś, owce moje, tak mówi Pan Bóg: «Oto Ja osądzę poszczególne owce, barany i kozły».',\n",
       "  'Oto słowo Boże.'],\n",
       " 'PSALM RESPONSORYJNY': ['Ps 23 (22), 1b-2a. 2b-3. 5. 6 (R.: por. 1b)',\n",
       "  'Refren: Pan mym pasterzem, nie brak mi niczego.',\n",
       "  'Pan jest moim pasterzem, *',\n",
       "  'niczego mi nie braknie,',\n",
       "  'pozwala mi leżeć *',\n",
       "  'na zielonych pastwiskach.',\n",
       "  'Refren.',\n",
       "  'Prowadzi mnie nad wody, gdzie mogę odpocząć, *',\n",
       "  'orzeźwia moją duszę.',\n",
       "  'Wiedzie mnie po właściwych ścieżkach *',\n",
       "  'przez wzgląd na swoją chwałę.',\n",
       "  'Refren.',\n",
       "  'Stół dla mnie zastawiasz *',\n",
       "  'na oczach mych wrogów.',\n",
       "  'Namaszczasz mi głowę olejkiem, *',\n",
       "  'kielich mój pełny po brzegi.',\n",
       "  'Refren.',\n",
       "  'Dobroć i łaska pójdą w ślad za mną *',\n",
       "  'przez wszystkie dni życia',\n",
       "  'i zamieszkam w domu Pana *',\n",
       "  'po najdłuższe czasy.',\n",
       "  'Refren.'],\n",
       " 'DRUGIE CZYTANIE': ['1 Kor 15, 20-26. 28',\n",
       "  'Królestwo Boże',\n",
       "  'Czytanie z Pierwszego Listu Świętego Pawła Apostoła do Koryntian',\n",
       "  'Bracia:',\n",
       "  'Chrystus zmartwychwstał jako pierwociny spośród tych, co pomarli. Ponieważ bowiem przez człowieka przyszła śmierć, przez Człowieka też dokona się zmartwychwstanie. I jak w Adamie wszyscy umierają, tak też w Chrystusie wszyscy będą ożywieni, lecz każdy według własnej kolejności: Chrystus jako pierwociny, potem ci, co należą do Chrystusa, w czasie Jego przyjścia. Wreszcie nastąpi koniec, gdy przekaże królowanie Bogu i Ojcu i gdy pokona wszelką Zwierzchność, Władzę i Moc.',\n",
       "  'Trzeba bowiem, ażeby królował, «aż położy wszystkich nieprzyjaciół pod swoje stopy». Jako ostatni wróg zostanie pokonana śmierć. A gdy już wszystko zostanie Mu poddane, wtedy i sam Syn zostanie poddany Temu, który Synowi poddał wszystko, aby Bóg był wszystkim we wszystkich.',\n",
       "  'Oto słowo Boże.',\n",
       "  'ŚPIEW PRZED EWANGELIĄ',\n",
       "  'Por. Mk 11, 9c. 10a',\n",
       "  'Aklamacja: Alleluja, alleluja, alleluja.',\n",
       "  'Błogosławiony, który przybywa w imię Pańskie.',\n",
       "  'Błogosławione Jego królestwo, które nadchodzi.',\n",
       "  'Aklamacja: Alleluja, alleluja, alleluja.'],\n",
       " 'EWANGELIA': ['Mt 25, 31-46',\n",
       "  'Chrystus będzie sądził z uczynków miłości',\n",
       "  'Słowa Ewangelii według Świętego Mateusza',\n",
       "  'Jezus powiedział do swoich uczniów:',\n",
       "  '«Gdy Syn Człowieczy przyjdzie w swej chwale, a z Nim wszyscy aniołowie, wtedy zasiądzie na swoim tronie pełnym chwały. I zgromadzą się przed Nim wszystkie narody, a On oddzieli jednych ludzi od drugich, jak pasterz oddziela owce od kozłów. Owce postawi po prawej, a kozły po swojej lewej stronie.\\xa0',\n",
       "  'Wtedy odezwie się Król do tych po prawej stronie:',\n",
       "  '„Pójdźcie, błogosławieni u Ojca mojego, weźcie w posiadanie królestwo, przygotowane dla was od założenia świata!',\n",
       "  'Bo byłem głodny, a daliście Mi jeść;',\n",
       "  'byłem spragniony, a daliście Mi pić;',\n",
       "  'byłem przybyszem, a przyjęliście Mnie;',\n",
       "  'byłem nagi, a przyodzialiście Mnie;',\n",
       "  'byłem chory, a odwiedziliście Mnie;',\n",
       "  'byłem w więzieniu, a przyszliście do Mnie”.',\n",
       "  'Wówczas zapytają sprawiedliwi: „Panie, kiedy widzieliśmy Cię głodnym i nakarmiliśmy Ciebie? Albo spragnionym i daliśmy Ci pić? Kiedy widzieliśmy Cię przybyszem i przyjęliśmy Cię, lub nagim i przyodzialiśmy Cię? Kiedy widzieliśmy Cię chorym lub w więzieniu i przyszliśmy do Ciebie?”\\xa0A Król im odpowie: „Zaprawdę, powiadam wam: Wszystko, co uczyniliście jednemu z tych braci moich najmniejszych, Mnie uczyniliście”.',\n",
       "  'Wtedy odezwie się i do tych po lewej stronie: „Idźcie precz ode Mnie, przeklęci, w ogień wieczny, przygotowany diabłu i jego aniołom!',\n",
       "  'Bo byłem głodny, a nie daliście Mi jeść;',\n",
       "  'byłem spragniony, a nie daliście Mi pić;',\n",
       "  'byłem przybyszem, a nie przyjęliście Mnie;',\n",
       "  'byłem nagi, a nie przyodzialiście Mnie;',\n",
       "  'byłem chory i w więzieniu, a nie odwiedziliście Mnie”.',\n",
       "  'Wówczas zapytają i ci: „Panie, kiedy widzieliśmy Cię głodnym albo spragnionym, albo przybyszem, albo nagim, kiedy chorym albo w więzieniu, a nie usłużyliśmy Tobie?”\\xa0Wtedy odpowie im: „Zaprawdę, powiadam wam: Wszystko, czego nie uczyniliście jednemu z tych najmniejszych, tego i Mnie nie uczyniliście”.\\xa0',\n",
       "  'I pójdą ci na wieczną karę, sprawiedliwi zaś do życia wiecznego».',\n",
       "  'Oto słowo Pańskie.']}"
      ]
     },
     "execution_count": 7,
     "metadata": {},
     "output_type": "execute_result"
    }
   ],
   "source": [
    "if 'EWANGELIA DŁUŻSZA' in content_list:\n",
    "    cut_points = ['PIERWSZE CZYTANIE', 'PSALM RESPONSORYJNY', 'DRUGIE CZYTANIE', 'EWANGELIA DŁUŻSZA', 'EWANGELIA KRÓTSZA']\n",
    "elif 'DRUGIE CZYTANIE' in content_list:\n",
    "    cut_points = ['PIERWSZE CZYTANIE', 'PSALM RESPONSORYJNY', 'DRUGIE CZYTANIE', 'EWANGELIA']\n",
    "else:\n",
    "    cut_points = ['PIERWSZE CZYTANIE', 'PSALM RESPONSORYJNY', 'EWANGELIA']\n",
    "\n",
    "content_dic = {}\n",
    "staging_list = [] \n",
    "\n",
    "\n",
    "for text in content_list:\n",
    "    if 'Liturgia Słowa' in text or '' == text:\n",
    "        continue\n",
    "    \n",
    "\n",
    "    # content_list[content_list.index(text)] = text.strip()\n",
    "    # text = text.strip()\n",
    "    \n",
    "    if text in cut_points:\n",
    "\n",
    "        for text in content_list[content_list.index(text)+1:]:\n",
    "            if '' == text:\n",
    "                continue\n",
    "            if text not in cut_points:\n",
    "                staging_list.append(text)\n",
    "                \n",
    "            else:\n",
    "                content_dic[cut_points[0]] = staging_list\n",
    "                staging_list = [] \n",
    "                del cut_points[0]\n",
    "                break\n",
    "        \n",
    "        content_dic[cut_points[0]] = staging_list\n",
    "\n",
    "content_dic \n",
    "\n",
    "        "
   ]
  },
  {
   "cell_type": "code",
   "execution_count": 8,
   "metadata": {},
   "outputs": [
    {
     "data": {
      "text/plain": [
       "dict_keys(['PIERWSZE CZYTANIE', 'PSALM RESPONSORYJNY', 'DRUGIE CZYTANIE', 'EWANGELIA'])"
      ]
     },
     "execution_count": 8,
     "metadata": {},
     "output_type": "execute_result"
    }
   ],
   "source": [
    "content_dic.keys()"
   ]
  },
  {
   "cell_type": "code",
   "execution_count": 9,
   "metadata": {},
   "outputs": [],
   "source": [
    "if 'EWANGELIA KRÓTSZA' in content_list:\n",
    "    content_dic['EWANGELIA KRÓTSZA'].insert(1, content_dic['EWANGELIA DŁUŻSZA'][1])\n",
    "    content_dic['EWANGELIA KRÓTSZA']"
   ]
  },
  {
   "cell_type": "code",
   "execution_count": 10,
   "metadata": {},
   "outputs": [],
   "source": [
    "path = r\"C:\\Users\\Acne\\Pictures\\Cyfrowa Biblia\\automatyzacja\\paper.gif\"\n",
    "\n",
    "image_size = 1080\n",
    "with Image.open(path) as im:\n",
    "    out = Image.new(\"RGB\", (image_size, image_size), \"white\")\n",
    "    x=0\n",
    "    y=0\n",
    "    size_x_left, size_y = im.size\n",
    "\n",
    "    while x < image_size:\n",
    "        while y < image_size:\n",
    "            out.paste(im, (x, y))\n",
    "            y += size_y\n",
    "        y = 0\n",
    "        x += size_x_left\n",
    "\n",
    "# out.show()\n"
   ]
  },
  {
   "cell_type": "code",
   "execution_count": 11,
   "metadata": {},
   "outputs": [],
   "source": [
    "tahoma = r\"C:\\Windows\\Fonts\\tahoma.ttf\"\n",
    "tahoma_bold = r\"C:\\Windows\\Fonts\\tahomabd.ttf\""
   ]
  },
  {
   "cell_type": "code",
   "execution_count": 12,
   "metadata": {},
   "outputs": [],
   "source": [
    "current_path = WindowsPath(r'C:\\Users\\Acne\\Pictures\\Cyfrowa Biblia\\\\' + str(today))\n",
    "\n",
    "os.makedirs(current_path, exist_ok=True)"
   ]
  },
  {
   "cell_type": "code",
   "execution_count": 13,
   "metadata": {},
   "outputs": [],
   "source": [
    "def draw_text(out, name, current_path, size_x_left, size_y, font_size):\n",
    "\n",
    "    font_size_small = int(0.75 * font_size)\n",
    "\n",
    "    fnt = ImageFont.truetype(tahoma, font_size) \n",
    "    fnt_b = ImageFont.truetype(tahoma_bold, font_size)\n",
    "    fnt_s = ImageFont.truetype(tahoma, font_size_small)\n",
    "\n",
    "    size_x_left = int(25/12 * font_size)\n",
    "    size_x_right = image_size - 2 * size_x_left\n",
    "    size_y = int(1.2 * font_size)\n",
    "    width = int(80 - 0.3 * size_x_left)\n",
    "\n",
    "    out_func = copy.deepcopy(out)\n",
    "    draw = ImageDraw.Draw(out_func) \n",
    "\n",
    "    draw.text((size_x_left, size_x_left), name, font=fnt_b, fill=\"red\", anchor='lm')\n",
    "    draw.text((size_x_right + size_x_left, size_x_left), content_dic[name][0], font=fnt_b, fill=\"red\", anchor='rm') #TODO\n",
    "    \n",
    "    var_y = size_x_left + size_y\n",
    "    draw.text((size_x_left, var_y), content_dic[name][1], font=fnt_s, fill=\"black\", anchor='lm')\n",
    "    \n",
    "    lines = textwrap.wrap(content_dic[name][2], width=width)\n",
    "    for line in lines:\n",
    "        var_y += size_y\n",
    "        draw.text((size_x_left, var_y), line, font=fnt_b, fill=\"black\", anchor='lm')\n",
    "    \n",
    "    var_y += size_x_left\n",
    "    \n",
    "    for count, element in enumerate(content_dic[name][3:-1]):\n",
    "        lines = textwrap.wrap(content_dic[name][3+count], width=width)\n",
    "        space_length_regular = 15\n",
    "\n",
    "        for line_count, line in enumerate(lines):\n",
    "            x_word = size_x_left\n",
    "            x_word_intended = 2 * size_x_left\n",
    "            words = line.split(\" \")\n",
    "            words_length = sum(draw.textlength(w, font=fnt) for w in words)\n",
    "            if len(words)==1:\n",
    "                words.append(' ')\n",
    "\n",
    "            if line_count == len(lines)-1:\n",
    "                for word in words:\n",
    "                    draw.text((x_word, var_y), word, font=fnt, fill=\"black\", anchor='lm')\n",
    "                    x_word += draw.textlength(word, font=fnt) + space_length_regular\n",
    "                var_y += size_y  \n",
    "                break\n",
    "            \n",
    "            space_length_intended = (size_x_right - x_word - words_length) / (len(words) - 1)\n",
    "            space_length_regular = (size_x_right - words_length) / (len(words) - 1)\n",
    "           \n",
    "            if line_count == 0 and line != 'Bracia:' and 'Jezus powiedział' not in line:\n",
    "                for word in words:\n",
    "                    draw.text((x_word_intended, var_y), word, font=fnt, fill=\"black\", anchor='lm')\n",
    "                    x_word_intended += draw.textlength(word, font=fnt) + space_length_intended\n",
    "\n",
    "            else:\n",
    "                for word in words:\n",
    "                    draw.text((x_word, var_y), word, font=fnt, fill=\"black\", anchor='lm')\n",
    "                    x_word += draw.textlength(word, font=fnt) + space_length_regular\n",
    "            var_y += size_y            \n",
    "            \n",
    "    draw.text((2*size_x_left, var_y+size_y), content_dic[name][-1], font=fnt_b, fill=\"black\", anchor='lm')\n",
    "\n",
    "    # out_func.show()\n",
    "\n",
    "    returned = {'drawn_y': var_y+size_y, 'picture': out_func}\n",
    "\n",
    "    return returned\n",
    "    # out_func.save(current_path / f'{name}.png')\n",
    "\n",
    "    out_func = copy.deepcopy(out)"
   ]
  },
  {
   "cell_type": "code",
   "execution_count": 14,
   "metadata": {},
   "outputs": [],
   "source": [
    "if \"DRUGIE CZYTANIE\" in content_dic:\n",
    "    if 'ŚPIEW PRZED EWANGELIĄ' in content_dic[\"DRUGIE CZYTANIE\"]:\n",
    "        content_dic[\"DRUGIE CZYTANIE\"] = content_dic[\"DRUGIE CZYTANIE\"][:-6]"
   ]
  },
  {
   "cell_type": "code",
   "execution_count": 15,
   "metadata": {},
   "outputs": [],
   "source": [
    "def draw_text_pagination_first(out, reading_list, current_path, size_x_left, size_y, font_size):\n",
    "\n",
    "    font_size_small = int(0.75 * font_size)\n",
    "\n",
    "    fnt = ImageFont.truetype(tahoma, font_size) \n",
    "    fnt_b = ImageFont.truetype(tahoma_bold, font_size)\n",
    "    fnt_s = ImageFont.truetype(tahoma, font_size_small)\n",
    "\n",
    "    size_x_left = int(25/12 * font_size)\n",
    "    size_x_right = image_size - 2 * size_x_left\n",
    "    size_y = int(1.2 * font_size)\n",
    "    width = int(80 - 0.35 * size_x_left)\n",
    "\n",
    "    out_func = copy.deepcopy(out)\n",
    "    draw = ImageDraw.Draw(out_func) \n",
    "\n",
    "    draw.text((size_x_left, size_x_left), 'PIERWSZE CZYTANIE', font=fnt_b, fill=\"red\", anchor='lm')\n",
    "    draw.text((size_x_right + size_x_left, size_x_left), reading_list[0], font=fnt_b, fill=\"red\", anchor='rm') #TODO\n",
    "    \n",
    "    var_y = size_x_left + size_y\n",
    "    draw.text((size_x_left, var_y), reading_list[1], font=fnt_s, fill=\"black\", anchor='lm')\n",
    "    \n",
    "    lines = textwrap.wrap(reading_list[2], width=width)\n",
    "    for line in lines:\n",
    "        var_y += size_y\n",
    "        draw.text((size_x_left, var_y), line, font=fnt_b, fill=\"black\", anchor='lm')\n",
    "    \n",
    "    var_y += size_x_left\n",
    "    \n",
    "    for count, element in enumerate(reading_list[3:]):\n",
    "        lines = textwrap.wrap(reading_list[3+count], width=width)\n",
    "        space_length_regular = 15\n",
    "\n",
    "        for line_count, line in enumerate(lines):\n",
    "            x_word = size_x_left\n",
    "            x_word_intended = 2 * size_x_left\n",
    "            words = line.split(\" \")\n",
    "            words_length = sum(draw.textlength(w, font=fnt) for w in words)\n",
    "            if len(words)==1:\n",
    "                words.append(' ')\n",
    "\n",
    "                for word in words:\n",
    "                    draw.text((x_word, var_y), word, font=fnt, fill=\"black\", anchor='lm')\n",
    "                    x_word += draw.textlength(word, font=fnt) + space_length_regular\n",
    "                var_y += size_y  \n",
    "                break\n",
    "\n",
    "            if line_count == len(lines)-1:\n",
    "                for word in words:\n",
    "                    draw.text((x_word, var_y), word, font=fnt, fill=\"black\", anchor='lm')\n",
    "                    x_word += draw.textlength(word, font=fnt) + space_length_regular\n",
    "                var_y += size_y  \n",
    "                break\n",
    "            \n",
    "            space_length_intended = (size_x_right - x_word - words_length) / (len(words) - 1)\n",
    "            space_length_regular = (size_x_right - words_length) / (len(words) - 1)\n",
    "           \n",
    "            if line_count == 0 and line != 'Bracia:' and 'Jezus powiedział' not in line:\n",
    "                for word in words:\n",
    "                    draw.text((x_word_intended, var_y), word, font=fnt, fill=\"black\", anchor='lm')\n",
    "                    x_word_intended += draw.textlength(word, font=fnt) + space_length_intended\n",
    "\n",
    "            else:\n",
    "                for word in words:\n",
    "                    draw.text((x_word, var_y), word, font=fnt, fill=\"black\", anchor='lm')\n",
    "                    x_word += draw.textlength(word, font=fnt) + space_length_regular\n",
    "            var_y += size_y            \n",
    "            \n",
    "    # out_func.show()\n",
    "\n",
    "    returned = {'drawn_y': var_y+size_y, 'picture': out_func}\n",
    "\n",
    "    return returned\n",
    "    # out_func.save(current_path / f'{name}.png')\n",
    "\n",
    "    out_func = copy.deepcopy(out)"
   ]
  },
  {
   "cell_type": "code",
   "execution_count": 16,
   "metadata": {},
   "outputs": [],
   "source": [
    "def draw_text_pagination_second(out, reading_list, current_path, size_x_left, size_y, font_size):\n",
    "\n",
    "    font_size_small = int(0.75 * font_size)\n",
    "\n",
    "    fnt = ImageFont.truetype(tahoma, font_size) \n",
    "    fnt_b = ImageFont.truetype(tahoma_bold, font_size)\n",
    "    fnt_s = ImageFont.truetype(tahoma, font_size_small)\n",
    "\n",
    "    size_x_left = int(25/12 * font_size)\n",
    "    size_x_right = image_size - 2 * size_x_left\n",
    "    size_y = int(1.2 * font_size)\n",
    "    width = int(80 - 0.3 * size_x_left)\n",
    "\n",
    "    out_func = copy.deepcopy(out)\n",
    "    draw = ImageDraw.Draw(out_func) \n",
    "\n",
    "    var_y = size_x_left\n",
    "    \n",
    "    lines = textwrap.wrap(reading_list[0], width=width)\n",
    "    \n",
    "    for count, element in enumerate(reading_list[0:-1]):\n",
    "        lines = textwrap.wrap(reading_list[0+count], width=width)\n",
    "        space_length_regular = 15\n",
    "\n",
    "        for line_count, line in enumerate(lines):\n",
    "            x_word = size_x_left\n",
    "            x_word_intended = 2 * size_x_left\n",
    "            words = line.split(\" \")\n",
    "            words_length = sum(draw.textlength(w, font=fnt) for w in words)\n",
    "            if len(words)==1:\n",
    "                words.append(' ')\n",
    "\n",
    "                for word in words:\n",
    "                    draw.text((x_word, var_y), word, font=fnt, fill=\"black\", anchor='lm')\n",
    "                    x_word += draw.textlength(word, font=fnt) + space_length_regular\n",
    "                var_y += size_y  \n",
    "                break\n",
    "\n",
    "            if line_count == len(lines)-1:\n",
    "                for word in words:\n",
    "                    draw.text((x_word, var_y), word, font=fnt, fill=\"black\", anchor='lm')\n",
    "                    x_word += draw.textlength(word, font=fnt) + space_length_regular\n",
    "                var_y += size_y  \n",
    "                break\n",
    "            \n",
    "            space_length_intended = (size_x_right - x_word - words_length) / (len(words) - 1)\n",
    "            space_length_regular = (size_x_right - words_length) / (len(words) - 1)\n",
    "           \n",
    "            if line_count == 0 and line != 'Bracia:' and 'Jezus powiedział' not in line:\n",
    "                for word in words:\n",
    "                    draw.text((x_word_intended, var_y), word, font=fnt, fill=\"black\", anchor='lm')\n",
    "                    x_word_intended += draw.textlength(word, font=fnt) + space_length_intended\n",
    "\n",
    "            else:\n",
    "                for word in words:\n",
    "                    draw.text((x_word, var_y), word, font=fnt, fill=\"black\", anchor='lm')\n",
    "                    x_word += draw.textlength(word, font=fnt) + space_length_regular\n",
    "            var_y += size_y            \n",
    "            \n",
    "    draw.text((2*size_x_left, var_y+size_y), reading_list[-1], font=fnt_b, fill=\"black\", anchor='lm')\n",
    "\n",
    "    # out_func.show()\n",
    "\n",
    "    returned = {'drawn_y': var_y+size_y, 'picture': out_func}\n",
    "\n",
    "    return returned\n",
    "    # out_func.save(current_path / f'{name}.png')\n",
    "\n",
    "    out_func = copy.deepcopy(out)"
   ]
  },
  {
   "cell_type": "code",
   "execution_count": 17,
   "metadata": {},
   "outputs": [
    {
     "name": "stdout",
     "output_type": "stream",
     "text": [
      "font_size:  34\n"
     ]
    }
   ],
   "source": [
    "min_font_before_pagination = 28\n",
    "verse_break = 5\n",
    "\n",
    "\n",
    "for text in content_dic.keys():\n",
    "    if text != 'PSALM RESPONSORYJNY':\n",
    "        font_size = 34\n",
    "        returned = draw_text(out, text, current_path, size_x_left, size_y, font_size)\n",
    "\n",
    "        while returned['drawn_y'] > image_size:\n",
    "            if font_size < min_font_before_pagination:\n",
    "                pagination_dic = {}\n",
    "                pagination_dic[f'{text} cz.1'] = content_dic[f'{text}'][:verse_break]\n",
    "                pagination_dic[f'{text} cz.2'] = content_dic[f'{text}'][verse_break:]\n",
    "\n",
    "                returned = draw_text_pagination_first(out, pagination_dic[f'{text} cz.1'], current_path, size_x_left, size_y, 32)\n",
    "                returned['picture'].show()\n",
    "                returned['picture'].save(current_path / f'{text}1.png')\n",
    "\n",
    "                returned = draw_text_pagination_second(out,  pagination_dic[f'{text} cz.2'], current_path, size_x_left, size_y, 32)\n",
    "                returned['picture'].show()\n",
    "                returned['picture'].save(current_path / f'{text}2.png')\n",
    "\n",
    "                break\n",
    "            \n",
    "            else:\n",
    "                font_size -= 1\n",
    "                returned = draw_text(out, text, current_path, size_x_left, size_y, font_size)\n",
    "        \n",
    "        print('font_size: ', font_size)\n",
    "        returned['picture'].show()\n",
    "        returned['picture'].save(current_path / f'{text}.png')"
   ]
  },
  {
   "cell_type": "code",
   "execution_count": null,
   "metadata": {},
   "outputs": [],
   "source": [
    "returned = draw_text(out, 'PIERWSZE CZYTANIE', current_path, size_x_left, size_y, 26)\n",
    "returned['picture'].show()\n",
    "returned['picture'].save(current_path / f'{text}.png')"
   ]
  },
  {
   "cell_type": "code",
   "execution_count": null,
   "metadata": {},
   "outputs": [],
   "source": [
    "font_size_psalm = 32\n",
    "font_size_small_psalm = int(0.75 * font_size_psalm)\n",
    "\n",
    "tahoma = r\"C:\\Windows\\Fonts\\tahoma.ttf\"\n",
    "tahoma_bold = r\"C:\\Windows\\Fonts\\tahomabd.ttf\"\n",
    "\n",
    "fnt_psalm = ImageFont.truetype(tahoma, font_size_psalm) \n",
    "fnt_b_psalm = ImageFont.truetype(tahoma_bold, font_size_psalm)\n",
    "fnt_s_psalm = ImageFont.truetype(tahoma, font_size_small_psalm)"
   ]
  },
  {
   "cell_type": "code",
   "execution_count": null,
   "metadata": {},
   "outputs": [
    {
     "data": {
      "text/plain": [
       "['Łk 20, 27-40',\n",
       " 'Uduchowione życie zmartwychwstałych',\n",
       " 'Słowa Ewangelii według Świętego Łukasza',\n",
       " 'Podeszło do Jezusa kilku saduceuszów, którzy twierdzą, że nie ma zmartwychwstania, i zagadnęli Go w ten sposób:',\n",
       " '«Nauczycielu, Mojżesz tak nam przepisał: „Jeśli umrze czyjś brat, który miał żonę, a był bezdzietny, niech jego brat pojmie ją za żonę i niech wzbudzi potomstwo swemu bratu”. Otóż było siedmiu braci. Pierwszy pojął żonę i zmarł bezdzietnie. Pojął ją drugi, a potem trzeci, i tak wszyscy pomarli, nie zostawiwszy dzieci. W końcu umarła ta kobieta. Przy zmartwychwstaniu więc którego z nich będzie żoną? Wszyscy siedmiu bowiem mieli ją za żonę».',\n",
       " 'Jezus im odpowiedział: «Dzieci tego świata żenią się i za mąż wychodzą. Lecz ci, którzy uznani zostaną za godnych udziału w świecie przyszłym i w powstaniu z martwych, ani się żenić nie będą, ani za mąż wychodzić. Już bowiem umrzeć nie mogą, gdyż są równi aniołom i są dziećmi Bożymi, będąc uczestnikami zmartwychwstania. A że umarli zmartwychwstają, to i Mojżesz zaznaczył tam, gdzie jest mowa o krzewie, gdy Pana nazywa „Bogiem Abrahama, Bogiem Izaaka i Bogiem Jakuba”. Bóg nie jest Bogiem umarłych, lecz żywych; wszyscy bowiem dla Niego żyją».',\n",
       " 'Na to rzekli niektórzy z uczonych w Piśmie: «Nauczycielu, dobrze powiedziałeś». I już o nic nie śmieli Go pytać.',\n",
       " 'Oto słowo Pańskie.']"
      ]
     },
     "execution_count": 130,
     "metadata": {},
     "output_type": "execute_result"
    }
   ],
   "source": [
    "content_dic[\"EWANGELIA\"]"
   ]
  },
  {
   "cell_type": "code",
   "execution_count": null,
   "metadata": {},
   "outputs": [],
   "source": [
    "# content_dic[\"PSALM RESPONSORYJNY\"].insert(16, 'Refren')\n",
    "# content_dic[\"PSALM RESPONSORYJNY\"]"
   ]
  },
  {
   "cell_type": "code",
   "execution_count": null,
   "metadata": {},
   "outputs": [
    {
     "name": "stdout",
     "output_type": "stream",
     "text": [
      "40\n"
     ]
    },
    {
     "data": {
      "text/plain": [
       "'Ps 9'"
      ]
     },
     "execution_count": 132,
     "metadata": {},
     "output_type": "execute_result"
    }
   ],
   "source": [
    "print(len(content_dic[\"PSALM RESPONSORYJNY\"][0]))\n",
    "if len(content_dic[\"PSALM RESPONSORYJNY\"][0]) > 35:\n",
    "    content_dic[\"PSALM RESPONSORYJNY\"][0] = content_dic[\"PSALM RESPONSORYJNY\"][0].split(',')[0]\n",
    "content_dic[\"PSALM RESPONSORYJNY\"][0]"
   ]
  },
  {
   "cell_type": "code",
   "execution_count": null,
   "metadata": {},
   "outputs": [],
   "source": [
    "out_psalm = copy.deepcopy(out)\n",
    "draw = ImageDraw.Draw(out_psalm) \n",
    "\n",
    "y_distance = font_size_psalm * 0.95\n",
    "y_further_distance = font_size_psalm * 1.2\n",
    "x_distance = font_size_psalm * 2\n",
    "\n",
    "draw.text((x_distance, y_further_distance*2), \"PSALM RESPONSORYJNY\", font=fnt_b_psalm, fill=\"red\", anchor='lm')\n",
    "draw.text((1000, y_further_distance*2), content_dic[\"PSALM RESPONSORYJNY\"][0], font=fnt_b_psalm, fill=\"red\", anchor='rm')\n",
    "draw.text((x_distance, y_further_distance*3), \"Refren: \", font=fnt_b_psalm, fill=\"red\", anchor='lm')\n",
    "draw.text((x_distance*3, y_further_distance*3), content_dic[\"PSALM RESPONSORYJNY\"][1][7:], font=fnt_b_psalm, fill=\"black\", anchor='lm')\n",
    "\n",
    "# draw.text((100, 300), content_dic[\"PSALM RESPONSORYJNY\"][3], font=fnt_psalm, fill=\"black\", anchor='lm')\n",
    "y_text = y_further_distance*4\n",
    "for count, element in enumerate(content_dic[\"PSALM RESPONSORYJNY\"][2:]):\n",
    "    # lines = textwrap.wrap(second_element[2+count], width=80)\n",
    "    # for line in lines:\n",
    "    if \"Refren\" in element :\n",
    "        y_text += y_further_distance\n",
    "        draw.text((x_distance, y_text), \"Refren: \", font=fnt_b_psalm, fill=\"red\", anchor='lm')\n",
    "        draw.text((x_distance*3, y_text), content_dic[\"PSALM RESPONSORYJNY\"][1][7:], font=fnt_b_psalm, fill=\"black\", anchor='lm')\n",
    "        y_text += y_further_distance\n",
    "    elif \"ŚPIEW PRZED EWANGELIĄ\" in element:\n",
    "        # print(\"NUMER: \", inner_count)\n",
    "        acclamation = content_dic[\"PSALM RESPONSORYJNY\"][count+2:]\n",
    "        draw.text((x_distance, y_text), \"AKLAMACJA PRZED EWANGELIĄ\", font=fnt_b_psalm, fill=\"red\", anchor='lm')\n",
    "        draw.text((1000, y_text), acclamation[1], font=fnt_b_psalm, fill=\"red\", anchor='rm')\n",
    "        draw.text((x_distance, y_text+y_further_distance), \"Aklamacja: \", font=fnt_b_psalm, fill=\"red\", anchor='lm')\n",
    "        draw.text((x_distance*4, y_text+y_further_distance), acclamation[2][10:], font=fnt_b_psalm, fill=\"black\", anchor='lm')\n",
    "        draw.text((x_distance*2, y_text+y_further_distance*2), acclamation[3], font=fnt_psalm, fill=\"black\", anchor='lm')\n",
    "        draw.text((x_distance*2, y_text+y_further_distance*2+y_distance), acclamation[4], font=fnt_psalm, fill=\"black\", anchor='lm')\n",
    "\n",
    "        draw.text((x_distance, y_text+y_further_distance*3+y_distance), \"Aklamacja: \", font=fnt_b_psalm, fill=\"red\", anchor='lm') \n",
    "        draw.text((x_distance*4, y_text+y_further_distance*3+y_distance), acclamation[5][10:], font=fnt_b_psalm, fill=\"black\", anchor='lm')\n",
    "\n",
    "        break  \n",
    "\n",
    "# TODO\n",
    "    elif 'albo' in element:\n",
    "        continue\n",
    "\n",
    "    else:\n",
    "        draw.text((x_distance*2, y_text), element, font=fnt_psalm, fill=\"black\", anchor='lm')\n",
    "    y_text += y_distance\n",
    "\n",
    "out_psalm.show()\n",
    "out_psalm.save(current_path / 'psalm.png')\n",
    "\n",
    "out_psalm = copy.deepcopy(out)"
   ]
  },
  {
   "cell_type": "code",
   "execution_count": null,
   "metadata": {},
   "outputs": [],
   "source": [
    "# content_dic[\"EWANGELIA\"]"
   ]
  },
  {
   "cell_type": "code",
   "execution_count": null,
   "metadata": {},
   "outputs": [
    {
     "data": {
      "text/plain": [
       "dict_keys(['PIERWSZE CZYTANIE', 'PSALM RESPONSORYJNY', 'EWANGELIA'])"
      ]
     },
     "execution_count": 135,
     "metadata": {},
     "output_type": "execute_result"
    }
   ],
   "source": [
    "content_dic.keys()"
   ]
  },
  {
   "cell_type": "code",
   "execution_count": null,
   "metadata": {},
   "outputs": [],
   "source": [
    "# content_dic['PIERWSZE CZYTANIE cz.1'] = content_dic['PIERWSZE CZYTANIE'][:6]\n",
    "# content_dic['PIERWSZE CZYTANIE cz.2'] = content_dic['PIERWSZE CZYTANIE'][6:]\n",
    "# returned = draw_text_pagination(out, 'PIERWSZE CZYTANIE cz.1', current_path, size_x_left, size_y, 32)\n",
    "# returned['picture'].show()\n",
    "# returned['picture'].save(current_path / f'{text}1.png')\n",
    "# returned = draw_text_pagination_second(out, 'PIERWSZE CZYTANIE cz.2', current_path, size_x_left, size_y, 32)\n",
    "# returned['picture'].show()\n",
    "# returned['picture'].save(current_path / f'{text}2.png')"
   ]
  },
  {
   "cell_type": "code",
   "execution_count": null,
   "metadata": {},
   "outputs": [],
   "source": [
    "# text = 'PIERWSZE CZYTANIE'\n",
    "# content_dic[f'{text} cz.1'] = content_dic[f'{text}'][:6]\n",
    "# content_dic[f'{text} cz.2'] = content_dic[f'{text}'][6:]\n",
    "# returned = draw_text_pagination_first(out, f'{text} cz.1', current_path, size_x_left, size_y, 30)\n",
    "# returned['picture'].show()\n",
    "# returned['picture'].save(current_path / f'{text}1.png')\n",
    "\n",
    "# returned = draw_text_pagination_second(out, f'{text} cz.2', current_path, size_x_left, size_y, 32)\n",
    "# returned['picture'].show()\n",
    "# returned['picture'].save(current_path / f'{text}2.png')"
   ]
  },
  {
   "cell_type": "code",
   "execution_count": null,
   "metadata": {},
   "outputs": [],
   "source": [
    "# content_dic['EWANGELIA'] = content_dic['EWANGELIA ']"
   ]
  },
  {
   "cell_type": "code",
   "execution_count": null,
   "metadata": {},
   "outputs": [],
   "source": [
    "# text = 'EWANGELIA'\n",
    "# content_dic['EWANGELIA cz.1'] = content_dic['EWANGELIA'][:7]\n",
    "# content_dic['EWANGELIA cz.2'] = content_dic['EWANGELIA'][7:]\n",
    "# returned = draw_text_pagination_first(out, 'EWANGELIA cz.1', current_path, size_x_left, size_y, 32)\n",
    "# returned['picture'].show()\n",
    "# returned['picture'].save(current_path / f'{text}1.png')\n",
    "\n",
    "# returned = draw_text_pagination_second(out, 'EWANGELIA cz.2', current_path, size_x_left, size_y, 32)\n",
    "# returned['picture'].show()\n",
    "# returned['picture'].save(current_path / f'{text}2.png')"
   ]
  },
  {
   "cell_type": "code",
   "execution_count": null,
   "metadata": {},
   "outputs": [
    {
     "data": {
      "text/plain": [
       "['Łk 20, 27-40',\n",
       " 'Uduchowione życie zmartwychwstałych',\n",
       " 'Słowa Ewangelii według Świętego Łukasza',\n",
       " 'Podeszło do Jezusa kilku saduceuszów, którzy twierdzą, że nie ma zmartwychwstania, i zagadnęli Go w ten sposób:',\n",
       " '«Nauczycielu, Mojżesz tak nam przepisał: „Jeśli umrze czyjś brat, który miał żonę, a był bezdzietny, niech jego brat pojmie ją za żonę i niech wzbudzi potomstwo swemu bratu”. Otóż było siedmiu braci. Pierwszy pojął żonę i zmarł bezdzietnie. Pojął ją drugi, a potem trzeci, i tak wszyscy pomarli, nie zostawiwszy dzieci. W końcu umarła ta kobieta. Przy zmartwychwstaniu więc którego z nich będzie żoną? Wszyscy siedmiu bowiem mieli ją za żonę».',\n",
       " 'Jezus im odpowiedział: «Dzieci tego świata żenią się i za mąż wychodzą. Lecz ci, którzy uznani zostaną za godnych udziału w świecie przyszłym i w powstaniu z martwych, ani się żenić nie będą, ani za mąż wychodzić. Już bowiem umrzeć nie mogą, gdyż są równi aniołom i są dziećmi Bożymi, będąc uczestnikami zmartwychwstania. A że umarli zmartwychwstają, to i Mojżesz zaznaczył tam, gdzie jest mowa o krzewie, gdy Pana nazywa „Bogiem Abrahama, Bogiem Izaaka i Bogiem Jakuba”. Bóg nie jest Bogiem umarłych, lecz żywych; wszyscy bowiem dla Niego żyją».',\n",
       " 'Na to rzekli niektórzy z uczonych w Piśmie: «Nauczycielu, dobrze powiedziałeś». I już o nic nie śmieli Go pytać.',\n",
       " 'Oto słowo Pańskie.']"
      ]
     },
     "execution_count": 140,
     "metadata": {},
     "output_type": "execute_result"
    }
   ],
   "source": [
    "content_dic['EWANGELIA']"
   ]
  },
  {
   "cell_type": "code",
   "execution_count": null,
   "metadata": {},
   "outputs": [],
   "source": [
    "import requests\n",
    "\n",
    "r = requests.get(\"\"\"https://www.facebook.com/v18.0/dialog/oauth?\n",
    "  client_id=714347393567311\n",
    "  &redirect_uri={redirect-uri}\n",
    "  &state={\"{st=state123abc,ds=123456789}\"}\"\"\")\n",
    "r"
   ]
  }
 ],
 "metadata": {
  "kernelspec": {
   "display_name": "Python 3",
   "language": "python",
   "name": "python3"
  },
  "language_info": {
   "codemirror_mode": {
    "name": "ipython",
    "version": 3
   },
   "file_extension": ".py",
   "mimetype": "text/x-python",
   "name": "python",
   "nbconvert_exporter": "python",
   "pygments_lexer": "ipython3",
   "version": "3.10.8"
  },
  "orig_nbformat": 4,
  "vscode": {
   "interpreter": {
    "hash": "c5d4acb655fd02b6960c18b8a81a301b5fb3493440abb8c937c5545b8a1d8632"
   }
  }
 },
 "nbformat": 4,
 "nbformat_minor": 2
}
