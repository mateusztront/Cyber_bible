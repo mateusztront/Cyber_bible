{
 "cells": [
  {
   "cell_type": "code",
   "execution_count": 193,
   "metadata": {},
   "outputs": [],
   "source": [
    "import requests\n",
    "from bs4 import BeautifulSoup\n",
    "from PIL import Image, ImageDraw, ImageFont\n",
    "import copy\n",
    "import textwrap\n",
    "from pathlib import WindowsPath\n",
    "from datetime import date\n",
    "import os\n"
   ]
  },
  {
   "cell_type": "code",
   "execution_count": 194,
   "metadata": {},
   "outputs": [],
   "source": [
    "today = date.today()\n",
    "# today = '2024-01-26'"
   ]
  },
  {
   "cell_type": "code",
   "execution_count": 195,
   "metadata": {},
   "outputs": [],
   "source": [
    "# content_dic['DRUGIE CZYTANIE'][4] = 'Łaska wam i pokój od Boga ojca naszego i Pana Jezusa Chrystusa! Bogu mojemu dziękuję wciąż za was, za łaskę daną wam w Chrystusie Jezusie. W Nim to bowiem zostaliście wzbogaceni we wszystko: we wszelkie słowo i wszelkie poznanie, bo świadectwo Chrystusowe utrwaliło się w was. Nie doznajecie tedy braku żadnej łaski, oczekując objawienia się Pana naszego, Jezusa Chrystusa. On też będzie umacniał was aż do końca, abyście byli bez zarzutu w dzień Pana naszego, Jezusa Chrystusa.'\n",
    "# content_dic['EWANGELIA'][3] = 'Jezus powiedział do swoich uczniów:'\n",
    "# content_dic['EWANGELIA'].insert(4,'«Uważajcie, czuwajcie, bo nie wiecie, kiedy czas ten nadejdzie. Bo rzecz ma się podobnie jak z człowiekiem, który udał się w podróż. Zostawił swój dom, powierzył swym sługom staranie o wszystko, każdemu wyznaczył zajęcie, a odźwiernemu przykazał, żeby czuwał.')\n",
    "# content_dic['EWANGELIA']"
   ]
  },
  {
   "cell_type": "code",
   "execution_count": 196,
   "metadata": {},
   "outputs": [],
   "source": [
    "URL = f\"https://liturgia.wiara.pl/kalendarz/67b53.Czytania-mszalne/{str(today)}\"\n",
    "\n",
    "\n",
    "page = requests.get(URL)\n",
    "\n",
    "soup = BeautifulSoup(page.content, \"html.parser\")\n",
    "\n",
    "content_list = soup.find_all(\"div\", \"txt__rich-area\")[1].get_text().split('\\n')\n",
    "\n",
    "if content_list[-1] == '':\n",
    "    del content_list[-1]"
   ]
  },
  {
   "cell_type": "code",
   "execution_count": 197,
   "metadata": {},
   "outputs": [
    {
     "data": {
      "text/plain": [
       "['',\n",
       " 'Liturgia Słowa wg lekcjonarza z 2015 rokuLiturgia Słowa do odsłuchania (wersja wideo)Liturgia Słowa według starego lekcjonarza',\n",
       " 'Liturgia Słowa wg lekcjonarza z 2015 roku',\n",
       " 'PIERWSZE CZYTANIE',\n",
       " 'Hi 7, 1-4. 6-7',\n",
       " 'Marność życia ludzkiego',\n",
       " 'Czytanie z Księgi Hioba',\n",
       " 'Hiob przemówił w następujący sposób:',\n",
       " '«Czyż nie do bojowania podobny byt człowieka? Dni jego czyż nie są dniami najemnika? Jak sługa wzdycha on do cienia, i jak najemnik czeka na zapłatę. Tak moim działem miesiące nicości i wyznaczono mi noce udręki.',\n",
       " 'Położę się, mówiąc do siebie: Kiedyż zaświta i wstanę? Przedłuża się wieczór, a niepokój mnie syci do świtu. Dni moje lecą jak tkackie czółenko, i kończą się, bo braknie nici. Wspomnij, że dni me jak powiew. Ponownie oko me szczęścia nie zazna».',\n",
       " 'Oto słowo Boże.',\n",
       " 'PSALM RESPONSORYJNY',\n",
       " 'Ps 147A (146), 1b-2. 3-4. 5-6 (R.: por. 3a)',\n",
       " 'Refren: Panie, Ty leczysz złamanych na duchu.',\n",
       " 'albo: Alleluja.',\n",
       " 'Chwalcie Pana, bo dobrze jest śpiewać psalmy Bogu, *',\n",
       " 'słodko jest Go wysławiać.',\n",
       " 'Pan buduje Jeruzalem, *',\n",
       " 'gromadzi rozproszonych z Izraela.',\n",
       " 'Refren.',\n",
       " 'On leczy złamanych na duchu *',\n",
       " 'i przewiązuje ich rany.',\n",
       " 'On liczy wszystkie gwiazdy *',\n",
       " 'i każdej imię nadaje.',\n",
       " 'Refren.',\n",
       " 'Nasz Pan jest wielki i potężny, *',\n",
       " 'a Jego mądrość niewypowiedziana.',\n",
       " 'Pan dźwiga pokornych, *',\n",
       " 'karki grzeszników zgina do ziemi.',\n",
       " 'Refren.',\n",
       " 'DRUGIE CZYTANIE',\n",
       " '1 Kor 9, 16-19. 22-23',\n",
       " 'Biada mi, gdybym nie głosił Ewangelii',\n",
       " 'Czytanie z Pierwszego Listu Świętego Pawła Apostoła do Koryntian',\n",
       " 'Bracia:',\n",
       " 'Nie jest dla mnie powodem do chluby to, że głoszę Ewangelię. Świadom jestem ciążącego na mnie obowiązku. Biada mi bowiem, gdybym nie głosił Ewangelii!',\n",
       " 'Gdybym to czynił z własnej woli, miałbym zapłatę, lecz jeśli działam nie z własnej woli, to tylko spełniam obowiązki szafarza. Jakąż przeto mam zapłatę? Otóż tę właśnie, że głosząc Ewangelię bez żadnej zapłaty, nie korzystam z praw, jakie mi daje Ewangelia.',\n",
       " 'Tak więc nie zależąc od nikogo, stałem się niewolnikiem wszystkich, aby tym liczniejsi byli ci, których pozyskam.',\n",
       " 'Dla słabych stałem się jak słaby, by pozyskać słabych. Stałem się wszystkim dla wszystkich, żeby uratować choć niektórych. Wszystko zaś czynię dla Ewangelii, by mieć w niej swój udział.',\n",
       " 'Oto słowo Boże.',\n",
       " 'ŚPIEW PRZED EWANGELIĄ',\n",
       " 'Por. Mt 8, 17',\n",
       " 'Aklamacja: Alleluja, alleluja, alleluja.',\n",
       " 'Jezus wziął na siebie nasze słabości',\n",
       " 'i dźwigał nasze choroby.',\n",
       " 'Aklamacja: Alleluja, alleluja, alleluja.',\n",
       " 'EWANGELIA',\n",
       " 'Mk 1, 29-39',\n",
       " 'Jezus uzdrawia i wypędza złe duchy',\n",
       " 'Słowa Ewangelii według Świętego Marka',\n",
       " 'Po wyjściu z synagogi Jezus przyszedł z Jakubem i Janem do domu Szymona i Andrzeja. Teściowa zaś Szymona leżała w gorączce. Zaraz powiedzieli Mu o niej. On podszedł i podniósł ją, ująwszy za rękę, a opuściła ją gorączka. I usługiwała im.',\n",
       " 'Z nastaniem wieczora, gdy słońce zaszło, przynosili do Niego wszystkich chorych i opętanych; i całe miasto zebrało się u drzwi. Uzdrowił wielu dotkniętych rozmaitymi chorobami i wiele złych duchów wyrzucił, lecz nie pozwalał złym duchom mówić, ponieważ Go znały.',\n",
       " 'Nad ranem, kiedy jeszcze było ciemno, wstał, wyszedł i udał się na miejsce pustynne, i tam się modlił. Pośpieszył za Nim Szymon z towarzyszami, a gdy Go znaleźli, powiedzieli Mu: «Wszyscy Cię szukają». Lecz On rzekł do nich: «Pójdźmy gdzie indziej, do sąsiednich miejscowości, abym i tam mógł nauczać, bo po to wyszedłem». I chodził po całej Galilei, nauczając w ich synagogach i wyrzucając złe duchy.',\n",
       " 'Oto słowo Pańskie.']"
      ]
     },
     "execution_count": 197,
     "metadata": {},
     "output_type": "execute_result"
    }
   ],
   "source": [
    "content_list"
   ]
  },
  {
   "cell_type": "code",
   "execution_count": 198,
   "metadata": {},
   "outputs": [
    {
     "data": {
      "text/plain": [
       "'https://liturgia.wiara.pl/kalendarz/67b53.Czytania-mszalne/2024-02-04'"
      ]
     },
     "execution_count": 198,
     "metadata": {},
     "output_type": "execute_result"
    }
   ],
   "source": [
    "URL"
   ]
  },
  {
   "cell_type": "code",
   "execution_count": 199,
   "metadata": {},
   "outputs": [],
   "source": [
    "# content_list[content_list.index('EWANGELIA')]\n",
    "# content_dic['PIERWSZE CZYTANIE'] = content_dic['PIERWSZE CZYTANIE'][:-5]\n",
    "\n",
    "# content_dic['PSALM RESPONSORYJNY'].insert(11, 'Refren: Po całej ziemi ich głos się rozchodzi.')\n",
    "# content_dic['PSALM RESPONSORYJNY']"
   ]
  },
  {
   "cell_type": "code",
   "execution_count": 200,
   "metadata": {},
   "outputs": [
    {
     "data": {
      "text/plain": [
       "{'PIERWSZE CZYTANIE': ['Hi 7, 1-4. 6-7',\n",
       "  'Marność życia ludzkiego',\n",
       "  'Czytanie z Księgi Hioba',\n",
       "  'Hiob przemówił w następujący sposób:',\n",
       "  '«Czyż nie do bojowania podobny byt człowieka? Dni jego czyż nie są dniami najemnika? Jak sługa wzdycha on do cienia, i jak najemnik czeka na zapłatę. Tak moim działem miesiące nicości i wyznaczono mi noce udręki.',\n",
       "  'Położę się, mówiąc do siebie: Kiedyż zaświta i wstanę? Przedłuża się wieczór, a niepokój mnie syci do świtu. Dni moje lecą jak tkackie czółenko, i kończą się, bo braknie nici. Wspomnij, że dni me jak powiew. Ponownie oko me szczęścia nie zazna».',\n",
       "  'Oto słowo Boże.'],\n",
       " 'PSALM RESPONSORYJNY': ['Ps 147A (146), 1b-2. 3-4. 5-6 (R.: por. 3a)',\n",
       "  'Refren: Panie, Ty leczysz złamanych na duchu.',\n",
       "  'albo: Alleluja.',\n",
       "  'Chwalcie Pana, bo dobrze jest śpiewać psalmy Bogu, *',\n",
       "  'słodko jest Go wysławiać.',\n",
       "  'Pan buduje Jeruzalem, *',\n",
       "  'gromadzi rozproszonych z Izraela.',\n",
       "  'Refren.',\n",
       "  'On leczy złamanych na duchu *',\n",
       "  'i przewiązuje ich rany.',\n",
       "  'On liczy wszystkie gwiazdy *',\n",
       "  'i każdej imię nadaje.',\n",
       "  'Refren.',\n",
       "  'Nasz Pan jest wielki i potężny, *',\n",
       "  'a Jego mądrość niewypowiedziana.',\n",
       "  'Pan dźwiga pokornych, *',\n",
       "  'karki grzeszników zgina do ziemi.',\n",
       "  'Refren.'],\n",
       " 'DRUGIE CZYTANIE': ['1 Kor 9, 16-19. 22-23',\n",
       "  'Biada mi, gdybym nie głosił Ewangelii',\n",
       "  'Czytanie z Pierwszego Listu Świętego Pawła Apostoła do Koryntian',\n",
       "  'Bracia:',\n",
       "  'Nie jest dla mnie powodem do chluby to, że głoszę Ewangelię. Świadom jestem ciążącego na mnie obowiązku. Biada mi bowiem, gdybym nie głosił Ewangelii!',\n",
       "  'Gdybym to czynił z własnej woli, miałbym zapłatę, lecz jeśli działam nie z własnej woli, to tylko spełniam obowiązki szafarza. Jakąż przeto mam zapłatę? Otóż tę właśnie, że głosząc Ewangelię bez żadnej zapłaty, nie korzystam z praw, jakie mi daje Ewangelia.',\n",
       "  'Tak więc nie zależąc od nikogo, stałem się niewolnikiem wszystkich, aby tym liczniejsi byli ci, których pozyskam.',\n",
       "  'Dla słabych stałem się jak słaby, by pozyskać słabych. Stałem się wszystkim dla wszystkich, żeby uratować choć niektórych. Wszystko zaś czynię dla Ewangelii, by mieć w niej swój udział.',\n",
       "  'Oto słowo Boże.',\n",
       "  'ŚPIEW PRZED EWANGELIĄ',\n",
       "  'Por. Mt 8, 17',\n",
       "  'Aklamacja: Alleluja, alleluja, alleluja.',\n",
       "  'Jezus wziął na siebie nasze słabości',\n",
       "  'i dźwigał nasze choroby.',\n",
       "  'Aklamacja: Alleluja, alleluja, alleluja.'],\n",
       " 'EWANGELIA': ['Mk 1, 29-39',\n",
       "  'Jezus uzdrawia i wypędza złe duchy',\n",
       "  'Słowa Ewangelii według Świętego Marka',\n",
       "  'Po wyjściu z synagogi Jezus przyszedł z Jakubem i Janem do domu Szymona i Andrzeja. Teściowa zaś Szymona leżała w gorączce. Zaraz powiedzieli Mu o niej. On podszedł i podniósł ją, ująwszy za rękę, a opuściła ją gorączka. I usługiwała im.',\n",
       "  'Z nastaniem wieczora, gdy słońce zaszło, przynosili do Niego wszystkich chorych i opętanych; i całe miasto zebrało się u drzwi. Uzdrowił wielu dotkniętych rozmaitymi chorobami i wiele złych duchów wyrzucił, lecz nie pozwalał złym duchom mówić, ponieważ Go znały.',\n",
       "  'Nad ranem, kiedy jeszcze było ciemno, wstał, wyszedł i udał się na miejsce pustynne, i tam się modlił. Pośpieszył za Nim Szymon z towarzyszami, a gdy Go znaleźli, powiedzieli Mu: «Wszyscy Cię szukają». Lecz On rzekł do nich: «Pójdźmy gdzie indziej, do sąsiednich miejscowości, abym i tam mógł nauczać, bo po to wyszedłem». I chodził po całej Galilei, nauczając w ich synagogach i wyrzucając złe duchy.',\n",
       "  'Oto słowo Pańskie.']}"
      ]
     },
     "execution_count": 200,
     "metadata": {},
     "output_type": "execute_result"
    }
   ],
   "source": [
    "if 'EWANGELIA DŁUŻSZA' in content_list:\n",
    "    cut_points = ['PIERWSZE CZYTANIE', 'PSALM RESPONSORYJNY', 'DRUGIE CZYTANIE', 'EWANGELIA DŁUŻSZA', 'EWANGELIA KRÓTSZA']\n",
    "elif 'DRUGIE CZYTANIE' in content_list:\n",
    "    cut_points = ['PIERWSZE CZYTANIE', 'PSALM RESPONSORYJNY', 'DRUGIE CZYTANIE', 'EWANGELIA']\n",
    "else:\n",
    "    cut_points = ['PIERWSZE CZYTANIE', 'PSALM RESPONSORYJNY', 'EWANGELIA']\n",
    "\n",
    "content_dic = {}\n",
    "staging_list = [] \n",
    "\n",
    "\n",
    "for text in content_list:\n",
    "    if 'Liturgia Słowa' in text or '' == text:\n",
    "        continue\n",
    "\n",
    "    # content_list[content_list.index(text)] = text.strip()\n",
    "    # text = text.strip()\n",
    "    \n",
    "    if text in cut_points:\n",
    "\n",
    "        for text in content_list[content_list.index(text)+1:]:\n",
    "            if '' == text:\n",
    "                continue\n",
    "            if text == 'albo':\n",
    "                content_dic[cut_points[0]] = staging_list\n",
    "                staging_list = [] \n",
    "                del cut_points[0]\n",
    "                break\n",
    "            if text not in cut_points:\n",
    "                staging_list.append(text)\n",
    "                \n",
    "            else:\n",
    "                content_dic[cut_points[0]] = staging_list\n",
    "                staging_list = [] \n",
    "                del cut_points[0]\n",
    "                break\n",
    "        \n",
    "        content_dic[cut_points[0]] = staging_list\n",
    "\n",
    "content_dic \n",
    "\n",
    "        "
   ]
  },
  {
   "cell_type": "code",
   "execution_count": 201,
   "metadata": {},
   "outputs": [
    {
     "data": {
      "text/plain": [
       "dict_keys(['PIERWSZE CZYTANIE', 'PSALM RESPONSORYJNY', 'DRUGIE CZYTANIE', 'EWANGELIA'])"
      ]
     },
     "execution_count": 201,
     "metadata": {},
     "output_type": "execute_result"
    }
   ],
   "source": [
    "content_dic.keys()\n"
   ]
  },
  {
   "cell_type": "code",
   "execution_count": 202,
   "metadata": {},
   "outputs": [],
   "source": [
    "if 'EWANGELIA KRÓTSZA' in content_list:\n",
    "    content_dic['EWANGELIA KRÓTSZA'].insert(1, content_dic['EWANGELIA DŁUŻSZA'][1])\n",
    "    content_dic['EWANGELIA KRÓTSZA']"
   ]
  },
  {
   "cell_type": "code",
   "execution_count": 203,
   "metadata": {},
   "outputs": [
    {
     "data": {
      "text/plain": [
       "['Ps 147A (146), 1b-2. 3-4. 5-6 (R.: por. 3a)',\n",
       " 'Refren: Panie, Ty leczysz złamanych na duchu.',\n",
       " 'albo: Alleluja.',\n",
       " 'Chwalcie Pana, bo dobrze jest śpiewać psalmy Bogu, *',\n",
       " 'słodko jest Go wysławiać.',\n",
       " 'Pan buduje Jeruzalem, *',\n",
       " 'gromadzi rozproszonych z Izraela.',\n",
       " 'Refren.',\n",
       " 'On leczy złamanych na duchu *',\n",
       " 'i przewiązuje ich rany.',\n",
       " 'On liczy wszystkie gwiazdy *',\n",
       " 'i każdej imię nadaje.',\n",
       " 'Refren.',\n",
       " 'Nasz Pan jest wielki i potężny, *',\n",
       " 'a Jego mądrość niewypowiedziana.',\n",
       " 'Pan dźwiga pokornych, *',\n",
       " 'karki grzeszników zgina do ziemi.',\n",
       " 'Refren.']"
      ]
     },
     "execution_count": 203,
     "metadata": {},
     "output_type": "execute_result"
    }
   ],
   "source": [
    "from functools import reduce\n",
    "count = reduce(lambda x, y: x + 1 if 'Refren' in y else x, content_dic['PSALM RESPONSORYJNY'], 0)\n",
    "if len(content_dic['PSALM RESPONSORYJNY']) > 6 and count == 1:\n",
    "    content_dic['PSALM RESPONSORYJNY'].insert(6, 'Refren')\n",
    "    content_dic['PSALM RESPONSORYJNY'].insert(11, 'Refren')\n",
    "    content_dic['PSALM RESPONSORYJNY'].insert(16, 'Refren')\n",
    "content_dic['PSALM RESPONSORYJNY']"
   ]
  },
  {
   "cell_type": "code",
   "execution_count": 204,
   "metadata": {},
   "outputs": [],
   "source": [
    "path = r\"C:\\Users\\Acne\\Pictures\\Cyfrowa Biblia\\automatyzacja\\paper.gif\"\n",
    "\n",
    "image_size = 1080\n",
    "with Image.open(path) as im:\n",
    "    out = Image.new(\"RGB\", (image_size, image_size), \"white\")\n",
    "    x=0\n",
    "    y=0\n",
    "    size_x_left, size_y = im.size\n",
    "\n",
    "    while x < image_size:\n",
    "        while y < image_size:\n",
    "            out.paste(im, (x, y))\n",
    "            y += size_y\n",
    "        y = 0\n",
    "        x += size_x_left\n",
    "\n",
    "# out.show()\n"
   ]
  },
  {
   "cell_type": "code",
   "execution_count": 205,
   "metadata": {},
   "outputs": [],
   "source": [
    "tahoma = r\"C:\\Windows\\Fonts\\tahoma.ttf\"\n",
    "tahoma_bold = r\"C:\\Windows\\Fonts\\tahomabd.ttf\""
   ]
  },
  {
   "cell_type": "code",
   "execution_count": 206,
   "metadata": {},
   "outputs": [],
   "source": [
    "current_path = WindowsPath(r'C:\\Users\\Acne\\Pictures\\Cyfrowa Biblia\\\\' + str(today))\n",
    "\n",
    "os.makedirs(current_path, exist_ok=True)"
   ]
  },
  {
   "cell_type": "code",
   "execution_count": 261,
   "metadata": {},
   "outputs": [],
   "source": [
    "def draw_text(out, name, current_path, size_x_left, size_y, font_size):\n",
    "\n",
    "    font_size_small = int(0.75 * font_size)\n",
    "\n",
    "    fnt = ImageFont.truetype(tahoma, font_size) \n",
    "    fnt_b = ImageFont.truetype(tahoma_bold, font_size)\n",
    "    fnt_s = ImageFont.truetype(tahoma, font_size_small)\n",
    "\n",
    "    size_x_left = 80\n",
    "    size_x_right = image_size - 2 * size_x_left  \n",
    "    size_y = int(1.2 * font_size)\n",
    "    width = int(75 - 0.6 * font_size)\n",
    "\n",
    "    out_func = copy.deepcopy(out)\n",
    "    draw = ImageDraw.Draw(out_func) \n",
    "\n",
    "    draw.text((size_x_left, size_x_left), name, font=fnt_b, fill=\"red\", anchor='lm')\n",
    "    draw.text((size_x_right + size_x_left, size_x_left), content_dic[name][0], font=fnt_b, fill=\"red\", anchor='rm') #TODO\n",
    "    \n",
    "    var_y = size_x_left + size_y\n",
    "    draw.text((size_x_left, var_y), content_dic[name][1], font=fnt_s, fill=\"black\", anchor='lm')\n",
    "    \n",
    "    lines = textwrap.wrap(content_dic[name][2], width=width)\n",
    "    for line in lines:\n",
    "        var_y += size_y\n",
    "        draw.text((size_x_left, var_y), line, font=fnt_b, fill=\"black\", anchor='lm')\n",
    "    \n",
    "    var_y += size_x_left\n",
    "    \n",
    "    for count, element in enumerate(content_dic[name][3:-1]):\n",
    "        lines = textwrap.wrap(content_dic[name][3+count], width=width, initial_indent='  ')\n",
    "        lines[0] = lines[0].strip()\n",
    "        # print('\\n'.join(lines))\n",
    "        space_length_regular = 15\n",
    "\n",
    "        for line_count, line in enumerate(lines):\n",
    "            x_word = size_x_left\n",
    "            x_word_intended = 2 * size_x_left\n",
    "            words = line.split(\" \")\n",
    "            words_length = sum(draw.textlength(w, font=fnt) for w in words)\n",
    "            if len(words) == 1:\n",
    "                words.append(' ')\n",
    "\n",
    "            print(space_length_regular)\n",
    "            if line_count == len(lines)-1:\n",
    "                if words_length + (len(words)-1) * space_length_regular > size_x_right:\n",
    "                    space_length_regular = (size_x_right - words_length) / (len(words) - 1)\n",
    "                for word in words:\n",
    "                    draw.text((x_word, var_y), word, font=fnt, fill=\"black\", anchor='lm')\n",
    "                    x_word += draw.textlength(word, font=fnt) + space_length_regular\n",
    "                var_y += size_y  \n",
    "                break\n",
    "            \n",
    "            space_length_intended = (size_x_right - x_word - words_length) / (len(words) - 1)\n",
    "            space_length_regular = (size_x_right - words_length) / (len(words) - 1)\n",
    "            \n",
    "            if line_count == 0 and line != 'Bracia:' and 'Jezus powiedział' not in line:\n",
    "                for word in words:\n",
    "                    draw.text((x_word_intended, var_y), word, font=fnt, fill=\"black\", anchor='lm')\n",
    "                    x_word_intended += draw.textlength(word, font=fnt) + space_length_intended\n",
    "\n",
    "            else:\n",
    "                for word in words:\n",
    "                    draw.text((x_word, var_y), word, font=fnt, fill=\"black\", anchor='lm')\n",
    "                    x_word += draw.textlength(word, font=fnt) + space_length_regular\n",
    "            var_y += size_y            \n",
    "            \n",
    "    draw.text((2*size_x_left, var_y+size_y), content_dic[name][-1], font=fnt_b, fill=\"black\", anchor='lm')\n",
    "\n",
    "    # out_func.show()\n",
    "\n",
    "    returned = {'drawn_y': var_y+size_y, 'picture': out_func}\n",
    "\n",
    "    return returned\n",
    "    # out_func.save(current_path / f'{name}.png')\n",
    "\n",
    "    out_func = copy.deepcopy(out)\n",
    "\n",
    "# returned = draw_text(out, text, current_path, size_x_left, size_y, 44)\n",
    "# returned['picture'].show()"
   ]
  },
  {
   "cell_type": "code",
   "execution_count": 252,
   "metadata": {},
   "outputs": [],
   "source": [
    "if \"DRUGIE CZYTANIE\" in content_dic:\n",
    "    if 'ŚPIEW PRZED EWANGELIĄ' in content_dic[\"DRUGIE CZYTANIE\"]:\n",
    "        content_dic[\"DRUGIE CZYTANIE\"] = content_dic[\"DRUGIE CZYTANIE\"][:-6]"
   ]
  },
  {
   "cell_type": "code",
   "execution_count": 247,
   "metadata": {},
   "outputs": [
    {
     "name": "stdout",
     "output_type": "stream",
     "text": [
      "15\n",
      "92.33333333333333\n",
      "91.77777777777777\n",
      "105.125\n",
      "93.22222222222223\n",
      "15\n",
      "119.42857142857143\n",
      "120.0\n",
      "118.57142857142857\n",
      "103.625\n",
      "15\n",
      "104.375\n",
      "92.66666666666667\n",
      "105.375\n",
      "103.875\n",
      "138.16666666666666\n",
      "75.45454545454545\n",
      "103.75\n"
     ]
    }
   ],
   "source": [
    "returned = draw_text(out, text, current_path, size_x_left, size_y, 4)\n",
    "returned['picture'].show()"
   ]
  },
  {
   "cell_type": "code",
   "execution_count": null,
   "metadata": {},
   "outputs": [],
   "source": [
    "def draw_text_pagination_first(out, reading_list, current_path, size_x_left, size_y, font_size):\n",
    "\n",
    "    font_size_small = int(0.75 * font_size)\n",
    "\n",
    "    fnt = ImageFont.truetype(tahoma, font_size) \n",
    "    fnt_b = ImageFont.truetype(tahoma_bold, font_size)\n",
    "    fnt_s = ImageFont.truetype(tahoma, font_size_small)\n",
    "\n",
    "    size_x_left = int(25/12 * font_size)\n",
    "    size_x_right = image_size - 2 * size_x_left\n",
    "    size_y = int(1.2 * font_size)\n",
    "    width = int(80 - 0.3 * size_x_left)\n",
    "\n",
    "    out_func = copy.deepcopy(out)\n",
    "    draw = ImageDraw.Draw(out_func) \n",
    "\n",
    "#TODO\n",
    "    draw.text((size_x_left, size_x_left), reading_list[0], font=fnt_b, fill=\"red\", anchor='lm')\n",
    "    draw.text((size_x_right + size_x_left, size_x_left), reading_list[1], font=fnt_b, fill=\"red\", anchor='rm') #TODO\n",
    "    \n",
    "    var_y = size_x_left + size_y\n",
    "    draw.text((size_x_left, var_y), reading_list[2], font=fnt_s, fill=\"black\", anchor='lm')\n",
    "    \n",
    "    lines = textwrap.wrap(reading_list[3], width=width)\n",
    "    for line in lines:\n",
    "        var_y += size_y\n",
    "        draw.text((size_x_left, var_y), line, font=fnt_b, fill=\"black\", anchor='lm')\n",
    "    \n",
    "    var_y += size_x_left\n",
    "    \n",
    "    for count, element in enumerate(reading_list[4:]):\n",
    "        lines = textwrap.wrap(reading_list[4+count], width=width)\n",
    "        space_length_regular = 15\n",
    "\n",
    "        for line_count, line in enumerate(lines):\n",
    "            x_word = size_x_left\n",
    "            x_word_intended = 2 * size_x_left\n",
    "            words = line.split(\" \")\n",
    "            words_length = sum(draw.textlength(w, font=fnt) for w in words)\n",
    "            if len(words)==1:\n",
    "                words.append(' ')\n",
    "\n",
    "                for word in words:\n",
    "                    draw.text((x_word, var_y), word, font=fnt, fill=\"black\", anchor='lm')\n",
    "                    x_word += draw.textlength(word, font=fnt) + space_length_regular\n",
    "                var_y += size_y  \n",
    "                break\n",
    "\n",
    "            if line_count == len(lines)-1:\n",
    "                for word in words:\n",
    "                    draw.text((x_word, var_y), word, font=fnt, fill=\"black\", anchor='lm')\n",
    "                    x_word += draw.textlength(word, font=fnt) + space_length_regular\n",
    "                var_y += size_y  \n",
    "                break\n",
    "            \n",
    "            space_length_intended = (size_x_right - x_word - words_length) / (len(words) - 1)\n",
    "            space_length_regular = (size_x_right - words_length) / (len(words) - 1)\n",
    "           \n",
    "            if line_count == 0 and line != 'Bracia:' and 'Jezus powiedział' not in line:\n",
    "                for word in words:\n",
    "                    draw.text((x_word_intended, var_y), word, font=fnt, fill=\"black\", anchor='lm')\n",
    "                    x_word_intended += draw.textlength(word, font=fnt) + space_length_intended\n",
    "\n",
    "            else:\n",
    "                for word in words:\n",
    "                    draw.text((x_word, var_y), word, font=fnt, fill=\"black\", anchor='lm')\n",
    "                    x_word += draw.textlength(word, font=fnt) + space_length_regular\n",
    "            var_y += size_y            \n",
    "            \n",
    "    # out_func.show()\n",
    "\n",
    "    returned = {'drawn_y': var_y+size_y, 'picture': out_func}\n",
    "\n",
    "    return returned\n",
    "    # out_func.save(current_path / f'{name}.png')\n",
    "\n",
    "    out_func = copy.deepcopy(out)"
   ]
  },
  {
   "cell_type": "code",
   "execution_count": null,
   "metadata": {},
   "outputs": [],
   "source": [
    "def draw_text_pagination_second(out, reading_list, current_path, size_x_left, size_y, font_size):\n",
    "\n",
    "    font_size_small = int(0.75 * font_size)\n",
    " \n",
    "    fnt = ImageFont.truetype(tahoma, font_size) \n",
    "    fnt_b = ImageFont.truetype(tahoma_bold, font_size)\n",
    "    fnt_s = ImageFont.truetype(tahoma, font_size_small)\n",
    "\n",
    "    size_x_left = int(25/12 * font_size)\n",
    "    size_x_right = image_size - 2 * size_x_left\n",
    "    size_y = int(1.2 * font_size)\n",
    "    width = int(80 - 0.3 * size_x_left)\n",
    "\n",
    "    out_func = copy.deepcopy(out)\n",
    "    draw = ImageDraw.Draw(out_func) \n",
    "\n",
    "    var_y = size_x_left\n",
    "    # print(reading_list)\n",
    "    lines = textwrap.wrap(reading_list[0], width=width)\n",
    "    \n",
    "    for count, element in enumerate(reading_list[0:-1]):\n",
    "        lines = textwrap.wrap(reading_list[0+count], width=width)\n",
    "        space_length_regular = 15\n",
    "\n",
    "        for line_count, line in enumerate(lines):\n",
    "            x_word = size_x_left\n",
    "            x_word_intended = 2 * size_x_left\n",
    "            words = line.split(\" \")\n",
    "            words_length = sum(draw.textlength(w, font=fnt) for w in words)\n",
    "            if len(words)==1:\n",
    "                words.append(' ')\n",
    "\n",
    "                for word in words:\n",
    "                    draw.text((x_word, var_y), word, font=fnt, fill=\"black\", anchor='lm')\n",
    "                    x_word += draw.textlength(word, font=fnt) + space_length_regular\n",
    "                var_y += size_y  \n",
    "                break\n",
    "\n",
    "            if line_count == len(lines)-1:\n",
    "                for word in words:\n",
    "                    draw.text((x_word, var_y), word, font=fnt, fill=\"black\", anchor='lm')\n",
    "                    x_word += draw.textlength(word, font=fnt) + space_length_regular\n",
    "                var_y += size_y  \n",
    "                break\n",
    "            \n",
    "            space_length_intended = (size_x_right - x_word - words_length) / (len(words) - 1)\n",
    "            space_length_regular = (size_x_right - words_length) / (len(words) - 1)\n",
    "           \n",
    "            if line_count == 0 and line != 'Bracia:' and 'Jezus powiedział' not in line:\n",
    "                for word in words:\n",
    "                    draw.text((x_word_intended, var_y), word, font=fnt, fill=\"black\", anchor='lm')\n",
    "                    x_word_intended += draw.textlength(word, font=fnt) + space_length_intended\n",
    "\n",
    "            else:\n",
    "                for word in words:\n",
    "                    draw.text((x_word, var_y), word, font=fnt, fill=\"black\", anchor='lm')\n",
    "                    x_word += draw.textlength(word, font=fnt) + space_length_regular\n",
    "            var_y += size_y            \n",
    "            \n",
    "    draw.text((2*size_x_left, var_y+size_y), reading_list[-1], font=fnt_b, fill=\"black\", anchor='lm')\n",
    "\n",
    "    # out_func.show()\n",
    "\n",
    "    returned = {'drawn_y': var_y+size_y, 'picture': out_func}\n",
    "\n",
    "    return returned\n",
    "    # out_func.save(current_path / f'{name}.png')\n",
    "\n",
    "    out_func = copy.deepcopy(out)"
   ]
  },
  {
   "cell_type": "code",
   "execution_count": null,
   "metadata": {},
   "outputs": [
    {
     "data": {
      "text/plain": [
       "dict_keys(['PIERWSZE CZYTANIE', 'PSALM RESPONSORYJNY', 'EWANGELIA'])"
      ]
     },
     "execution_count": 126,
     "metadata": {},
     "output_type": "execute_result"
    }
   ],
   "source": [
    "content_dic.keys()"
   ]
  },
  {
   "cell_type": "code",
   "execution_count": 263,
   "metadata": {},
   "outputs": [
    {
     "name": "stdout",
     "output_type": "stream",
     "text": [
      "15\n",
      "26.557291666666668\n",
      "20.005208333333332\n",
      "37.62890625\n",
      "32.22222222222222\n",
      "15\n",
      "37.859375\n",
      "42.42857142857143\n",
      "59.002604166666664\n",
      "32.142857142857146\n",
      "15\n",
      "32.626953125\n",
      "47.5\n",
      "37.626953125\n",
      "33.0\n",
      "42.285714285714285\n",
      "41.875\n",
      "33.875\n",
      "font_size:  30\n"
     ]
    }
   ],
   "source": [
    "min_font_before_pagination = 29\n",
    "verse_break = 5\n",
    "pagination_font_size = 34\n",
    "\n",
    "\n",
    "for text in ['EWANGELIA']:\n",
    "# .keys():\n",
    "# ['PIERWSZE CZYTANIE']:\n",
    "    if text != 'PSALM RESPONSORYJNY':\n",
    "        font_size = 30\n",
    "        returned = draw_text(out, text, current_path, size_x_left, size_y, font_size)\n",
    "\n",
    "        returned['picture'].show()\n",
    "        returned['picture'].save(current_path / f'{text}.png')\n",
    "\n",
    "        while returned['drawn_y'] > image_size - 20:\n",
    "            if font_size < min_font_before_pagination:\n",
    "                pagination_dic = {}\n",
    "                pagination_dic[f'{text} cz.1'] = content_dic[f'{text}'][:verse_break]\n",
    "                pagination_dic[f'{text} cz.1'].insert(0, f'{text}' )\n",
    "                pagination_dic[f'{text} cz.2'] = content_dic[f'{text}'][verse_break:]\n",
    "\n",
    "                \n",
    "                returned = draw_text_pagination_first(out, pagination_dic[f'{text} cz.1'], current_path, size_x_left, size_y, pagination_font_size)\n",
    "                returned['picture'].show()\n",
    "                returned['picture'].save(current_path / f'{text}1.png')\n",
    "\n",
    "                returned = draw_text_pagination_second(out,  pagination_dic[f'{text} cz.2'], current_path, size_x_left, size_y, pagination_font_size)\n",
    "                returned['picture'].show()\n",
    "                returned['picture'].save(current_path / f'{text}2.png')\n",
    "\n",
    "                break\n",
    "            \n",
    "            else:\n",
    "                font_size -= 1\n",
    "                returned = draw_text(out, text, current_path, size_x_left, size_y, font_size)\n",
    "        \n",
    "        print('font_size: ', font_size)\n",
    "        \n",
    "        "
   ]
  },
  {
   "cell_type": "code",
   "execution_count": null,
   "metadata": {},
   "outputs": [],
   "source": [
    "# returned = draw_text(out, 'PIERWSZE CZYTANIE', current_path, size_x_left, size_y, 26)\n",
    "# returned['picture'].show()\n",
    "# returned['picture'].save(current_path / f'{text}.png')"
   ]
  },
  {
   "cell_type": "code",
   "execution_count": null,
   "metadata": {},
   "outputs": [],
   "source": [
    "font_size_psalm = 32\n",
    "font_size_small_psalm = int(0.75 * font_size_psalm)\n",
    "\n",
    "tahoma = r\"C:\\Windows\\Fonts\\tahoma.ttf\"\n",
    "tahoma_bold = r\"C:\\Windows\\Fonts\\tahomabd.ttf\"\n",
    "\n",
    "fnt_psalm = ImageFont.truetype(tahoma, font_size_psalm) \n",
    "fnt_b_psalm = ImageFont.truetype(tahoma_bold, font_size_psalm)\n",
    "fnt_s_psalm = ImageFont.truetype(tahoma, font_size_small_psalm)"
   ]
  },
  {
   "cell_type": "code",
   "execution_count": null,
   "metadata": {},
   "outputs": [
    {
     "data": {
      "text/plain": [
       "['Ps 96,1-2.3.7-8a i 10',\n",
       " 'Refren: Głoście cześć Pana wśród wszystkich narodów.',\n",
       " 'Śpiewajcie Panu pieśń nową',\n",
       " 'śpiewaj Panu, ziemio cała.',\n",
       " 'Śpiewajcie Panu, sławcie Jego imię,',\n",
       " 'każdego dnia głoście Jego zbawienie.',\n",
       " 'Refren',\n",
       " 'Głoście Jego chwałę',\n",
       " 'wśród wszystkich narodów,',\n",
       " 'rozgłaszajcie Jego cuda',\n",
       " 'pośród wszystkich ludów.',\n",
       " 'Refren',\n",
       " 'Oddajcie Panu, rodziny narodów,',\n",
       " 'oddajcie Panu chwałę i uznajcie Jego potęgę.',\n",
       " 'Oddajcie Panu chwałę należną Jego imieniu.',\n",
       " 'Głoście wśród ludów, że Pan jest królem.',\n",
       " 'Refren',\n",
       " 'utwierdził świat. tak, że się nie zachwieje,',\n",
       " 'będzie sprawiedliwie sądził ludy.',\n",
       " 'ŚPIEW PRZED EWANGELIĄ',\n",
       " 'Łk 4,18',\n",
       " 'Alleluja, alleluja, alleluja',\n",
       " 'Pan posłał Mnie, abym ubogim głosił dobrą nowinę,',\n",
       " 'więźniom głosił wolność.',\n",
       " 'Alleluja, alleluja, alleluja']"
      ]
     },
     "execution_count": 130,
     "metadata": {},
     "output_type": "execute_result"
    }
   ],
   "source": [
    "# content_dic[\"PSALM RESPONSORYJNY\"].insert(16, 'Refren')\n",
    "content_dic[\"PSALM RESPONSORYJNY\"]"
   ]
  },
  {
   "cell_type": "code",
   "execution_count": null,
   "metadata": {},
   "outputs": [
    {
     "name": "stdout",
     "output_type": "stream",
     "text": [
      "21\n"
     ]
    },
    {
     "data": {
      "text/plain": [
       "['Ps 96,1-2.3.7-8a i 10',\n",
       " 'Refren: Głoście cześć Pana wśród wszystkich narodów.',\n",
       " 'Śpiewajcie Panu pieśń nową',\n",
       " 'śpiewaj Panu, ziemio cała.',\n",
       " 'Śpiewajcie Panu, sławcie Jego imię,',\n",
       " 'każdego dnia głoście Jego zbawienie.',\n",
       " 'Refren',\n",
       " 'Głoście Jego chwałę',\n",
       " 'wśród wszystkich narodów,',\n",
       " 'rozgłaszajcie Jego cuda',\n",
       " 'pośród wszystkich ludów.',\n",
       " 'Refren',\n",
       " 'Oddajcie Panu, rodziny narodów,',\n",
       " 'oddajcie Panu chwałę i uznajcie Jego potęgę.',\n",
       " 'Oddajcie Panu chwałę należną Jego imieniu.',\n",
       " 'Głoście wśród ludów, że Pan jest królem.',\n",
       " 'Refren',\n",
       " 'utwierdził świat. tak, że się nie zachwieje,',\n",
       " 'będzie sprawiedliwie sądził ludy.',\n",
       " 'ŚPIEW PRZED EWANGELIĄ',\n",
       " 'Łk 4,18',\n",
       " 'Alleluja, alleluja, alleluja',\n",
       " 'Pan posłał Mnie, abym ubogim głosił dobrą nowinę,',\n",
       " 'więźniom głosił wolność.',\n",
       " 'Alleluja, alleluja, alleluja']"
      ]
     },
     "execution_count": 131,
     "metadata": {},
     "output_type": "execute_result"
    }
   ],
   "source": [
    "print(len(content_dic[\"PSALM RESPONSORYJNY\"][0]))\n",
    "if len(content_dic[\"PSALM RESPONSORYJNY\"][0]) > 35:\n",
    "    content_dic[\"PSALM RESPONSORYJNY\"][0] = content_dic[\"PSALM RESPONSORYJNY\"][0].split(',')[0]\n",
    "    \n",
    "# del content_dic[\"PSALM RESPONSORYJNY\"][-2]\n",
    "# content_dic[\"PSALM RESPONSORYJNY\"].insert(-1, 'pójdźcie, narody, oddajcie pokłon Panu,')\n",
    "# content_dic[\"PSALM RESPONSORYJNY\"].insert(-1, 'bo wielka światłość zstąpiła dzisiaj na ziemię.')\n",
    "content_dic[\"PSALM RESPONSORYJNY\"]"
   ]
  },
  {
   "cell_type": "code",
   "execution_count": null,
   "metadata": {},
   "outputs": [
    {
     "name": "stdout",
     "output_type": "stream",
     "text": [
      "['ŚPIEW PRZED EWANGELIĄ', '', 'Łk 4,18', 'Alleluja, alleluja, alleluja', 'Pan posłał Mnie, abym ubogim głosił dobrą nowinę,', 'więźniom głosił wolność.', 'Alleluja, alleluja, alleluja']\n"
     ]
    }
   ],
   "source": [
    "out_psalm = copy.deepcopy(out)\n",
    "draw = ImageDraw.Draw(out_psalm) \n",
    "\n",
    "y_distance = font_size_psalm * 0.95\n",
    "y_further_distance = font_size_psalm * 1.2\n",
    "x_distance = font_size_psalm * 2\n",
    "\n",
    "draw.text((x_distance, y_further_distance*2), \"PSALM RESPONSORYJNY\", font=fnt_b_psalm, fill=\"red\", anchor='lm')\n",
    "draw.text((1000, y_further_distance*2), content_dic[\"PSALM RESPONSORYJNY\"][0], font=fnt_b_psalm, fill=\"red\", anchor='rm')\n",
    "draw.text((x_distance, y_further_distance*3), \"Refren: \", font=fnt_b_psalm, fill=\"red\", anchor='lm')\n",
    "draw.text((x_distance*3, y_further_distance*3), content_dic[\"PSALM RESPONSORYJNY\"][1][7:], font=fnt_b_psalm, fill=\"black\", anchor='lm')\n",
    "\n",
    "# draw.text((100, 300), content_dic[\"PSALM RESPONSORYJNY\"][3], font=fnt_psalm, fill=\"black\", anchor='lm')\n",
    "y_text = y_further_distance*4\n",
    "for count, element in enumerate(content_dic[\"PSALM RESPONSORYJNY\"][2:]):\n",
    "    # lines = textwrap.wrap(second_element[2+count], width=80)\n",
    "    # for line in lines:\n",
    "    if \"Refren\" in element :\n",
    "        y_text += y_further_distance\n",
    "        draw.text((x_distance, y_text), \"Refren: \", font=fnt_b_psalm, fill=\"red\", anchor='lm')\n",
    "        draw.text((x_distance*3, y_text), content_dic[\"PSALM RESPONSORYJNY\"][1][7:], font=fnt_b_psalm, fill=\"black\", anchor='lm')\n",
    "        y_text += y_further_distance\n",
    "    elif \"ŚPIEW PRZED EWANGELIĄ\" in element:\n",
    "        # print(\"NUMER: \", inner_count)\n",
    "        acclamation = content_dic[\"PSALM RESPONSORYJNY\"][count+2:]\n",
    "        if 'ŚPIEW' in acclamation[0]:\n",
    "            acclamation.insert(1, '')\n",
    "        print(acclamation)\n",
    "        draw.text((x_distance, y_text), \"AKLAMACJA PRZED EWANGELIĄ\", font=fnt_b_psalm, fill=\"red\", anchor='lm')\n",
    "        draw.text((1000, y_text), acclamation[1], font=fnt_b_psalm, fill=\"red\", anchor='rm')\n",
    "        draw.text((x_distance, y_text+y_further_distance), \"Aklamacja: \", font=fnt_b_psalm, fill=\"red\", anchor='lm')\n",
    "        draw.text((x_distance*4, y_text+y_further_distance), acclamation[2][10:], font=fnt_b_psalm, fill=\"black\", anchor='lm')\n",
    "        draw.text((x_distance*2, y_text+y_further_distance*2), acclamation[3], font=fnt_psalm, fill=\"black\", anchor='lm')\n",
    "        draw.text((x_distance*2, y_text+y_further_distance*2+y_distance), acclamation[4], font=fnt_psalm, fill=\"black\", anchor='lm')\n",
    "        # draw.text((x_distance*2, y_text+y_further_distance*3+y_distance), acclamation[5], font=fnt_psalm, fill=\"black\", anchor='lm')\n",
    "\n",
    "        draw.text((x_distance, y_text+y_further_distance*3+y_distance), \"Aklamacja: \", font=fnt_b_psalm, fill=\"red\", anchor='lm') \n",
    "        draw.text((x_distance*4, y_text+y_further_distance*3+y_distance), acclamation[5][10:], font=fnt_b_psalm, fill=\"black\", anchor='lm')\n",
    "\n",
    "        break  \n",
    "\n",
    "# TODO\n",
    "    elif 'albo' in element:\n",
    "        continue\n",
    "\n",
    "    else:\n",
    "        draw.text((x_distance*2, y_text), element, font=fnt_psalm, fill=\"black\", anchor='lm')\n",
    "    y_text += y_distance\n",
    "\n",
    "out_psalm.show()\n",
    "out_psalm.save(current_path / 'psalm.png')\n",
    "# out_psalm.save('./2024-01-08/psalm.png')\n",
    "\n",
    "out_psalm = copy.deepcopy(out)"
   ]
  },
  {
   "cell_type": "code",
   "execution_count": null,
   "metadata": {},
   "outputs": [],
   "source": [
    "# os.makedirs('./2024-01-08/', exist_ok=True)"
   ]
  },
  {
   "cell_type": "code",
   "execution_count": null,
   "metadata": {},
   "outputs": [
    {
     "data": {
      "text/plain": [
       "WindowsPath('C:/Users/Acne/Pictures/Cyfrowa Biblia/2024-01-26')"
      ]
     },
     "execution_count": 134,
     "metadata": {},
     "output_type": "execute_result"
    }
   ],
   "source": [
    "current_path"
   ]
  },
  {
   "cell_type": "code",
   "execution_count": null,
   "metadata": {},
   "outputs": [],
   "source": [
    "# content_dic[\"EWANGELIA\"]"
   ]
  },
  {
   "cell_type": "code",
   "execution_count": null,
   "metadata": {},
   "outputs": [
    {
     "data": {
      "text/plain": [
       "dict_keys(['PIERWSZE CZYTANIE', 'PSALM RESPONSORYJNY', 'EWANGELIA'])"
      ]
     },
     "execution_count": 136,
     "metadata": {},
     "output_type": "execute_result"
    }
   ],
   "source": [
    "content_dic.keys()"
   ]
  },
  {
   "cell_type": "code",
   "execution_count": null,
   "metadata": {},
   "outputs": [],
   "source": [
    "# content_dic['PIERWSZE CZYTANIE cz.1'] = content_dic['PIERWSZE CZYTANIE'][:6]\n",
    "# content_dic['PIERWSZE CZYTANIE cz.2'] = content_dic['PIERWSZE CZYTANIE'][6:]\n",
    "# returned = draw_text_pagination(out, 'PIERWSZE CZYTANIE cz.1', current_path, size_x_left, size_y, 32)\n",
    "# returned['picture'].show()\n",
    "# returned['picture'].save(current_path / f'{text}1.png')\n",
    "# returned = draw_text_pagination_second(out, 'PIERWSZE CZYTANIE cz.2', current_path, size_x_left, size_y, 32)\n",
    "# returned['picture'].show()\n",
    "# returned['picture'].save(current_path / f'{text}2.png')"
   ]
  },
  {
   "cell_type": "code",
   "execution_count": null,
   "metadata": {},
   "outputs": [],
   "source": [
    "# text = 'PIERWSZE CZYTANIE'\n",
    "# content_dic[f'{text} cz.1'] = content_dic[f'{text}'][:6]\n",
    "# content_dic[f'{text} cz.2'] = content_dic[f'{text}'][6:]\n",
    "# returned = draw_text_pagination_first(out, f'{text} cz.1', current_path, size_x_left, size_y, 30)\n",
    "# returned['picture'].show()\n",
    "# returned['picture'].save(current_path / f'{text}1.png')\n",
    "\n",
    "# returned = draw_text_pagination_second(out, f'{text} cz.2', current_path, size_x_left, size_y, 32)\n",
    "# returned['picture'].show()\n",
    "# returned['picture'].save(current_path / f'{text}2.png')"
   ]
  },
  {
   "cell_type": "code",
   "execution_count": null,
   "metadata": {},
   "outputs": [],
   "source": [
    "# content_dic['EWANGELIA'] = content_dic['EWANGELIA ']"
   ]
  },
  {
   "cell_type": "code",
   "execution_count": null,
   "metadata": {},
   "outputs": [],
   "source": [
    "# text = 'EWANGELIA'\n",
    "# content_dic['EWANGELIA cz.1'] = content_dic['EWANGELIA'][:7]\n",
    "# content_dic['EWANGELIA cz.2'] = content_dic['EWANGELIA'][7:]\n",
    "# returned = draw_text_pagination_first(out, 'EWANGELIA cz.1', current_path, size_x_left, size_y, 32)\n",
    "# returned['picture'].show()\n",
    "# returned['picture'].save(current_path / f'{text}1.png')\n",
    "\n",
    "# returned = draw_text_pagination_second(out, 'EWANGELIA cz.2', current_path, size_x_left, size_y, 32)\n",
    "# returned['picture'].show()\n",
    "# returned['picture'].save(current_path / f'{text}2.png')"
   ]
  },
  {
   "cell_type": "code",
   "execution_count": null,
   "metadata": {},
   "outputs": [
    {
     "data": {
      "text/plain": [
       "['2 Tm 1,1-8',\n",
       " 'Żywa wiara Tymoteusza',\n",
       " 'Czytanie z Drugiego listu świętego Pawła Apostoła do Tymoteusza',\n",
       " 'Paweł, z woli Boga apostoł Chrystusa Jezusa, posłany dla głoszenia życia obiecanego w Chrystusie Jezusie, do Tymoteusza, swego umiłowanego dziecka. Łaska, miłosierdzie, pokój od Boga Ojca i Chrystusa Jezusa, naszego Pana.',\n",
       " 'Dziękuję Bogu, któremu służę jak moi przodkowie z czystym sumieniem, gdy zachowuję nieprzerwaną pamięć o tobie w moich modlitwach. W nocy i we dnie pragnę cię zobaczyć, pomny na twoje łzy, by napełniła mnie radość na wspomnienie wiary bez obłudy, jaka jest w tobie; ona to zamieszkała pierwej w twej babce Lois i w twej matce Eunice, a pewien jestem, że mieszka i w tobie.',\n",
       " 'Z tej właśnie przyczyny przypominam ci, abyś rozpalił na nowo charyzmat Boży, który jest w tobie przez włożenie moich rąk. Albowiem nie dał nam Bóg ducha bojaźni, ale mocy i miłości, i trzeźwego myślenia. Nie wstydź się zatem świadectwa naszego Pana ani mnie, Jego więźnia, lecz weź udział w trudach i przeciwnościach znoszonych dla Ewangelii według danej mocy Boga.',\n",
       " 'Oto słowo Boże']"
      ]
     },
     "execution_count": 141,
     "metadata": {},
     "output_type": "execute_result"
    }
   ],
   "source": [
    "content_dic['PIERWSZE CZYTANIE']"
   ]
  },
  {
   "cell_type": "code",
   "execution_count": null,
   "metadata": {},
   "outputs": [
    {
     "data": {
      "text/plain": [
       "['Łk 10,1-9',\n",
       " 'Rozesłanie uczniów',\n",
       " 'Słowa Ewangelii według świętego Łukasza',\n",
       " 'Spośród swoich uczniów wyznaczył Pan jeszcze innych, siedemdziesięciu dwóch, i wysłał ich po dwóch przed sobą do każdego miasta i miejscowości, dokąd sam przyjść zamierzał.',\n",
       " 'Powiedział też do nich: „Żniwo wprawdzie wielkie, ale robotników mało; proście więc Pana żniwa, żeby wyprawił robotników na swoje żniwo. Idźcie, oto was posyłam jak owce między wilki. Nie noście ze sobą trzosa ani torby, ani sandałów; i nikogo w drodze nie pozdrawiajcie.',\n",
       " 'Gdy do jakiego domu wejdziecie, najpierw mówcie: «Pokój temu domowi!» Jeśli tam mieszka człowiek godny pokoju, wasz pokój spocznie na nim; jeśli nie, powróci do was.',\n",
       " 'W tym samym domu zostańcie, jedząc i pijąc, co mają: bo zasługuje robotnik na swą zapłatę.',\n",
       " 'Nie przechodźcie z domu do domu. Jeśli do jakiego miasta wejdziecie i przyjmą was, jedzcie, co wam podadzą; uzdrawiajcie chorych, którzy tam są, i mówcie im: «Przybliżyło się do was królestwo Boże»”.',\n",
       " 'Oto słowo Pańskie.']"
      ]
     },
     "execution_count": 142,
     "metadata": {},
     "output_type": "execute_result"
    }
   ],
   "source": [
    "content_dic['EWANGELIA']"
   ]
  },
  {
   "cell_type": "code",
   "execution_count": null,
   "metadata": {},
   "outputs": [
    {
     "data": {
      "text/plain": [
       "[['',\n",
       "  'A reading from the Second Letter of St. Paul to Timothy 2 Tm 1:1-8',\n",
       "  'Paul, an Apostle of Christ Jesus by the will of God for the promise of life in Christ Jesus, to Timothy, my dear child: grace, mercy, and peace from God the Father and Christ Jesus our Lord.',\n",
       "  'I am grateful to God, whom I worship with a clear conscience as my ancestors did, as I remember you constantly in my prayers, night and day. I yearn to see you again, recalling your tears, so that I may be filled with joy, as I recall your sincere faith that first lived in your grandmother Lois and in your mother Eunice and that I am confident lives also in you.',\n",
       "  'For this reason, I remind you to stir into flame the gift of God that you have through the imposition of my hands. For God did not give us a spirit of cowardice but rather of power and love and self-control. So do not be ashamed of your testimony to our Lord, nor of me, a prisoner for his sake; but bear your share of hardship for the Gospel with the strength that comes from God.'],\n",
       " ['',\n",
       "  'From the Gospel according to Mark Mk 4:26-34',\n",
       "  'Jesus said to the crowds: “This is how it is with the Kingdom of God; it is as if a man were to scatter seed on the land and would sleep and rise night and day and the seed would sprout and grow, he knows not how. Of its own accord the land yields fruit, first the blade, then the ear, then the full grain in the ear. And when the grain is ripe, he wields the sickle at once, for the harvest has come.”',\n",
       "  'He said, “To what shall we compare the Kingdom of God, or what parable can we use for it? It is like a mustard seed that, when it is sown in the ground, is the smallest of all the seeds on the earth. But once it is sown, it springs up and becomes the largest of plants and puts forth large branches, so that the birds of the sky can dwell in its shade.” With many such parables he spoke the word to them as they were able to understand it. Without parables he did not speak to them, but to his own disciples he explained everything in private.']]"
      ]
     },
     "execution_count": 143,
     "metadata": {},
     "output_type": "execute_result"
    }
   ],
   "source": [
    "URL = f\"https://www.vaticannews.va/en/word-of-the-day/{str(today).replace('-', '/')}.html\"\n",
    "\n",
    "page = requests.get(URL)\n",
    "soup = BeautifulSoup(page.content, \"html.parser\")\n",
    "content_list = soup.find_all(\"div\", \"section__content\")[:2]\n",
    "content_list_text = [x.get_text().split('\\n') for x in content_list]\n",
    "for num, y in enumerate(content_list_text):\n",
    "    content_list_text[num] = [x.replace(\"\\\"\",\"\") for x in y]\n",
    "\n",
    "content_list_text"
   ]
  },
  {
   "cell_type": "code",
   "execution_count": null,
   "metadata": {},
   "outputs": [
    {
     "data": {
      "text/plain": [
       "'2024-01-26'"
      ]
     },
     "execution_count": 144,
     "metadata": {},
     "output_type": "execute_result"
    }
   ],
   "source": [
    "str(today)"
   ]
  }
 ],
 "metadata": {
  "kernelspec": {
   "display_name": "Python 3",
   "language": "python",
   "name": "python3"
  },
  "language_info": {
   "codemirror_mode": {
    "name": "ipython",
    "version": 3
   },
   "file_extension": ".py",
   "mimetype": "text/x-python",
   "name": "python",
   "nbconvert_exporter": "python",
   "pygments_lexer": "ipython3",
   "version": "3.10.8"
  },
  "orig_nbformat": 4,
  "vscode": {
   "interpreter": {
    "hash": "c5d4acb655fd02b6960c18b8a81a301b5fb3493440abb8c937c5545b8a1d8632"
   }
  }
 },
 "nbformat": 4,
 "nbformat_minor": 2
}
