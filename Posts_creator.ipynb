{
 "cells": [
  {
   "cell_type": "code",
   "execution_count": 75,
   "metadata": {},
   "outputs": [],
   "source": [
    "import requests\n",
    "from bs4 import BeautifulSoup\n",
    "from PIL import Image, ImageDraw, ImageFont\n",
    "import copy\n",
    "import textwrap\n",
    "from pathlib import WindowsPath\n",
    "from datetime import date\n",
    "import os\n"
   ]
  },
  {
   "cell_type": "code",
   "execution_count": 162,
   "metadata": {},
   "outputs": [],
   "source": [
    "today = date.today()\n",
    "# today = '2024-03-18'"
   ]
  },
  {
   "cell_type": "code",
   "execution_count": 77,
   "metadata": {},
   "outputs": [],
   "source": [
    "# content_dic['DRUGIE CZYTANIE'][4] = 'Łaska wam i pokój od Boga ojca naszego i Pana Jezusa Chrystusa! Bogu mojemu dziękuję wciąż za was, za łaskę daną wam w Chrystusie Jezusie. W Nim to bowiem zostaliście wzbogaceni we wszystko: we wszelkie słowo i wszelkie poznanie, bo świadectwo Chrystusowe utrwaliło się w was. Nie doznajecie tedy braku żadnej łaski, oczekując objawienia się Pana naszego, Jezusa Chrystusa. On też będzie umacniał was aż do końca, abyście byli bez zarzutu w dzień Pana naszego, Jezusa Chrystusa.'\n",
    "# content_dic['EWANGELIA'][3] = 'Jezus powiedział do swoich uczniów:'\n",
    "# content_dic['EWANGELIA'].insert(4,'«Uważajcie, czuwajcie, bo nie wiecie, kiedy czas ten nadejdzie. Bo rzecz ma się podobnie jak z człowiekiem, który udał się w podróż. Zostawił swój dom, powierzył swym sługom staranie o wszystko, każdemu wyznaczył zajęcie, a odźwiernemu przykazał, żeby czuwał.')\n",
    "# content_dic['EWANGELIA']"
   ]
  },
  {
   "cell_type": "code",
   "execution_count": 103,
   "metadata": {},
   "outputs": [],
   "source": [
    "URL = f\"https://liturgia.wiara.pl/kalendarz/67b53.Czytania-mszalne/{str(today)}\"\n",
    "\n",
    "\n",
    "page = requests.get(URL)\n",
    "\n",
    "soup = BeautifulSoup(page.content, \"html.parser\")\n",
    "\n",
    "content_list = soup.find_all(\"div\", \"txt__rich-area\")[1].get_text().split('\\n')\n",
    "\n",
    "if content_list[-1] == '':\n",
    "    del content_list[-1]"
   ]
  },
  {
   "cell_type": "code",
   "execution_count": 127,
   "metadata": {},
   "outputs": [
    {
     "data": {
      "text/plain": [
       "['PIERWSZE CZYTANIE',\n",
       " 'Dn 13, 41c-62',\n",
       " 'Czytanie z Księgi proroka Daniela',\n",
       " 'Na wygnaniu w Babilonie zgromadzenie Izraela skazało na śmierć Zuzannę, fałszywie oskarżoną przez dwóch starców.',\n",
       " 'Wtedy Zuzanna zawołała donośnym głosem: «Wiekuisty Boże, który znasz to, co jest ukryte, i wiesz wszystko, zanim się stanie. Ty wiesz, że złożyli fałszywe oskarżenie przeciw mnie. Oto umieram, chociaż nie uczyniłam nic z tego, o co mnie oni złośliwie obwiniają».',\n",
       " 'A Pan wysłuchał jej głosu. Gdy ją prowadzono na stracenie, wzbudził Bóg świętego ducha w młodzieńcu imieniem Daniel. Zawołał on donośnym głosem: «Jestem czysty od jej krwi!» Cały zaś lud zwrócił się do niego, mówiąc: «Co oznacza to słowo, które wypowiedziałeś?» On zaś, powstawszy wśród nich, powiedział: «Czy tak bardzo jesteście nierozumni, Izraelici, że skazujecie córkę izraelską bez dochodzenia i pewności? Wróćcie do sądu, bo ci ją fałszywie obwinili».',\n",
       " 'Cały lud zawrócił w pośpiechu. Starsi zaś powiedzieli: «Usiądź tu wśród nas i wyjaśnij nam, bo tobie dał Bóg przywilej starszeństwa». Daniel powiedział do nich: «Rozdzielcie ich, jednego daleko od drugiego, a ja ich osądzę».',\n",
       " 'Gdy zaś zostali oddzieleni od siebie, zawołał jednego z nich i powiedział do niego: «Zestarzałeś się w przewrotności, a teraz wychodzą na jaw twe grzechy, jakie poprzednio popełniłeś, wydając niesprawiedliwe wyroki. Potępiałeś niewinnych i uwalniałeś winnych, chociaż Pan powiedział: Nie przyczynisz się do śmierci niewinnego i sprawiedliwego. Teraz więc, jeśli ją rzeczywiście widziałeś, powiedz, pod jakim drzewem widziałeś ich obcujących z sobą?» On zaś powiedział: «Pod lentyszkiem». Daniel odrzekł: «Dobrze! Skłamałeś na swą własną zgubę. Już bowiem anioł Boży otrzymał od Boga wyrok na ciebie, by cię rozedrzeć na dwoje».',\n",
       " 'Odesławszy go, rozkazał przyprowadzić drugiego i powiedział do niego: «Potomku kananejski, a nie judzki, piękność sprowadziła cię na bezdroża, a żądza uczyniła twe serce przewrotnym. Tak postępowaliście z córkami izraelskimi, one zaś, bojąc się, obcowały z wami. Córka judzka jednak nie zgodziła się na waszą nieprawość. Powiedz mi więc teraz, pod jakim drzewem spotkałeś ich obcujących z sobą?» On zaś powiedział: «Pod dębem». Wtedy Daniel powiedział do niego: «Dobrze! Skłamałeś i ty na swoją własną zgubę. Czeka bowiem anioł Boży z mieczem w ręku, by rozciąć cię na dwoje, by was wytępić!»',\n",
       " 'Całe zgromadzenie zawołało głośno i wychwalało Boga, że ocala tych, co pokładają w Nim nadzieję. Zwrócili się następnie przeciw obu starcom, ponieważ Daniel wykazał na podstawie ich własnych słów nieprawdziwość oskarżenia. Postąpiono z nimi według miary zła wyrządzonego przez nich bliźnim, zabijając ich według Prawa Mojżeszowego. W dniu tym ocalono niewinną krew.',\n",
       " 'Oto słowo Boże.',\n",
       " 'PSALM RESPONSORYJNY',\n",
       " 'Ps 23 (22), 1b-3a. 3b-4. 5. 6 (R.: por. 4ab)',\n",
       " 'Refren: Nic mnie nie trwoży, bo Ty jesteś ze mną.',\n",
       " 'Pan jest moim pasterzem, †',\n",
       " 'niczego mi nie braknie, *',\n",
       " 'pozwala mi leżeć na zielonych pastwiskach.',\n",
       " 'Prowadzi mnie nad wody, gdzie mogę odpocząć, *',\n",
       " 'orzeźwia moją duszę.',\n",
       " 'Refren.',\n",
       " 'Wiedzie mnie po właściwych ścieżkach *',\n",
       " 'przez wzgląd na swoją chwałę.',\n",
       " 'Chociażbym przechodził przez ciemną dolinę, †',\n",
       " 'zła się nie ulęknę, bo Ty jesteś ze mną. *',\n",
       " 'Kij Twój i laska pasterska są moją pociechą.',\n",
       " 'Refren.',\n",
       " 'Stół dla mnie zastawiasz *',\n",
       " 'na oczach mych wrogów.',\n",
       " 'Namaszczasz mi głowę olejkiem, *',\n",
       " 'kielich mój pełny po brzegi.',\n",
       " 'Refren.',\n",
       " 'Dobroć i łaska pójdą w ślad za mną *',\n",
       " 'przez wszystkie dni życia',\n",
       " 'i zamieszkam w domu Pana *',\n",
       " 'po najdłuższe czasy.',\n",
       " 'Refren.',\n",
       " 'ŚPIEW PRZED EWANGELIĄ',\n",
       " 'Por. Ez 33, 11',\n",
       " 'Aklamacja: Chwała Tobie, Słowo Boże.',\n",
       " 'Pan mówi: Nie chcę śmierci grzesznika,',\n",
       " 'lecz pragnę, aby się nawrócił i miał życie.',\n",
       " 'Aklamacja: Chwała Tobie, Słowo Boże.',\n",
       " 'EWANGELIA',\n",
       " 'J 8, 1-11',\n",
       " 'Chrystus ocala cudzołożnicę',\n",
       " 'Słowa Ewangelii według Świętego Jana',\n",
       " 'Jezus udał się na Górę Oliwną, ale o brzasku zjawił się znów w świątyni. Cały lud schodził się do Niego, a On, usiadłszy, nauczał ich.',\n",
       " 'Wówczas uczeni w Piśmie i faryzeusze przyprowadzili do Niego kobietę, którą dopiero co pochwycono na cudzołóstwie, a postawiwszy ją pośrodku, powiedzieli do Niego: «Nauczycielu, tę kobietę dopiero co pochwycono na cudzołóstwie. W Prawie Mojżesz nakazał nam takie kamienować. A Ty co powiesz?» Mówili to, wystawiając Go na próbę,\\xa0aby mieli o co Go oskarżyć.',\n",
       " 'Lecz Jezus, schyliwszy się, pisał palcem po ziemi. A kiedy w dalszym ciągu Go pytali, podniósł się i rzekł do nich: «Kto z was jest bez grzechu, niech pierwszy rzuci w nią kamieniem». I powtórnie schyliwszy się, pisał na ziemi.',\n",
       " 'Kiedy to usłyszeli, jeden po drugim zaczęli odchodzić, poczynając od starszych, aż do ostatnich. Pozostał tylko Jezus i kobieta stojąca na środku.',\n",
       " 'Wówczas Jezus, podniósłszy się, rzekł do niej: «Kobieto, gdzież oni są? Nikt cię nie potępił?» A ona odrzekła: «Nikt, Panie!» Rzekł do niej Jezus: «I Ja ciebie nie potępiam. Idź i odtąd już nie grzesz».',\n",
       " 'Oto słowo Pańskie.',\n",
       " 'W roku C, jeżeli tę Ewangelię odczytano w niedzielę, należy odczytać następującą:',\n",
       " 'EWANGELIA',\n",
       " 'J 8, 12-20',\n",
       " 'Sąd Chrystusa jest prawdziwy',\n",
       " 'Słowa Ewangelii według Świętego Jana',\n",
       " 'Jezus przemówił do faryzeuszów tymi słowami: «Ja jestem światłością świata. Kto idzie za Mną, nie będzie chodził w ciemności, lecz będzie miał światło życia».',\n",
       " 'Rzekli do Niego faryzeusze: «Ty sam o sobie dajesz świadectwo. Twoje świadectwo nie jest prawdziwe».',\n",
       " 'W odpowiedzi rzekł do nich Jezus: «Nawet jeżeli Ja sam o sobie daję świadectwo, to świadectwo moje jest prawdziwe, bo wiem, skąd przyszedłem i dokąd idę. Wy zaś nie wiecie, ani skąd przychodzę, ani dokąd idę. Wy osądzacie według zasad tylko ludzkich. Ja nie sądzę nikogo. A jeślibym nawet sądził, to sąd mój jest prawdziwy, ponieważ nie jestem sam, lecz Ja i Ten, który Mnie posłał. Także w waszym Prawie jest napisane, że świadectwo dwóch ludzi jest prawdziwe. Oto Ja daję świadectwo o sobie samym oraz zaświadcza o Mnie Ojciec, który Mnie posłał».',\n",
       " 'Na to powiedzieli Mu: «Gdzież jest twój Ojciec?»',\n",
       " 'Jezus odpowiedział: «Nie znacie ani Mnie, ani mego Ojca. Gdybyście Mnie poznali, poznalibyście i mojego Ojca».',\n",
       " 'Słowa te wypowiedział przy skarbcu, kiedy nauczał w świątyni. Mimo to nikt Go nie pojmał, gdyż godzina Jego jeszcze nie nadeszła.',\n",
       " 'Oto słowo Pańskie.']"
      ]
     },
     "execution_count": 127,
     "metadata": {},
     "output_type": "execute_result"
    }
   ],
   "source": [
    "content_list"
   ]
  },
  {
   "cell_type": "code",
   "execution_count": 119,
   "metadata": {},
   "outputs": [],
   "source": [
    "# content_list = content_list[content_list.index('PIERWSZE CZYTANIE KRÓTSZE'):]\n",
    "# content_list[0] = content_list[0].replace('PIERWSZE CZYTANIE KRÓTSZE', 'PIERWSZE CZYTANIE')\n",
    "# content_list\n",
    "try:\n",
    "    i = content_list.index('EWANGELIA ')\n",
    "    content_list[i] = content_list[i].replace('EWANGELIA ', 'EWANGELIA')\n",
    "except:\n",
    "    pass"
   ]
  },
  {
   "cell_type": "code",
   "execution_count": 81,
   "metadata": {},
   "outputs": [],
   "source": [
    "# content_list.index('albo:')"
   ]
  },
  {
   "cell_type": "code",
   "execution_count": 82,
   "metadata": {},
   "outputs": [
    {
     "data": {
      "text/plain": [
       "'https://liturgia.wiara.pl/kalendarz/67b53.Czytania-mszalne/2024-03-18'"
      ]
     },
     "execution_count": 82,
     "metadata": {},
     "output_type": "execute_result"
    }
   ],
   "source": [
    "URL"
   ]
  },
  {
   "cell_type": "code",
   "execution_count": 83,
   "metadata": {},
   "outputs": [],
   "source": [
    "# content_list[content_list.index('EWANGELIA')]\n",
    "# content_dic['PIERWSZE CZYTANIE'] = content_dic['PIERWSZE CZYTANIE'][:-5]\n",
    "\n",
    "# content_dic['PSALM RESPONSORYJNY'].insert(11, 'Refren: Po całej ziemi ich głos się rozchodzi.')\n",
    "# content_dic['PSALM RESPONSORYJNY']"
   ]
  },
  {
   "cell_type": "code",
   "execution_count": 128,
   "metadata": {},
   "outputs": [
    {
     "ename": "IndexError",
     "evalue": "list index out of range",
     "output_type": "error",
     "traceback": [
      "\u001b[1;31m---------------------------------------------------------------------------\u001b[0m",
      "\u001b[1;31mIndexError\u001b[0m                                Traceback (most recent call last)",
      "Cell \u001b[1;32mIn[128], line 38\u001b[0m\n\u001b[0;32m     35\u001b[0m                 \u001b[38;5;28;01mdel\u001b[39;00m cut_points[\u001b[38;5;241m0\u001b[39m]\n\u001b[0;32m     36\u001b[0m                 \u001b[38;5;28;01mbreak\u001b[39;00m\n\u001b[1;32m---> 38\u001b[0m         content_dic[\u001b[43mcut_points\u001b[49m\u001b[43m[\u001b[49m\u001b[38;5;241;43m0\u001b[39;49m\u001b[43m]\u001b[49m] \u001b[38;5;241m=\u001b[39m staging_list\n\u001b[0;32m     40\u001b[0m content_dic \n",
      "\u001b[1;31mIndexError\u001b[0m: list index out of range"
     ]
    }
   ],
   "source": [
    "if 'EWANGELIA DŁUŻSZA' in content_list:\n",
    "    cut_points = ['PIERWSZE CZYTANIE', 'PSALM RESPONSORYJNY', 'DRUGIE CZYTANIE', 'EWANGELIA DŁUŻSZA', 'EWANGELIA KRÓTSZA']\n",
    "elif 'DRUGIE CZYTANIE' in content_list:\n",
    "    cut_points = ['PIERWSZE CZYTANIE', 'PSALM RESPONSORYJNY', 'DRUGIE CZYTANIE', 'EWANGELIA']\n",
    "else:\n",
    "    cut_points = ['PIERWSZE CZYTANIE', 'PSALM RESPONSORYJNY', 'EWANGELIA']\n",
    "\n",
    "content_dic = {}\n",
    "staging_list = [] \n",
    "\n",
    "\n",
    "for text in content_list:\n",
    "    if 'Liturgia Słowa' in text or '' == text:\n",
    "        continue\n",
    "\n",
    "    # content_list[content_list.index(text)] = text.strip()\n",
    "    # text = text.strip()\n",
    "    \n",
    "    if text in cut_points:\n",
    "\n",
    "        for text in content_list[content_list.index(text)+1:]:\n",
    "            if '' == text:\n",
    "                continue\n",
    "            if text == 'albo':\n",
    "                content_dic[cut_points[0]] = staging_list\n",
    "                staging_list = [] \n",
    "                del cut_points[0]\n",
    "                break\n",
    "            if text not in cut_points:\n",
    "                staging_list.append(text)\n",
    "                \n",
    "            else:\n",
    "                content_dic[cut_points[0]] = staging_list\n",
    "                staging_list = [] \n",
    "                del cut_points[0]\n",
    "                break\n",
    "        \n",
    "        content_dic[cut_points[0]] = staging_list\n",
    "\n",
    "content_dic \n",
    "\n",
    "        "
   ]
  },
  {
   "cell_type": "code",
   "execution_count": 129,
   "metadata": {},
   "outputs": [
    {
     "data": {
      "text/plain": [
       "dict_keys(['PIERWSZE CZYTANIE', 'PSALM RESPONSORYJNY', 'EWANGELIA'])"
      ]
     },
     "execution_count": 129,
     "metadata": {},
     "output_type": "execute_result"
    }
   ],
   "source": [
    "content_dic.keys()\n"
   ]
  },
  {
   "cell_type": "code",
   "execution_count": 130,
   "metadata": {},
   "outputs": [],
   "source": [
    "if 'EWANGELIA KRÓTSZA' in content_list:\n",
    "    content_dic['EWANGELIA KRÓTSZA'].insert(1, content_dic['EWANGELIA DŁUŻSZA'][1])\n",
    "    content_dic['EWANGELIA KRÓTSZA']"
   ]
  },
  {
   "cell_type": "code",
   "execution_count": 131,
   "metadata": {},
   "outputs": [
    {
     "data": {
      "text/plain": [
       "['Ps 23 (22), 1b-3a. 3b-4. 5. 6 (R.: por. 4ab)',\n",
       " 'Refren: Nic mnie nie trwoży, bo Ty jesteś ze mną.',\n",
       " 'Pan jest moim pasterzem, †',\n",
       " 'niczego mi nie braknie, *',\n",
       " 'pozwala mi leżeć na zielonych pastwiskach.',\n",
       " 'Prowadzi mnie nad wody, gdzie mogę odpocząć, *',\n",
       " 'orzeźwia moją duszę.',\n",
       " 'Refren.',\n",
       " 'Wiedzie mnie po właściwych ścieżkach *',\n",
       " 'przez wzgląd na swoją chwałę.',\n",
       " 'Chociażbym przechodził przez ciemną dolinę, †',\n",
       " 'zła się nie ulęknę, bo Ty jesteś ze mną. *',\n",
       " 'Kij Twój i laska pasterska są moją pociechą.',\n",
       " 'Refren.',\n",
       " 'Stół dla mnie zastawiasz *',\n",
       " 'na oczach mych wrogów.',\n",
       " 'Namaszczasz mi głowę olejkiem, *',\n",
       " 'kielich mój pełny po brzegi.',\n",
       " 'Refren.',\n",
       " 'Dobroć i łaska pójdą w ślad za mną *',\n",
       " 'przez wszystkie dni życia',\n",
       " 'i zamieszkam w domu Pana *',\n",
       " 'po najdłuższe czasy.',\n",
       " 'Refren.',\n",
       " 'ŚPIEW PRZED EWANGELIĄ',\n",
       " 'Por. Ez 33, 11',\n",
       " 'Aklamacja: Chwała Tobie, Słowo Boże.',\n",
       " 'Pan mówi: Nie chcę śmierci grzesznika,',\n",
       " 'lecz pragnę, aby się nawrócił i miał życie.',\n",
       " 'Aklamacja: Chwała Tobie, Słowo Boże.']"
      ]
     },
     "execution_count": 131,
     "metadata": {},
     "output_type": "execute_result"
    }
   ],
   "source": [
    "from functools import reduce\n",
    "count = reduce(lambda x, y: x + 1 if 'Refren' in y else x, content_dic['PSALM RESPONSORYJNY'], 0)\n",
    "if len(content_dic['PSALM RESPONSORYJNY']) > 6 and count == 1:\n",
    "    content_dic['PSALM RESPONSORYJNY'].insert(6, 'Refren')\n",
    "    content_dic['PSALM RESPONSORYJNY'].insert(11, 'Refren')\n",
    "    content_dic['PSALM RESPONSORYJNY'].insert(16, 'Refren')\n",
    "content_dic['PSALM RESPONSORYJNY']"
   ]
  },
  {
   "cell_type": "code",
   "execution_count": null,
   "metadata": {},
   "outputs": [
    {
     "ename": "IndexError",
     "evalue": "list assignment index out of range",
     "output_type": "error",
     "traceback": [
      "\u001b[1;31m---------------------------------------------------------------------------\u001b[0m",
      "\u001b[1;31mIndexError\u001b[0m                                Traceback (most recent call last)",
      "Cell \u001b[1;32mIn[11], line 1\u001b[0m\n\u001b[1;32m----> 1\u001b[0m \u001b[43mcontent_dic\u001b[49m\u001b[43m[\u001b[49m\u001b[38;5;124;43m'\u001b[39;49m\u001b[38;5;124;43mPSALM RESPONSORYJNY\u001b[39;49m\u001b[38;5;124;43m'\u001b[39;49m\u001b[43m]\u001b[49m\u001b[43m[\u001b[49m\u001b[38;5;241;43m18\u001b[39;49m\u001b[43m]\u001b[49m \u001b[38;5;241m=\u001b[39m \u001b[38;5;124m'\u001b[39m\u001b[38;5;124mna oczach mych wrogów.\u001b[39m\u001b[38;5;124m'\u001b[39m\n\u001b[0;32m      2\u001b[0m content_dic[\u001b[38;5;124m'\u001b[39m\u001b[38;5;124mPSALM RESPONSORYJNY\u001b[39m\u001b[38;5;124m'\u001b[39m]\u001b[38;5;241m.\u001b[39minsert(\u001b[38;5;241m19\u001b[39m, \u001b[38;5;124m'\u001b[39m\u001b[38;5;124mNamaszczasz mi głowę olejkiem,\u001b[39m\u001b[38;5;124m'\u001b[39m)\n\u001b[0;32m      3\u001b[0m content_dic[\u001b[38;5;124m'\u001b[39m\u001b[38;5;124mPSALM RESPONSORYJNY\u001b[39m\u001b[38;5;124m'\u001b[39m]\u001b[38;5;241m.\u001b[39minsert(\u001b[38;5;241m21\u001b[39m, \u001b[38;5;124m'\u001b[39m\u001b[38;5;124mRefren\u001b[39m\u001b[38;5;124m'\u001b[39m)\n",
      "\u001b[1;31mIndexError\u001b[0m: list assignment index out of range"
     ]
    }
   ],
   "source": [
    "content_dic['PSALM RESPONSORYJNY'][18] = 'na oczach mych wrogów.'\n",
    "content_dic['PSALM RESPONSORYJNY'].insert(19, 'Namaszczasz mi głowę olejkiem,')\n",
    "content_dic['PSALM RESPONSORYJNY'].insert(21, 'Refren')\n",
    "content_dic['PSALM RESPONSORYJNY'].insert(26, 'Refren')\n",
    "content_dic['PSALM RESPONSORYJNY']"
   ]
  },
  {
   "cell_type": "code",
   "execution_count": 132,
   "metadata": {},
   "outputs": [],
   "source": [
    "path = r\"C:\\Users\\Acne\\Pictures\\Cyfrowa Biblia\\automatyzacja\\paper.gif\"\n",
    "\n",
    "image_size = 1080\n",
    "with Image.open(path) as im:\n",
    "    out = Image.new(\"RGB\", (image_size, image_size), \"white\")\n",
    "    x=0\n",
    "    y=0\n",
    "    size_x_left, size_y = im.size\n",
    "\n",
    "    while x < image_size:\n",
    "        while y < image_size:\n",
    "            out.paste(im, (x, y))\n",
    "            y += size_y\n",
    "        y = 0\n",
    "        x += size_x_left\n",
    "\n",
    "# out.show()\n"
   ]
  },
  {
   "cell_type": "code",
   "execution_count": 133,
   "metadata": {},
   "outputs": [],
   "source": [
    "tahoma = r\"C:\\Windows\\Fonts\\tahoma.ttf\"\n",
    "tahoma_bold = r\"C:\\Windows\\Fonts\\tahomabd.ttf\""
   ]
  },
  {
   "cell_type": "code",
   "execution_count": 134,
   "metadata": {},
   "outputs": [],
   "source": [
    "current_path = WindowsPath(r'C:\\Users\\Acne\\Pictures\\Cyfrowa Biblia\\\\' + str(today))\n",
    "\n",
    "os.makedirs(current_path, exist_ok=True)"
   ]
  },
  {
   "cell_type": "code",
   "execution_count": 91,
   "metadata": {},
   "outputs": [],
   "source": [
    "def draw_text(out, name, current_path, size_x_left, size_y, font_size):\n",
    "\n",
    "    font_size_small = int(0.75 * font_size)\n",
    "\n",
    "    fnt = ImageFont.truetype(tahoma, font_size) \n",
    "    fnt_b = ImageFont.truetype(tahoma_bold, font_size)\n",
    "    fnt_s = ImageFont.truetype(tahoma, font_size_small)\n",
    "\n",
    "    size_x_left = 80\n",
    "    size_x_right = image_size - 2 * size_x_left  \n",
    "    size_y = int(1.2 * font_size)\n",
    "    width = int(75 - 0.6 * font_size)\n",
    "\n",
    "    out_func = copy.deepcopy(out)\n",
    "    draw = ImageDraw.Draw(out_func) \n",
    "\n",
    "    draw.text((size_x_left, size_x_left), name, font=fnt_b, fill=\"red\", anchor='lm')\n",
    "    draw.text((size_x_right + size_x_left, size_x_left), content_dic[name][0], font=fnt_b, fill=\"red\", anchor='rm') #TODO\n",
    "    \n",
    "    var_y = size_x_left + size_y\n",
    "    draw.text((size_x_left, var_y), content_dic[name][1], font=fnt_s, fill=\"black\", anchor='lm')\n",
    "    \n",
    "    lines = textwrap.wrap(content_dic[name][2], width=width)\n",
    "    for line in lines:\n",
    "        var_y += size_y\n",
    "        draw.text((size_x_left, var_y), line, font=fnt_b, fill=\"black\", anchor='lm')\n",
    "    \n",
    "    var_y += size_x_left\n",
    "    \n",
    "    for count, _ in enumerate(content_dic[name][3:-1]):\n",
    "        lines = textwrap.wrap(content_dic[name][3+count], width=width, initial_indent='  ')\n",
    "        lines[0] = lines[0].strip()\n",
    "        # print('\\n'.join(lines))\n",
    "        space_length_regular = 15\n",
    "\n",
    "        for line_count, line in enumerate(lines):\n",
    "            x_word = size_x_left\n",
    "            x_word_intended = 2 * size_x_left\n",
    "            words = line.split(\" \")\n",
    "            words_length = sum(draw.textlength(w, font=fnt) for w in words)\n",
    "            if len(words) == 1:\n",
    "                words.append(' ')\n",
    "\n",
    "            print(space_length_regular)\n",
    "            if line_count == len(lines)-1:\n",
    "                if words_length + (len(words)-1) * space_length_regular > size_x_right:\n",
    "                    space_length_regular = (size_x_right - words_length) / (len(words) - 1)\n",
    "                for word in words:\n",
    "                    draw.text((x_word, var_y), word, font=fnt, fill=\"black\", anchor='lm')\n",
    "                    x_word += draw.textlength(word, font=fnt) + space_length_regular\n",
    "                var_y += size_y  \n",
    "                break\n",
    "            \n",
    "            space_length_intended = (size_x_right - x_word - words_length) / (len(words) - 1)\n",
    "            space_length_regular = (size_x_right - words_length) / (len(words) - 1)\n",
    "            \n",
    "            if line_count == 0 and line != 'Bracia:' and 'Jezus powiedział' not in line:\n",
    "                for word in words:\n",
    "                    draw.text((x_word_intended, var_y), word, font=fnt, fill=\"black\", anchor='lm')\n",
    "                    x_word_intended += draw.textlength(word, font=fnt) + space_length_intended\n",
    "\n",
    "            else:\n",
    "                for word in words:\n",
    "                    draw.text((x_word, var_y), word, font=fnt, fill=\"black\", anchor='lm')\n",
    "                    x_word += draw.textlength(word, font=fnt) + space_length_regular\n",
    "            var_y += size_y            \n",
    "            \n",
    "    draw.text((2*size_x_left, var_y+size_y), content_dic[name][-1], font=fnt_b, fill=\"black\", anchor='lm')\n",
    "\n",
    "    # out_func.show()\n",
    "\n",
    "    returned = {'drawn_y': var_y+size_y, 'picture': out_func}\n",
    "\n",
    "    return returned\n",
    "    # out_func.save(current_path / f'{name}.png')\n",
    "\n",
    "    out_func = copy.deepcopy(out)\n",
    "\n",
    "# returned = draw_text(out, text, current_path, size_x_left, size_y, 44)\n",
    "# returned['picture'].show()"
   ]
  },
  {
   "cell_type": "code",
   "execution_count": null,
   "metadata": {},
   "outputs": [],
   "source": [
    "if \"DRUGIE CZYTANIE\" in content_dic:\n",
    "    if 'ŚPIEW PRZED EWANGELIĄ' in content_dic[\"DRUGIE CZYTANIE\"]:\n",
    "        content_dic[\"DRUGIE CZYTANIE\"] = content_dic[\"DRUGIE CZYTANIE\"][:-6]"
   ]
  },
  {
   "cell_type": "code",
   "execution_count": 135,
   "metadata": {},
   "outputs": [
    {
     "name": "stdout",
     "output_type": "stream",
     "text": [
      "15\n",
      "68.83333333333333\n",
      "15\n",
      "89.77777777777777\n",
      "89.44444444444444\n",
      "89.55555555555556\n",
      "80.8\n",
      "82.1\n",
      "15\n",
      "74.0\n",
      "63.69230769230769\n",
      "89.77777777777777\n",
      "15\n",
      "90.55555555555556\n",
      "81.8\n",
      "15\n",
      "90.66666666666667\n",
      "68.16666666666667\n",
      "15\n"
     ]
    }
   ],
   "source": [
    "returned = draw_text(out, text, current_path, size_x_left, size_y, 4)\n",
    "returned['picture'].show()"
   ]
  },
  {
   "cell_type": "code",
   "execution_count": 93,
   "metadata": {},
   "outputs": [],
   "source": [
    "def draw_text_pagination_first(out, reading_list, current_path, size_x_left, size_y, font_size):\n",
    "\n",
    "    font_size_small = int(0.75 * font_size)\n",
    "\n",
    "    fnt = ImageFont.truetype(tahoma, font_size) \n",
    "    fnt_b = ImageFont.truetype(tahoma_bold, font_size)\n",
    "    fnt_s = ImageFont.truetype(tahoma, font_size_small)\n",
    "\n",
    "    size_x_left = int(25/12 * font_size)\n",
    "    size_x_right = image_size - 2 * size_x_left\n",
    "    size_y = int(1.2 * font_size)\n",
    "    width = int(80 - 0.3 * size_x_left)\n",
    "\n",
    "    out_func = copy.deepcopy(out)\n",
    "    draw = ImageDraw.Draw(out_func) \n",
    "\n",
    "#TODO\n",
    "    draw.text((size_x_left, size_x_left), reading_list[0], font=fnt_b, fill=\"red\", anchor='lm')\n",
    "    draw.text((size_x_right + size_x_left, size_x_left), reading_list[1], font=fnt_b, fill=\"red\", anchor='rm') #TODO\n",
    "    \n",
    "    var_y = size_x_left + size_y\n",
    "    draw.text((size_x_left, var_y), reading_list[2], font=fnt_s, fill=\"black\", anchor='lm')\n",
    "    \n",
    "    lines = textwrap.wrap(reading_list[3], width=width)\n",
    "    for line in lines:\n",
    "        var_y += size_y\n",
    "        draw.text((size_x_left, var_y), line, font=fnt_b, fill=\"black\", anchor='lm')\n",
    "    \n",
    "    var_y += size_x_left\n",
    "    \n",
    "    for count, element in enumerate(reading_list[4:]):\n",
    "        lines = textwrap.wrap(reading_list[4+count], width=width)\n",
    "        space_length_regular = 15\n",
    "\n",
    "        for line_count, line in enumerate(lines):\n",
    "            x_word = size_x_left\n",
    "            x_word_intended = 2 * size_x_left\n",
    "            words = line.split(\" \")\n",
    "            words_length = sum(draw.textlength(w, font=fnt) for w in words)\n",
    "            if len(words)==1:\n",
    "                words.append(' ')\n",
    "\n",
    "                for word in words:\n",
    "                    draw.text((x_word, var_y), word, font=fnt, fill=\"black\", anchor='lm')\n",
    "                    x_word += draw.textlength(word, font=fnt) + space_length_regular\n",
    "                var_y += size_y  \n",
    "                break\n",
    "\n",
    "            if line_count == len(lines)-1:\n",
    "                for word in words:\n",
    "                    draw.text((x_word, var_y), word, font=fnt, fill=\"black\", anchor='lm')\n",
    "                    x_word += draw.textlength(word, font=fnt) + space_length_regular\n",
    "                var_y += size_y  \n",
    "                break\n",
    "            \n",
    "            space_length_intended = (size_x_right - x_word - words_length) / (len(words) - 1)\n",
    "            space_length_regular = (size_x_right - words_length) / (len(words) - 1)\n",
    "           \n",
    "            if line_count == 0 and line != 'Bracia:' and 'Jezus powiedział' not in line:\n",
    "                for word in words:\n",
    "                    draw.text((x_word_intended, var_y), word, font=fnt, fill=\"black\", anchor='lm')\n",
    "                    x_word_intended += draw.textlength(word, font=fnt) + space_length_intended\n",
    "\n",
    "            else:\n",
    "                for word in words:\n",
    "                    draw.text((x_word, var_y), word, font=fnt, fill=\"black\", anchor='lm')\n",
    "                    x_word += draw.textlength(word, font=fnt) + space_length_regular\n",
    "            var_y += size_y            \n",
    "            \n",
    "    # out_func.show()\n",
    "\n",
    "    returned = {'drawn_y': var_y+size_y, 'picture': out_func}\n",
    "\n",
    "    return returned\n",
    "    # out_func.save(current_path / f'{name}.png')\n",
    "\n",
    "    out_func = copy.deepcopy(out)"
   ]
  },
  {
   "cell_type": "code",
   "execution_count": 94,
   "metadata": {},
   "outputs": [],
   "source": [
    "def draw_text_pagination_second(out, reading_list, current_path, size_x_left, size_y, font_size):\n",
    "\n",
    "    font_size_small = int(0.75 * font_size)\n",
    " \n",
    "    fnt = ImageFont.truetype(tahoma, font_size) \n",
    "    fnt_b = ImageFont.truetype(tahoma_bold, font_size)\n",
    "    fnt_s = ImageFont.truetype(tahoma, font_size_small)\n",
    "\n",
    "    size_x_left = int(25/12 * font_size)\n",
    "    size_x_right = image_size - 2 * size_x_left\n",
    "    size_y = int(1.2 * font_size)\n",
    "    width = int(80 - 0.3 * size_x_left)\n",
    "\n",
    "    out_func = copy.deepcopy(out)\n",
    "    draw = ImageDraw.Draw(out_func) \n",
    "\n",
    "    var_y = size_x_left\n",
    "    # print(reading_list)\n",
    "    lines = textwrap.wrap(reading_list[0], width=width)\n",
    "    \n",
    "    for count, element in enumerate(reading_list[0:-1]):\n",
    "        lines = textwrap.wrap(reading_list[0+count], width=width)\n",
    "        space_length_regular = 15\n",
    "\n",
    "        for line_count, line in enumerate(lines):\n",
    "            x_word = size_x_left\n",
    "            x_word_intended = 2 * size_x_left\n",
    "            words = line.split(\" \")\n",
    "            words_length = sum(draw.textlength(w, font=fnt) for w in words)\n",
    "            if len(words)==1:\n",
    "                words.append(' ')\n",
    "\n",
    "                for word in words:\n",
    "                    draw.text((x_word, var_y), word, font=fnt, fill=\"black\", anchor='lm')\n",
    "                    x_word += draw.textlength(word, font=fnt) + space_length_regular\n",
    "                var_y += size_y  \n",
    "                break\n",
    "\n",
    "            if line_count == len(lines)-1:\n",
    "                for word in words:\n",
    "                    draw.text((x_word, var_y), word, font=fnt, fill=\"black\", anchor='lm')\n",
    "                    x_word += draw.textlength(word, font=fnt) + space_length_regular\n",
    "                var_y += size_y  \n",
    "                break\n",
    "            \n",
    "            space_length_intended = (size_x_right - x_word - words_length) / (len(words) - 1)\n",
    "            space_length_regular = (size_x_right - words_length) / (len(words) - 1)\n",
    "           \n",
    "            if line_count == 0 and line != 'Bracia:' and 'Jezus powiedział' not in line:\n",
    "                for word in words:\n",
    "                    draw.text((x_word_intended, var_y), word, font=fnt, fill=\"black\", anchor='lm')\n",
    "                    x_word_intended += draw.textlength(word, font=fnt) + space_length_intended\n",
    "\n",
    "            else:\n",
    "                for word in words:\n",
    "                    draw.text((x_word, var_y), word, font=fnt, fill=\"black\", anchor='lm')\n",
    "                    x_word += draw.textlength(word, font=fnt) + space_length_regular\n",
    "            var_y += size_y            \n",
    "            \n",
    "    draw.text((2*size_x_left, var_y+size_y), reading_list[-1], font=fnt_b, fill=\"black\", anchor='lm')\n",
    "\n",
    "    # out_func.show()\n",
    "\n",
    "    returned = {'drawn_y': var_y+size_y, 'picture': out_func}\n",
    "\n",
    "    return returned\n",
    "    # out_func.save(current_path / f'{name}.png')\n",
    "\n",
    "    out_func = copy.deepcopy(out)"
   ]
  },
  {
   "cell_type": "code",
   "execution_count": 136,
   "metadata": {},
   "outputs": [
    {
     "data": {
      "text/plain": [
       "dict_keys(['PIERWSZE CZYTANIE', 'PSALM RESPONSORYJNY', 'EWANGELIA'])"
      ]
     },
     "execution_count": 136,
     "metadata": {},
     "output_type": "execute_result"
    }
   ],
   "source": [
    "content_dic.keys()"
   ]
  },
  {
   "cell_type": "code",
   "execution_count": 137,
   "metadata": {},
   "outputs": [
    {
     "name": "stdout",
     "output_type": "stream",
     "text": [
      "15\n",
      "29.2\n",
      "29.4\n",
      "15\n",
      "34.142857142857146\n",
      "57.166666666666664\n",
      "38.166666666666664\n",
      "28.714285714285715\n",
      "50.169270833333336\n",
      "27.380859375\n",
      "15\n",
      "39.5\n",
      "28.4\n",
      "25.3\n",
      "41.714285714285715\n",
      "15\n",
      "39.42857142857143\n",
      "35.28794642857143\n",
      "15\n",
      "61.0\n",
      "34.44618055555556\n",
      "40.876953125\n",
      "15\n",
      "15\n",
      "31.5\n",
      "31.3\n",
      "15\n",
      "37.714285714285715\n",
      "61.0\n",
      "41.333333333333336\n",
      "33.0\n",
      "53.833333333333336\n",
      "29.880859375\n",
      "15\n",
      "42.25\n",
      "30.8\n",
      "27.9\n",
      "44.857142857142854\n",
      "15\n",
      "43.0\n",
      "38.573660714285715\n",
      "15\n",
      "64.0\n",
      "36.66840277777778\n",
      "43.876953125\n",
      "15\n",
      "font_size:  29\n"
     ]
    }
   ],
   "source": [
    "min_font_before_pagination = 29\n",
    "verse_break = 5\n",
    "pagination_font_size = 34\n",
    "\n",
    "\n",
    "for text in ['EWANGELIA']:\n",
    "# .keys():\n",
    "# ['PIERWSZE CZYTANIE']:\n",
    "    if text != 'PSALM RESPONSORYJNY':\n",
    "        font_size = 30\n",
    "        returned = draw_text(out, text, current_path, size_x_left, size_y, font_size)\n",
    "\n",
    "        # returned['picture'].show()\n",
    "        # returned['picture'].save(current_path / f'{text}.png')\n",
    "\n",
    "        while returned['drawn_y'] > image_size - 20:\n",
    "            if font_size < min_font_before_pagination:\n",
    "                pagination_dic = {}\n",
    "                pagination_dic[f'{text} cz.1'] = content_dic[f'{text}'][:verse_break]\n",
    "                pagination_dic[f'{text} cz.1'].insert(0, f'{text}' )\n",
    "                pagination_dic[f'{text} cz.2'] = content_dic[f'{text}'][verse_break:]\n",
    "\n",
    "                \n",
    "                returned = draw_text_pagination_first(out, pagination_dic[f'{text} cz.1'], current_path, size_x_left, size_y, pagination_font_size)\n",
    "                returned['picture'].show()\n",
    "                returned['picture'].save(current_path / f'{text}1.png')\n",
    "\n",
    "                returned = draw_text_pagination_second(out,  pagination_dic[f'{text} cz.2'], current_path, size_x_left, size_y, pagination_font_size)\n",
    "                returned['picture'].show()\n",
    "                returned['picture'].save(current_path / f'{text}2.png')\n",
    "\n",
    "                break\n",
    "            \n",
    "            else:\n",
    "                font_size -= 1\n",
    "                returned = draw_text(out, text, current_path, size_x_left, size_y, font_size)\n",
    "        \n",
    "        print('font_size: ', font_size)\n",
    "        \n",
    "        "
   ]
  },
  {
   "cell_type": "code",
   "execution_count": null,
   "metadata": {},
   "outputs": [],
   "source": [
    "# returned = draw_text(out, 'PIERWSZE CZYTANIE', current_path, size_x_left, size_y, 26)\n",
    "# returned['picture'].show()\n",
    "# returned['picture'].save(current_path / f'{text}.png')"
   ]
  },
  {
   "cell_type": "code",
   "execution_count": 138,
   "metadata": {},
   "outputs": [],
   "source": [
    "font_size_psalm = 28\n",
    "font_size_small_psalm = int(0.75 * font_size_psalm)\n",
    "\n",
    "tahoma = r\"C:\\Windows\\Fonts\\tahoma.ttf\"\n",
    "tahoma_bold = r\"C:\\Windows\\Fonts\\tahomabd.ttf\"\n",
    "\n",
    "fnt_psalm = ImageFont.truetype(tahoma, font_size_psalm) \n",
    "fnt_b_psalm = ImageFont.truetype(tahoma_bold, font_size_psalm)\n",
    "fnt_s_psalm = ImageFont.truetype(tahoma, font_size_small_psalm)"
   ]
  },
  {
   "cell_type": "code",
   "execution_count": 98,
   "metadata": {},
   "outputs": [
    {
     "data": {
      "text/plain": [
       "['J 8, 1-11',\n",
       " 'W roku C, jeżeli Ewangelię J 8,1-11 odczytano w niedzielę, należy odczytać następującą: J 8,12-20 (druga z kolei)',\n",
       " 'Chrystus ocala cudzołożnicę',\n",
       " 'Słowa Ewangelii według Świętego Jana',\n",
       " 'Jezus udał się na Górę Oliwną, ale o brzasku zjawił się znów w świątyni. Cały lud schodził się do Niego, a On, usiadłszy, nauczał ich.',\n",
       " 'Wówczas uczeni w Piśmie i faryzeusze przyprowadzili do Niego kobietę, którą dopiero co pochwycono na cudzołóstwie, a postawiwszy ją pośrodku, powiedzieli do Niego: «Nauczycielu, tę kobietę dopiero co pochwycono na cudzołóstwie. W Prawie Mojżesz nakazał nam takie kamienować. A Ty co powiesz?» Mówili to, wystawiając Go na próbę,\\xa0aby mieli o co Go oskarżyć.',\n",
       " 'Lecz Jezus, schyliwszy się, pisał palcem po ziemi. A kiedy w dalszym ciągu Go pytali, podniósł się i rzekł do nich: «Kto z was jest bez grzechu, niech pierwszy rzuci w nią kamieniem». I powtórnie schyliwszy się, pisał na ziemi.',\n",
       " 'Kiedy to usłyszeli, jeden po drugim zaczęli odchodzić, poczynając od starszych, aż do ostatnich. Pozostał tylko Jezus i kobieta stojąca na środku.',\n",
       " 'Wówczas Jezus, podniósłszy się, rzekł do niej: «Kobieto, gdzież oni są? Nikt cię nie potępił?» A ona odrzekła: «Nikt, Panie!» Rzekł do niej Jezus: «I Ja ciebie nie potępiam. Idź i odtąd już nie grzesz».',\n",
       " 'Oto słowo Pańskie.',\n",
       " 'W roku C, jeżeli tę Ewangelię odczytano w niedzielę, należy odczytać następującą:']"
      ]
     },
     "execution_count": 98,
     "metadata": {},
     "output_type": "execute_result"
    }
   ],
   "source": [
    "# content_dic[\"PSALM RESPONSORYJNY\"].insert(16, 'Refren')\n",
    "content_dic[\"PSALM RESPONSORYJNY\"]"
   ]
  },
  {
   "cell_type": "code",
   "execution_count": 99,
   "metadata": {},
   "outputs": [
    {
     "name": "stdout",
     "output_type": "stream",
     "text": [
      "9\n"
     ]
    },
    {
     "data": {
      "text/plain": [
       "['J 8, 1-11',\n",
       " 'W roku C, jeżeli Ewangelię J 8,1-11 odczytano w niedzielę, należy odczytać następującą: J 8,12-20 (druga z kolei)',\n",
       " 'Chrystus ocala cudzołożnicę',\n",
       " 'Słowa Ewangelii według Świętego Jana',\n",
       " 'Jezus udał się na Górę Oliwną, ale o brzasku zjawił się znów w świątyni. Cały lud schodził się do Niego, a On, usiadłszy, nauczał ich.',\n",
       " 'Wówczas uczeni w Piśmie i faryzeusze przyprowadzili do Niego kobietę, którą dopiero co pochwycono na cudzołóstwie, a postawiwszy ją pośrodku, powiedzieli do Niego: «Nauczycielu, tę kobietę dopiero co pochwycono na cudzołóstwie. W Prawie Mojżesz nakazał nam takie kamienować. A Ty co powiesz?» Mówili to, wystawiając Go na próbę,\\xa0aby mieli o co Go oskarżyć.',\n",
       " 'Lecz Jezus, schyliwszy się, pisał palcem po ziemi. A kiedy w dalszym ciągu Go pytali, podniósł się i rzekł do nich: «Kto z was jest bez grzechu, niech pierwszy rzuci w nią kamieniem». I powtórnie schyliwszy się, pisał na ziemi.',\n",
       " 'Kiedy to usłyszeli, jeden po drugim zaczęli odchodzić, poczynając od starszych, aż do ostatnich. Pozostał tylko Jezus i kobieta stojąca na środku.',\n",
       " 'Wówczas Jezus, podniósłszy się, rzekł do niej: «Kobieto, gdzież oni są? Nikt cię nie potępił?» A ona odrzekła: «Nikt, Panie!» Rzekł do niej Jezus: «I Ja ciebie nie potępiam. Idź i odtąd już nie grzesz».',\n",
       " 'Oto słowo Pańskie.',\n",
       " 'W roku C, jeżeli tę Ewangelię odczytano w niedzielę, należy odczytać następującą:']"
      ]
     },
     "execution_count": 99,
     "metadata": {},
     "output_type": "execute_result"
    }
   ],
   "source": [
    "print(len(content_dic[\"PSALM RESPONSORYJNY\"][0]))\n",
    "if len(content_dic[\"PSALM RESPONSORYJNY\"][0]) > 35:\n",
    "    content_dic[\"PSALM RESPONSORYJNY\"][0] = content_dic[\"PSALM RESPONSORYJNY\"][0].split(',')[0]\n",
    "    \n",
    "# del content_dic[\"PSALM RESPONSORYJNY\"][-2]\n",
    "# content_dic[\"PSALM RESPONSORYJNY\"].insert(-1, 'pójdźcie, narody, oddajcie pokłon Panu,')\n",
    "# content_dic[\"PSALM RESPONSORYJNY\"].insert(-1, 'bo wielka światłość zstąpiła dzisiaj na ziemię.')\n",
    "content_dic[\"PSALM RESPONSORYJNY\"]"
   ]
  },
  {
   "cell_type": "code",
   "execution_count": 139,
   "metadata": {},
   "outputs": [
    {
     "name": "stdout",
     "output_type": "stream",
     "text": [
      "['ŚPIEW PRZED EWANGELIĄ', 'Por. Ez 33, 11', 'Aklamacja: Chwała Tobie, Słowo Boże.', 'Pan mówi: Nie chcę śmierci grzesznika,', 'lecz pragnę, aby się nawrócił i miał życie.', 'Aklamacja: Chwała Tobie, Słowo Boże.']\n"
     ]
    },
    {
     "ename": "IndexError",
     "evalue": "list index out of range",
     "output_type": "error",
     "traceback": [
      "\u001b[1;31m---------------------------------------------------------------------------\u001b[0m",
      "\u001b[1;31mIndexError\u001b[0m                                Traceback (most recent call last)",
      "Cell \u001b[1;32mIn[139], line 38\u001b[0m\n\u001b[0;32m     35\u001b[0m         draw\u001b[38;5;241m.\u001b[39mtext((x_distance\u001b[38;5;241m*\u001b[39m\u001b[38;5;241m2\u001b[39m, y_text\u001b[38;5;241m+\u001b[39my_further_distance\u001b[38;5;241m*\u001b[39m\u001b[38;5;241m2\u001b[39m\u001b[38;5;241m+\u001b[39my_distance), acclamation[\u001b[38;5;241m5\u001b[39m], font\u001b[38;5;241m=\u001b[39mfnt_psalm, fill\u001b[38;5;241m=\u001b[39m\u001b[38;5;124m\"\u001b[39m\u001b[38;5;124mblack\u001b[39m\u001b[38;5;124m\"\u001b[39m, anchor\u001b[38;5;241m=\u001b[39m\u001b[38;5;124m'\u001b[39m\u001b[38;5;124mlm\u001b[39m\u001b[38;5;124m'\u001b[39m)\n\u001b[0;32m     37\u001b[0m         draw\u001b[38;5;241m.\u001b[39mtext((x_distance, y_text\u001b[38;5;241m+\u001b[39my_further_distance\u001b[38;5;241m*\u001b[39m\u001b[38;5;241m3\u001b[39m\u001b[38;5;241m+\u001b[39my_distance), \u001b[38;5;124m\"\u001b[39m\u001b[38;5;124mAklamacja: \u001b[39m\u001b[38;5;124m\"\u001b[39m, font\u001b[38;5;241m=\u001b[39mfnt_b_psalm, fill\u001b[38;5;241m=\u001b[39m\u001b[38;5;124m\"\u001b[39m\u001b[38;5;124mred\u001b[39m\u001b[38;5;124m\"\u001b[39m, anchor\u001b[38;5;241m=\u001b[39m\u001b[38;5;124m'\u001b[39m\u001b[38;5;124mlm\u001b[39m\u001b[38;5;124m'\u001b[39m) \n\u001b[1;32m---> 38\u001b[0m         draw\u001b[38;5;241m.\u001b[39mtext((x_distance\u001b[38;5;241m*\u001b[39m\u001b[38;5;241m4\u001b[39m, y_text\u001b[38;5;241m+\u001b[39my_further_distance\u001b[38;5;241m*\u001b[39m\u001b[38;5;241m3\u001b[39m\u001b[38;5;241m+\u001b[39my_distance), \u001b[43macclamation\u001b[49m\u001b[43m[\u001b[49m\u001b[38;5;241;43m6\u001b[39;49m\u001b[43m]\u001b[49m[\u001b[38;5;241m10\u001b[39m:], font\u001b[38;5;241m=\u001b[39mfnt_b_psalm, fill\u001b[38;5;241m=\u001b[39m\u001b[38;5;124m\"\u001b[39m\u001b[38;5;124mblack\u001b[39m\u001b[38;5;124m\"\u001b[39m, anchor\u001b[38;5;241m=\u001b[39m\u001b[38;5;124m'\u001b[39m\u001b[38;5;124mlm\u001b[39m\u001b[38;5;124m'\u001b[39m)\n\u001b[0;32m     40\u001b[0m         \u001b[38;5;28;01mbreak\u001b[39;00m  \n\u001b[0;32m     42\u001b[0m \u001b[38;5;66;03m# TODO\u001b[39;00m\n",
      "\u001b[1;31mIndexError\u001b[0m: list index out of range"
     ]
    }
   ],
   "source": [
    "out_psalm = copy.deepcopy(out)\n",
    "draw = ImageDraw.Draw(out_psalm) \n",
    "\n",
    "y_distance = font_size_psalm * 0.8\n",
    "y_further_distance = font_size_psalm * 1.1\n",
    "x_distance = font_size_psalm * 2\n",
    "\n",
    "draw.text((x_distance, y_further_distance*2), \"PSALM RESPONSORYJNY\", font=fnt_b_psalm, fill=\"red\", anchor='lm')\n",
    "draw.text((1000, y_further_distance*2), content_dic[\"PSALM RESPONSORYJNY\"][0], font=fnt_b_psalm, fill=\"red\", anchor='rm')\n",
    "draw.text((x_distance, y_further_distance*3), \"Refren: \", font=fnt_b_psalm, fill=\"red\", anchor='lm')\n",
    "draw.text((x_distance*3, y_further_distance*3), content_dic[\"PSALM RESPONSORYJNY\"][1][7:], font=fnt_b_psalm, fill=\"black\", anchor='lm')\n",
    "\n",
    "# draw.text((100, 300), content_dic[\"PSALM RESPONSORYJNY\"][3], font=fnt_psalm, fill=\"black\", anchor='lm')\n",
    "y_text = y_further_distance*4\n",
    "for count, element in enumerate(content_dic[\"PSALM RESPONSORYJNY\"][2:]):\n",
    "    # lines = textwrap.wrap(second_element[2+count], width=80)\n",
    "    # for line in lines:\n",
    "    if \"Refren\" in element :\n",
    "        y_text += y_further_distance / 2\n",
    "        draw.text((x_distance, y_text), \"Refren: \", font=fnt_b_psalm, fill=\"red\", anchor='lm')\n",
    "        draw.text((x_distance*3, y_text), content_dic[\"PSALM RESPONSORYJNY\"][1][7:], font=fnt_b_psalm, fill=\"black\", anchor='lm')\n",
    "        y_text += y_further_distance  / 2\n",
    "    elif \"ŚPIEW PRZED EWANGELIĄ\" in element:\n",
    "        # print(\"NUMER: \", inner_count)\n",
    "        acclamation = content_dic[\"PSALM RESPONSORYJNY\"][count+2:]\n",
    "        # if 'ŚPIEW' in acclamation[0]:\n",
    "        #     acclamation.insert(1, '')\n",
    "        print(acclamation)\n",
    "        draw.text((x_distance, y_text), \"AKLAMACJA PRZED EWANGELIĄ\", font=fnt_b_psalm, fill=\"red\", anchor='lm')\n",
    "        draw.text((1000, y_text), acclamation[1], font=fnt_b_psalm, fill=\"red\", anchor='rm')\n",
    "        draw.text((x_distance, y_text+y_further_distance), \"Aklamacja: \", font=fnt_b_psalm, fill=\"red\", anchor='lm')\n",
    "        draw.text((x_distance*4, y_text+y_further_distance), acclamation[2][10:], font=fnt_b_psalm, fill=\"black\", anchor='lm')\n",
    "        draw.text((x_distance*2, y_text+y_further_distance*2), acclamation[3] + ' ' + acclamation[4], font=fnt_psalm, fill=\"black\", anchor='lm')\n",
    "        # draw.text((x_distance*2, y_text+y_further_distance*2+y_distance), acclamation[4], font=fnt_psalm, fill=\"black\", anchor='lm')\n",
    "        draw.text((x_distance*2, y_text+y_further_distance*2+y_distance), acclamation[5], font=fnt_psalm, fill=\"black\", anchor='lm')\n",
    "\n",
    "        draw.text((x_distance, y_text+y_further_distance*3+y_distance), \"Aklamacja: \", font=fnt_b_psalm, fill=\"red\", anchor='lm') \n",
    "        draw.text((x_distance*4, y_text+y_further_distance*3+y_distance), acclamation[6][10:], font=fnt_b_psalm, fill=\"black\", anchor='lm')\n",
    "\n",
    "        break  \n",
    "\n",
    "# TODO\n",
    "    elif 'albo' in element:\n",
    "        continue\n",
    "\n",
    "    else:\n",
    "        draw.text((x_distance*2, y_text), element, font=fnt_psalm, fill=\"black\", anchor='lm')\n",
    "    y_text += y_distance\n",
    "\n",
    "out_psalm.show()\n",
    "out_psalm.save(current_path / 'psalm.png')\n",
    "# out_psalm.save('./2024-01-08/psalm.png')\n",
    "\n",
    "out_psalm = copy.deepcopy(out)"
   ]
  },
  {
   "cell_type": "code",
   "execution_count": null,
   "metadata": {},
   "outputs": [],
   "source": [
    "# os.makedirs('./2024-01-08/', exist_ok=True)"
   ]
  },
  {
   "cell_type": "code",
   "execution_count": null,
   "metadata": {},
   "outputs": [
    {
     "data": {
      "text/plain": [
       "WindowsPath('C:/Users/Acne/Pictures/Cyfrowa Biblia/2024-01-26')"
      ]
     },
     "execution_count": 134,
     "metadata": {},
     "output_type": "execute_result"
    }
   ],
   "source": [
    "current_path"
   ]
  },
  {
   "cell_type": "code",
   "execution_count": null,
   "metadata": {},
   "outputs": [],
   "source": [
    "# content_dic[\"EWANGELIA\"]"
   ]
  },
  {
   "cell_type": "code",
   "execution_count": 140,
   "metadata": {},
   "outputs": [
    {
     "data": {
      "text/plain": [
       "dict_keys(['PIERWSZE CZYTANIE', 'PSALM RESPONSORYJNY', 'EWANGELIA'])"
      ]
     },
     "execution_count": 140,
     "metadata": {},
     "output_type": "execute_result"
    }
   ],
   "source": [
    "content_dic.keys()"
   ]
  },
  {
   "cell_type": "code",
   "execution_count": null,
   "metadata": {},
   "outputs": [],
   "source": [
    "# content_dic['PIERWSZE CZYTANIE cz.1'] = content_dic['PIERWSZE CZYTANIE'][:6]\n",
    "# content_dic['PIERWSZE CZYTANIE cz.2'] = content_dic['PIERWSZE CZYTANIE'][6:]\n",
    "# returned = draw_text_pagination(out, 'PIERWSZE CZYTANIE cz.1', current_path, size_x_left, size_y, 32)\n",
    "# returned['picture'].show()\n",
    "# returned['picture'].save(current_path / f'{text}1.png')\n",
    "# returned = draw_text_pagination_second(out, 'PIERWSZE CZYTANIE cz.2', current_path, size_x_left, size_y, 32)\n",
    "# returned['picture'].show()\n",
    "# returned['picture'].save(current_path / f'{text}2.png')"
   ]
  },
  {
   "cell_type": "code",
   "execution_count": null,
   "metadata": {},
   "outputs": [],
   "source": [
    "# text = 'PIERWSZE CZYTANIE'\n",
    "# content_dic[f'{text} cz.1'] = content_dic[f'{text}'][:6]\n",
    "# content_dic[f'{text} cz.2'] = content_dic[f'{text}'][6:]\n",
    "# returned = draw_text_pagination_first(out, f'{text} cz.1', current_path, size_x_left, size_y, 30)\n",
    "# returned['picture'].show()\n",
    "# returned['picture'].save(current_path / f'{text}1.png')\n",
    "\n",
    "# returned = draw_text_pagination_second(out, f'{text} cz.2', current_path, size_x_left, size_y, 32)\n",
    "# returned['picture'].show()\n",
    "# returned['picture'].save(current_path / f'{text}2.png')"
   ]
  },
  {
   "cell_type": "code",
   "execution_count": null,
   "metadata": {},
   "outputs": [],
   "source": [
    "# content_dic['EWANGELIA'] = content_dic['EWANGELIA ']"
   ]
  },
  {
   "cell_type": "code",
   "execution_count": null,
   "metadata": {},
   "outputs": [],
   "source": [
    "# text = 'EWANGELIA'\n",
    "# content_dic['EWANGELIA cz.1'] = content_dic['EWANGELIA'][:7]\n",
    "# content_dic['EWANGELIA cz.2'] = content_dic['EWANGELIA'][7:]\n",
    "# returned = draw_text_pagination_first(out, 'EWANGELIA cz.1', current_path, size_x_left, size_y, 32)\n",
    "# returned['picture'].show()\n",
    "# returned['picture'].save(current_path / f'{text}1.png')\n",
    "\n",
    "# returned = draw_text_pagination_second(out, 'EWANGELIA cz.2', current_path, size_x_left, size_y, 32)\n",
    "# returned['picture'].show()\n",
    "# returned['picture'].save(current_path / f'{text}2.png')"
   ]
  },
  {
   "cell_type": "code",
   "execution_count": null,
   "metadata": {},
   "outputs": [
    {
     "data": {
      "text/plain": [
       "['2 Tm 1,1-8',\n",
       " 'Żywa wiara Tymoteusza',\n",
       " 'Czytanie z Drugiego listu świętego Pawła Apostoła do Tymoteusza',\n",
       " 'Paweł, z woli Boga apostoł Chrystusa Jezusa, posłany dla głoszenia życia obiecanego w Chrystusie Jezusie, do Tymoteusza, swego umiłowanego dziecka. Łaska, miłosierdzie, pokój od Boga Ojca i Chrystusa Jezusa, naszego Pana.',\n",
       " 'Dziękuję Bogu, któremu służę jak moi przodkowie z czystym sumieniem, gdy zachowuję nieprzerwaną pamięć o tobie w moich modlitwach. W nocy i we dnie pragnę cię zobaczyć, pomny na twoje łzy, by napełniła mnie radość na wspomnienie wiary bez obłudy, jaka jest w tobie; ona to zamieszkała pierwej w twej babce Lois i w twej matce Eunice, a pewien jestem, że mieszka i w tobie.',\n",
       " 'Z tej właśnie przyczyny przypominam ci, abyś rozpalił na nowo charyzmat Boży, który jest w tobie przez włożenie moich rąk. Albowiem nie dał nam Bóg ducha bojaźni, ale mocy i miłości, i trzeźwego myślenia. Nie wstydź się zatem świadectwa naszego Pana ani mnie, Jego więźnia, lecz weź udział w trudach i przeciwnościach znoszonych dla Ewangelii według danej mocy Boga.',\n",
       " 'Oto słowo Boże']"
      ]
     },
     "execution_count": 141,
     "metadata": {},
     "output_type": "execute_result"
    }
   ],
   "source": [
    "content_dic['PIERWSZE CZYTANIE']"
   ]
  },
  {
   "cell_type": "code",
   "execution_count": null,
   "metadata": {},
   "outputs": [
    {
     "data": {
      "text/plain": [
       "['Łk 10,1-9',\n",
       " 'Rozesłanie uczniów',\n",
       " 'Słowa Ewangelii według świętego Łukasza',\n",
       " 'Spośród swoich uczniów wyznaczył Pan jeszcze innych, siedemdziesięciu dwóch, i wysłał ich po dwóch przed sobą do każdego miasta i miejscowości, dokąd sam przyjść zamierzał.',\n",
       " 'Powiedział też do nich: „Żniwo wprawdzie wielkie, ale robotników mało; proście więc Pana żniwa, żeby wyprawił robotników na swoje żniwo. Idźcie, oto was posyłam jak owce między wilki. Nie noście ze sobą trzosa ani torby, ani sandałów; i nikogo w drodze nie pozdrawiajcie.',\n",
       " 'Gdy do jakiego domu wejdziecie, najpierw mówcie: «Pokój temu domowi!» Jeśli tam mieszka człowiek godny pokoju, wasz pokój spocznie na nim; jeśli nie, powróci do was.',\n",
       " 'W tym samym domu zostańcie, jedząc i pijąc, co mają: bo zasługuje robotnik na swą zapłatę.',\n",
       " 'Nie przechodźcie z domu do domu. Jeśli do jakiego miasta wejdziecie i przyjmą was, jedzcie, co wam podadzą; uzdrawiajcie chorych, którzy tam są, i mówcie im: «Przybliżyło się do was królestwo Boże»”.',\n",
       " 'Oto słowo Pańskie.']"
      ]
     },
     "execution_count": 142,
     "metadata": {},
     "output_type": "execute_result"
    }
   ],
   "source": [
    "content_dic['EWANGELIA']"
   ]
  },
  {
   "cell_type": "code",
   "execution_count": null,
   "metadata": {},
   "outputs": [
    {
     "data": {
      "text/plain": [
       "[['',\n",
       "  'A reading from the Second Letter of St. Paul to Timothy 2 Tm 1:1-8',\n",
       "  'Paul, an Apostle of Christ Jesus by the will of God for the promise of life in Christ Jesus, to Timothy, my dear child: grace, mercy, and peace from God the Father and Christ Jesus our Lord.',\n",
       "  'I am grateful to God, whom I worship with a clear conscience as my ancestors did, as I remember you constantly in my prayers, night and day. I yearn to see you again, recalling your tears, so that I may be filled with joy, as I recall your sincere faith that first lived in your grandmother Lois and in your mother Eunice and that I am confident lives also in you.',\n",
       "  'For this reason, I remind you to stir into flame the gift of God that you have through the imposition of my hands. For God did not give us a spirit of cowardice but rather of power and love and self-control. So do not be ashamed of your testimony to our Lord, nor of me, a prisoner for his sake; but bear your share of hardship for the Gospel with the strength that comes from God.'],\n",
       " ['',\n",
       "  'From the Gospel according to Mark Mk 4:26-34',\n",
       "  'Jesus said to the crowds: “This is how it is with the Kingdom of God; it is as if a man were to scatter seed on the land and would sleep and rise night and day and the seed would sprout and grow, he knows not how. Of its own accord the land yields fruit, first the blade, then the ear, then the full grain in the ear. And when the grain is ripe, he wields the sickle at once, for the harvest has come.”',\n",
       "  'He said, “To what shall we compare the Kingdom of God, or what parable can we use for it? It is like a mustard seed that, when it is sown in the ground, is the smallest of all the seeds on the earth. But once it is sown, it springs up and becomes the largest of plants and puts forth large branches, so that the birds of the sky can dwell in its shade.” With many such parables he spoke the word to them as they were able to understand it. Without parables he did not speak to them, but to his own disciples he explained everything in private.']]"
      ]
     },
     "execution_count": 143,
     "metadata": {},
     "output_type": "execute_result"
    }
   ],
   "source": [
    "URL = f\"https://www.vaticannews.va/en/word-of-the-day/{str(today).replace('-', '/')}.html\"\n",
    "\n",
    "page = requests.get(URL)\n",
    "soup = BeautifulSoup(page.content, \"html.parser\")\n",
    "content_list = soup.find_all(\"div\", \"section__content\")[:2]\n",
    "content_list_text = [x.get_text().split('\\n') for x in content_list]\n",
    "for num, y in enumerate(content_list_text):\n",
    "    content_list_text[num] = [x.replace(\"\\\"\",\"\") for x in y]\n",
    "\n",
    "content_list_text"
   ]
  },
  {
   "cell_type": "code",
   "execution_count": 163,
   "metadata": {},
   "outputs": [
    {
     "data": {
      "text/plain": [
       "'2024-03-21'"
      ]
     },
     "execution_count": 163,
     "metadata": {},
     "output_type": "execute_result"
    }
   ],
   "source": [
    "str(today)"
   ]
  },
  {
   "cell_type": "code",
   "execution_count": 164,
   "metadata": {},
   "outputs": [
    {
     "data": {
      "text/plain": [
       "True"
      ]
     },
     "execution_count": 164,
     "metadata": {},
     "output_type": "execute_result"
    }
   ],
   "source": [
    "from instagrapi import Client\n",
    "cl = Client()\n",
    "cl.login('cyfrowa_biblia', 'Etgohome29.')"
   ]
  },
  {
   "cell_type": "code",
   "execution_count": 165,
   "metadata": {},
   "outputs": [],
   "source": [
    "current_path_folder = WindowsPath(r\"C:\\Users\\Acne\\Pictures\\Cyfrowa Biblia\\web\\\\\" + str(today))\n"
   ]
  },
  {
   "cell_type": "code",
   "execution_count": 166,
   "metadata": {},
   "outputs": [
    {
     "data": {
      "text/plain": [
       "['C:\\\\Users\\\\Acne\\\\Pictures\\\\Cyfrowa Biblia\\\\automatyzacja\\\\Cyber_bible\\\\web\\\\\\\\2024-03-21\\\\\\\\mateusztront_My_covenant_with_you_is_this_you_are_to_become_the_f0a7f4db-f6ef-406e-9a4a-9e1f673e07e2.jpg',\n",
       " 'C:\\\\Users\\\\Acne\\\\Pictures\\\\Cyfrowa Biblia\\\\automatyzacja\\\\Cyber_bible\\\\web\\\\\\\\2024-03-21\\\\\\\\PIERWSZE CZYTANIE.jpg',\n",
       " 'C:\\\\Users\\\\Acne\\\\Pictures\\\\Cyfrowa Biblia\\\\automatyzacja\\\\Cyber_bible\\\\web\\\\\\\\2024-03-21\\\\\\\\PSALM RESPONSORYJNY.jpg',\n",
       " 'C:\\\\Users\\\\Acne\\\\Pictures\\\\Cyfrowa Biblia\\\\automatyzacja\\\\Cyber_bible\\\\web\\\\\\\\2024-03-21\\\\\\\\EWANGELIA.jpg']"
      ]
     },
     "execution_count": 166,
     "metadata": {},
     "output_type": "execute_result"
    }
   ],
   "source": [
    "general_order = ['mateusz', 'PIERWSZE', 'PSALM', 'DRUGIE', 'EWANGELIA']\n",
    "current_order = []\n",
    "# for file in os.listdir(f'./web/{today}/'):\n",
    "current_order = [r'C:\\Users\\Acne\\Pictures\\Cyfrowa Biblia\\automatyzacja\\Cyber_bible\\web\\\\'+ str(today) + r'\\\\' + x for y in general_order for x in os.listdir(f'./web/{today}/') if y in x]\n",
    "current_order"
   ]
  },
  {
   "cell_type": "code",
   "execution_count": 167,
   "metadata": {},
   "outputs": [],
   "source": [
    "cap = \"\"\" Abram padł na oblicze, a Bóg tak do niego mówił:\n",
    "«Oto moje przymierze z tobą: staniesz się ojcem mnóstwa narodów. Nie będziesz więc odtąd nazywał się Abram, lecz imię twoje będzie Abraham, bo uczynię ciebie ojcem mnóstwa narodów. Sprawię, że będziesz niezmiernie płodny, tak że staniesz się ojcem narodów i pochodzić będą od ciebie królowie.\n",
    "Przymierze moje, które zawieram pomiędzy Mną a tobą oraz twoim potomstwem, będzie trwało przez pokolenia jako przymierze wieczne, abym był Bogiem twoim, a potem twego potomstwa. I oddaję tobie i twym przyszłym potomkom kraj, w którym przebywasz, cały kraj Kanaan, jako własność na wieki i będę ich Bogiem».\n",
    "Potem rzekł Bóg do Abrahama: «Ty zaś, a po tobie twoje potomstwo przez wszystkie pokolenia zachowujcie przymierze ze Mną».\n",
    "\n",
    "***\n",
    "Grafika wykonana za pomocą sztucznej inteligencji.\n",
    "\n",
    "#Bible #Biblia #czytanianadzis #słowoboze #bing #dalle3 #midjourney #catholicchurch #religion #religia #HolySpirit #DuchŚwięty #Zmartwychwstanie #Resurrection\n",
    "\"\"\""
   ]
  },
  {
   "cell_type": "code",
   "execution_count": 168,
   "metadata": {},
   "outputs": [
    {
     "data": {
      "text/plain": [
       "Media(pk=3328870424509799006, id='3328870424509799006_60024442982', code='C4yhgOUNdpe', taken_at=datetime.datetime(2024, 3, 21, 20, 18, 20, tzinfo=TzInfo(UTC)), media_type=8, image_versions2={'candidates': [{'width': 1024, 'height': 1024, 'url': 'https://scontent-waw2-2.cdninstagram.com/v/t51.29350-15/434112943_7186081351440592_6901392831191148104_n.jpg?se=7&stp=dst-jpg_e35&_nc_ht=scontent-waw2-2.cdninstagram.com&_nc_cat=104&_nc_ohc=Bt8ZfRRBAZ4AX8yc4lA&edm=AFrf_vIBAAAA&ccb=7-5&ig_cache_key=MzMyODg3MDQyMDYxNzU1ODQwMw%3D%3D.2-ccb7-5&oh=00_AfCKox629jfnu4LqxAoeRYyDBslEk3x2yxV9MJjFJjAdhQ&oe=6600CC46&_nc_sid=d31fa1', 'scans_profile': ''}, {'width': 320, 'height': 320, 'url': 'https://scontent-waw2-2.cdninstagram.com/v/t51.29350-15/434112943_7186081351440592_6901392831191148104_n.jpg?stp=dst-jpg_e35_s320x320&_nc_ht=scontent-waw2-2.cdninstagram.com&_nc_cat=104&_nc_ohc=Bt8ZfRRBAZ4AX8yc4lA&edm=AFrf_vIBAAAA&ccb=7-5&ig_cache_key=MzMyODg3MDQyMDYxNzU1ODQwMw%3D%3D.2-ccb7-5&oh=00_AfCrWe5ZY1_Qb-IJiEgQwhI9vxla8nM6QVSDyK6F8OayZQ&oe=6600CC46&_nc_sid=d31fa1', 'scans_profile': ''}]}, product_type='carousel_container', thumbnail_url=None, location=None, user=UserShort(pk='60024442982', username='cyfrowa_biblia', full_name='MT', profile_pic_url=Url('https://scontent-waw2-2.cdninstagram.com/v/t51.2885-19/348592906_1417202525698362_3631750772709257615_n.jpg?stp=dst-jpg_e0_s150x150&_nc_ht=scontent-waw2-2.cdninstagram.com&_nc_cat=106&_nc_ohc=RM2ZgKrmlesAX_0xPcm&edm=AFrf_vIBAAAA&ccb=7-5&oh=00_AfB7MQOqqx1u3numblXEmRYljIH9TvEedjsN5YQUBh_mCw&oe=66020A20&_nc_sid=d31fa1'), profile_pic_url_hd=None, is_private=False), comment_count=0, comments_disabled=False, commenting_disabled_for_viewer=False, like_count=0, play_count=0, has_liked=False, caption_text='Abram padł na oblicze, a Bóg tak do niego mówił:\\n«Oto moje przymierze z tobą: staniesz się ojcem mnóstwa narodów. Nie będziesz więc odtąd nazywał się Abram, lecz imię twoje będzie Abraham, bo uczynię ciebie ojcem mnóstwa narodów. Sprawię, że będziesz niezmiernie płodny, tak że staniesz się ojcem narodów i pochodzić będą od ciebie królowie.\\nPrzymierze moje, które zawieram pomiędzy Mną a tobą oraz twoim potomstwem, będzie trwało przez pokolenia jako przymierze wieczne, abym był Bogiem twoim, a potem twego potomstwa. I oddaję tobie i twym przyszłym potomkom kraj, w którym przebywasz, cały kraj Kanaan, jako własność na wieki i będę ich Bogiem».\\nPotem rzekł Bóg do Abrahama: «Ty zaś, a po tobie twoje potomstwo przez wszystkie pokolenia zachowujcie przymierze ze Mną».\\n\\n***\\nGrafika wykonana za pomocą sztucznej inteligencji.\\n\\n#Bible #Biblia #czytanianadzis #słowoboze #bing #dalle3 #midjourney #catholicchurch #religion #religia #HolySpirit #DuchŚwięty #Zmartwychwstanie #Resurrection', accessibility_caption=None, usertags=[], sponsor_tags=[], video_url=None, view_count=0, video_duration=0.0, title='', resources=[Resource(pk='3328870420617558403', video_url=None, thumbnail_url=Url('https://scontent-waw2-2.cdninstagram.com/v/t51.29350-15/434112943_7186081351440592_6901392831191148104_n.jpg?se=7&stp=dst-jpg_e35&efg=eyJ2ZW5jb2RlX3RhZyI6ImltYWdlX3VybGdlbi4xMDI0eDEwMjQuc2RyIn0&_nc_ht=scontent-waw2-2.cdninstagram.com&_nc_cat=104&_nc_ohc=Bt8ZfRRBAZ4AX8yc4lA&edm=AFrf_vIBAAAA&ccb=7-5&ig_cache_key=MzMyODg3MDQyMDYxNzU1ODQwMw%3D%3D.2-ccb7-5&oh=00_AfCKox629jfnu4LqxAoeRYyDBslEk3x2yxV9MJjFJjAdhQ&oe=6600CC46&_nc_sid=d31fa1'), media_type=1), Resource(pk='3328870420642548822', video_url=None, thumbnail_url=Url('https://scontent-waw2-2.cdninstagram.com/v/t51.29350-15/409117889_325490190117365_8049550988997328481_n.jpg?se=7&stp=dst-jpg_e35&efg=eyJ2ZW5jb2RlX3RhZyI6ImltYWdlX3VybGdlbi4xMDgweDEwODAuc2RyIn0&_nc_ht=scontent-waw2-2.cdninstagram.com&_nc_cat=105&_nc_ohc=OZ7A6HKqkhAAX_ZGGHu&edm=AFrf_vIBAAAA&ccb=7-5&ig_cache_key=MzMyODg3MDQyMDY0MjU0ODgyMg%3D%3D.2-ccb7-5&oh=00_AfBHeYPKNA0kHB3KSzg_WmZYQ55c_f0z1BIxcqbUZHDMzg&oe=6601E488&_nc_sid=d31fa1'), media_type=1), Resource(pk='3328870420609199625', video_url=None, thumbnail_url=Url('https://scontent-waw2-2.cdninstagram.com/v/t51.29350-15/434124005_375182032020784_4229297026408208715_n.jpg?se=7&stp=dst-jpg_e35&efg=eyJ2ZW5jb2RlX3RhZyI6ImltYWdlX3VybGdlbi4xMDgweDEwODAuc2RyIn0&_nc_ht=scontent-waw2-2.cdninstagram.com&_nc_cat=104&_nc_ohc=H1JsyWuElD4AX_jlBse&edm=AFrf_vIBAAAA&ccb=7-5&ig_cache_key=MzMyODg3MDQyMDYwOTE5OTYyNQ%3D%3D.2-ccb7-5&oh=00_AfBtL7nrcKiHyHRSZS2McjljVVdIcN3PsvO16wTIZC3S2A&oe=66014B59&_nc_sid=d31fa1'), media_type=1), Resource(pk='3328870420642700503', video_url=None, thumbnail_url=Url('https://scontent-waw2-2.cdninstagram.com/v/t51.29350-15/409142224_752840863489108_7998927640781162870_n.jpg?se=7&stp=dst-jpg_e35&efg=eyJ2ZW5jb2RlX3RhZyI6ImltYWdlX3VybGdlbi4xMDgweDEwODAuc2RyIn0&_nc_ht=scontent-waw2-2.cdninstagram.com&_nc_cat=104&_nc_ohc=b_ttVha6g3wAX_x3PUf&edm=AFrf_vIBAAAA&ccb=7-5&ig_cache_key=MzMyODg3MDQyMDY0MjcwMDUwMw%3D%3D.2-ccb7-5&oh=00_AfC8fMmu4L6UYis-RCVvlakOyK5Cb34aSpvsBtO3z-2Niw&oe=66009F0B&_nc_sid=d31fa1'), media_type=1)], clips_metadata={})"
      ]
     },
     "execution_count": 168,
     "metadata": {},
     "output_type": "execute_result"
    }
   ],
   "source": [
    "cl.album_upload(paths=current_order, caption=cap)"
   ]
  },
  {
   "cell_type": "code",
   "execution_count": null,
   "metadata": {},
   "outputs": [
    {
     "data": {
      "text/plain": [
       "Media(pk=3317921935806318197, id='3317921935806318197_60024442982', code='C4LoGvoNkZ1', taken_at=datetime.datetime(2024, 3, 6, 17, 45, 38, tzinfo=TzInfo(UTC)), media_type=1, image_versions2={'candidates': [{'width': 1024, 'height': 1024, 'url': 'https://scontent-waw1-1.cdninstagram.com/v/t51.29350-15/431714566_1628923351181954_1314764076689941582_n.jpg?se=7&stp=dst-jpg_e35&efg=eyJ2ZW5jb2RlX3RhZyI6ImltYWdlX3VybGdlbi4xMDI0eDEwMjQuc2RyIn0&_nc_ht=scontent-waw1-1.cdninstagram.com&_nc_cat=102&_nc_ohc=halN0V307GUAX-WHXJ4&edm=ACqnv0EBAAAA&ccb=7-5&ig_cache_key=MzMxNzkyMTkzNTgwNjMxODE5Nw%3D%3D.2-ccb7-5&oh=00_AfCfmi_Xjayj6teOxwkuocxN6KPmIc1JU4_DI019WDiGKQ&oe=65EC4659&_nc_sid=7698e5', 'scans_profile': 'e35', 'estimated_scans_sizes': [16059, 32118, 48177, 64236, 80295, 96916, 117325, 130661, 144531]}, {'width': 360, 'height': 360, 'url': 'https://scontent-waw1-1.cdninstagram.com/v/t51.29350-15/431714566_1628923351181954_1314764076689941582_n.jpg?stp=dst-jpg_e35_s360x360&efg=eyJ2ZW5jb2RlX3RhZyI6ImltYWdlX3VybGdlbi4xMDI0eDEwMjQuc2RyIn0&_nc_ht=scontent-waw1-1.cdninstagram.com&_nc_cat=102&_nc_ohc=halN0V307GUAX-WHXJ4&edm=ACqnv0EBAAAA&ccb=7-5&ig_cache_key=MzMxNzkyMTkzNTgwNjMxODE5Nw%3D%3D.2-ccb7-5&oh=00_AfAbA8PECx4j4kwK7Pv-vzHqgjK0zc-aL8U2ufolHkRSig&oe=65EC4659&_nc_sid=7698e5', 'scans_profile': 'e35', 'estimated_scans_sizes': [3700, 7401, 11102, 14803, 18504, 23099, 298331, 33308, 33308]}]}, product_type='feed', thumbnail_url=Url('https://scontent-waw1-1.cdninstagram.com/v/t51.29350-15/431714566_1628923351181954_1314764076689941582_n.jpg?se=7&stp=dst-jpg_e35&efg=eyJ2ZW5jb2RlX3RhZyI6ImltYWdlX3VybGdlbi4xMDI0eDEwMjQuc2RyIn0&_nc_ht=scontent-waw1-1.cdninstagram.com&_nc_cat=102&_nc_ohc=halN0V307GUAX-WHXJ4&edm=ACqnv0EBAAAA&ccb=7-5&ig_cache_key=MzMxNzkyMTkzNTgwNjMxODE5Nw%3D%3D.2-ccb7-5&oh=00_AfCfmi_Xjayj6teOxwkuocxN6KPmIc1JU4_DI019WDiGKQ&oe=65EC4659&_nc_sid=7698e5'), location=None, user=UserShort(pk='60024442982', username='cyfrowa_biblia', full_name='MT', profile_pic_url=Url('https://scontent-waw1-1.cdninstagram.com/v/t51.2885-19/348592906_1417202525698362_3631750772709257615_n.jpg?stp=dst-jpg_e0_s150x150&_nc_ht=scontent-waw1-1.cdninstagram.com&_nc_cat=106&_nc_ohc=hjtdFptBhyoAX8eIBtm&edm=ACqnv0EBAAAA&ccb=7-5&oh=00_AfAwuJO6sLOV6R8Dfbi4AeZ7j5ADnWSTTdUDsMGd1xL6vg&oe=65EE43A0&_nc_sid=7698e5'), profile_pic_url_hd=None, is_private=False), comment_count=0, comments_disabled=False, commenting_disabled_for_viewer=False, like_count=0, play_count=0, has_liked=False, caption_text='Description', accessibility_caption=None, usertags=[], sponsor_tags=[], video_url=None, view_count=0, video_duration=0.0, title='', resources=[], clips_metadata={})"
      ]
     },
     "execution_count": 76,
     "metadata": {},
     "output_type": "execute_result"
    }
   ],
   "source": [
    "cl.photo_upload(WindowsPath('C:/Users/Acne/Pictures/Cyfrowa Biblia/automatyzacja/Cyber_bible/web/2024-03-06/mateusztront_Therefore_whoever_breaks_one_of_the_least_of_these_970a3d77-de79-4f26-93ee-2d5d5f7f02fc.png'), 'Description')"
   ]
  }
 ],
 "metadata": {
  "kernelspec": {
   "display_name": "Python 3",
   "language": "python",
   "name": "python3"
  },
  "language_info": {
   "codemirror_mode": {
    "name": "ipython",
    "version": 3
   },
   "file_extension": ".py",
   "mimetype": "text/x-python",
   "name": "python",
   "nbconvert_exporter": "python",
   "pygments_lexer": "ipython3",
   "version": "3.10.8"
  },
  "orig_nbformat": 4,
  "vscode": {
   "interpreter": {
    "hash": "c5d4acb655fd02b6960c18b8a81a301b5fb3493440abb8c937c5545b8a1d8632"
   }
  }
 },
 "nbformat": 4,
 "nbformat_minor": 2
}
